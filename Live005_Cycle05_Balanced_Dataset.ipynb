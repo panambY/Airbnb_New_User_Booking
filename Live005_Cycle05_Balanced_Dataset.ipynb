{
 "cells": [
  {
   "cell_type": "markdown",
   "metadata": {
    "heading_collapsed": true
   },
   "source": [
    "# 0.0 Understand the Problem"
   ]
  },
  {
   "cell_type": "markdown",
   "metadata": {
    "hidden": true
   },
   "source": [
    "- Purpose of the problem:\n",
    "    - 1.0 Prediction of the first destination that a new user will choose.\n",
    "        \n",
    "    -- Why?\n",
    "        - What kind of Airbnb business model?\n",
    "            - Marketplace (Connects people who offer accommodation, with people looking for accommodation)\n",
    "            - Offer (people offering accommodation)\n",
    "                - Portfolio Size\n",
    "                - Diversity / Density of the Portfolio\n",
    "                - Average rental price\n",
    "                                \n",
    "            - Demand (people looking for accommodation)\n",
    "                - Number of users\n",
    "                - LTV (Lifetime Value)\n",
    "                - CAC (Client Acquisition Cost)\n",
    "                \n",
    "                \n",
    "                Gross Revenue = (Fee * Customer Number) - CAC\n",
    "        \n",
    "- Solution Proposition <br>\n",
    "\n",
    "    - Forecast model of the first destination of a new user\n",
    "    - 1.0 Predictions and save to a database table\n",
    "    - 2.0 API\n",
    "        - Input: user and its characteristics\n",
    "        - Output: user and its characteristics with ** destination prediction **\n",
    "        \n",
    "    - 16 cycles"
   ]
  },
  {
   "cell_type": "markdown",
   "metadata": {},
   "source": [
    "# <font color='red'> Ciclo05: Balanced Dataset </font>"
   ]
  },
  {
   "cell_type": "markdown",
   "metadata": {
    "ExecuteTime": {
     "end_time": "2020-09-02T03:09:55.592975Z",
     "start_time": "2020-09-02T03:09:55.549093Z"
    },
    "heading_collapsed": true
   },
   "source": [
    "## 0.0 Imports"
   ]
  },
  {
   "cell_type": "code",
   "execution_count": 87,
   "metadata": {
    "ExecuteTime": {
     "end_time": "2020-10-11T03:52:49.969812Z",
     "start_time": "2020-10-11T03:52:49.965180Z"
    },
    "hidden": true
   },
   "outputs": [],
   "source": [
    "import pandas                                     as pd\n",
    "import numpy                                      as np\n",
    "import seaborn                                    as sns\n",
    "\n",
    "from IPython.core.display  import HTML\n",
    "from sklearn               import model_selection as ms\n",
    "from sklearn               import preprocessing   as pp\n",
    "from sklearn               import metrics         as m\n",
    "\n",
    "from keras                 import models          as ml\n",
    "from keras                 import layers          as l\n",
    "\n",
    "from scikitplot            import metrics         as mt\n",
    "from scipy                 import stats           as ss\n",
    "\n",
    "from imblearn              import under_sampling  as us\n",
    "from imblearn              import over_sampling   as oversamp\n",
    "from imblearn              import combine         as c"
   ]
  },
  {
   "cell_type": "markdown",
   "metadata": {
    "heading_collapsed": true,
    "hidden": true
   },
   "source": [
    "### 0.1 Helper Functions"
   ]
  },
  {
   "cell_type": "code",
   "execution_count": 88,
   "metadata": {
    "ExecuteTime": {
     "end_time": "2020-10-11T03:52:50.342236Z",
     "start_time": "2020-10-11T03:52:49.971865Z"
    },
    "hidden": true
   },
   "outputs": [],
   "source": [
    "def jupyter_settings():\n",
    "    %matplotlib inline\n",
    "    %pylab inline\n",
    "    \n",
    "    plt.style.use( 'bmh' )\n",
    "    plt.rcParams['figure.figsize'] = [25, 12]\n",
    "    plt.rcParams['font.size'] = 24\n",
    "    \n",
    "    display( HTML( '<style>.container { width:100% !important; }</style>') )\n",
    "    pd.options.display.max_columns = None\n",
    "    pd.options.display.max_rows = None\n",
    "    pd.set_option( 'display.expand_frame_repr', False )\n",
    "    \n",
    "    sns.set()\n",
    "\n",
    "def cramer_v( x, y ):\n",
    "    cm = pd.crosstab( x, y ).values\n",
    "    n = cm.sum()\n",
    "    r, k = cm.shape\n",
    "    \n",
    "    chi2 = ss.chi2_contingency( cm )[0]\n",
    "    chi2corr = max( 0, chi2 - (k-1)*(r-1)/(n-1) )\n",
    "    \n",
    "    kcorr = k - (k-1)**2/(n-1)\n",
    "    rcorr = r - (r-1)**2/(n-1)\n",
    "    \n",
    "    return np.sqrt( (chi2corr/n) / ( min( kcorr-1, rcorr-1 ) ) )"
   ]
  },
  {
   "cell_type": "code",
   "execution_count": 89,
   "metadata": {
    "ExecuteTime": {
     "end_time": "2020-10-11T03:52:51.253578Z",
     "start_time": "2020-10-11T03:52:50.350248Z"
    },
    "hidden": true
   },
   "outputs": [
    {
     "name": "stdout",
     "output_type": "stream",
     "text": [
      "Populating the interactive namespace from numpy and matplotlib\n"
     ]
    },
    {
     "name": "stderr",
     "output_type": "stream",
     "text": [
      "/home/victorpereira/.pyenv/versions/3.8.0/envs/airbnb_predict_first_booking/lib/python3.8/site-packages/IPython/core/magics/pylab.py:159: UserWarning: pylab import has clobbered these variables: ['random']\n",
      "`%matplotlib` prevents importing * from pylab and numpy\n",
      "  warn(\"pylab import has clobbered these variables: %s\"  % clobbered +\n"
     ]
    },
    {
     "data": {
      "text/html": [
       "<style>.container { width:100% !important; }</style>"
      ],
      "text/plain": [
       "<IPython.core.display.HTML object>"
      ]
     },
     "metadata": {},
     "output_type": "display_data"
    }
   ],
   "source": [
    "jupyter_settings()"
   ]
  },
  {
   "cell_type": "markdown",
   "metadata": {
    "heading_collapsed": true,
    "hidden": true
   },
   "source": [
    "### 0.2 Loading Data"
   ]
  },
  {
   "cell_type": "code",
   "execution_count": 90,
   "metadata": {
    "ExecuteTime": {
     "end_time": "2020-10-11T03:52:53.254542Z",
     "start_time": "2020-10-11T03:52:51.261821Z"
    },
    "hidden": true
   },
   "outputs": [
    {
     "data": {
      "text/plain": [
       "(213451, 16)"
      ]
     },
     "execution_count": 90,
     "metadata": {},
     "output_type": "execute_result"
    }
   ],
   "source": [
    "df_raw = pd.read_csv( 'data/train_users_2.csv', low_memory=True )\n",
    "df_raw.shape"
   ]
  },
  {
   "cell_type": "code",
   "execution_count": 91,
   "metadata": {
    "ExecuteTime": {
     "end_time": "2020-10-11T03:53:05.876456Z",
     "start_time": "2020-10-11T03:52:53.255992Z"
    },
    "hidden": true
   },
   "outputs": [
    {
     "data": {
      "text/plain": [
       "(10567737, 6)"
      ]
     },
     "execution_count": 91,
     "metadata": {},
     "output_type": "execute_result"
    }
   ],
   "source": [
    "df_sessions = pd.read_csv( 'data/sessions.csv', low_memory=True )\n",
    "df_sessions.shape"
   ]
  },
  {
   "cell_type": "markdown",
   "metadata": {
    "heading_collapsed": true
   },
   "source": [
    "## 1.0 Data Description"
   ]
  },
  {
   "cell_type": "code",
   "execution_count": 92,
   "metadata": {
    "ExecuteTime": {
     "end_time": "2020-10-11T03:53:05.895235Z",
     "start_time": "2020-10-11T03:53:05.877693Z"
    },
    "hidden": true
   },
   "outputs": [],
   "source": [
    "df1 = df_raw.copy()"
   ]
  },
  {
   "cell_type": "markdown",
   "metadata": {
    "heading_collapsed": true,
    "hidden": true
   },
   "source": [
    "### 1.1 Data Dimension"
   ]
  },
  {
   "cell_type": "code",
   "execution_count": 93,
   "metadata": {
    "ExecuteTime": {
     "end_time": "2020-10-11T03:53:06.247390Z",
     "start_time": "2020-10-11T03:53:05.897873Z"
    },
    "hidden": true
   },
   "outputs": [
    {
     "name": "stdout",
     "output_type": "stream",
     "text": [
      "Number of rows: 213451\n",
      "Number of columns: 16\n"
     ]
    }
   ],
   "source": [
    "print( 'Number of rows: {}'.format( df1.shape[0]) )\n",
    "print( 'Number of columns: {}'.format( df1.shape[1]) )"
   ]
  },
  {
   "cell_type": "code",
   "execution_count": 94,
   "metadata": {
    "ExecuteTime": {
     "end_time": "2020-10-11T03:53:06.472267Z",
     "start_time": "2020-10-11T03:53:06.254520Z"
    },
    "hidden": true
   },
   "outputs": [
    {
     "name": "stdout",
     "output_type": "stream",
     "text": [
      "Number of rows: 10567737\n",
      "Number of columns: 6\n"
     ]
    }
   ],
   "source": [
    "print( 'Number of rows: {}'.format( df_sessions.shape[0]) )\n",
    "print( 'Number of columns: {}'.format( df_sessions.shape[1]) )"
   ]
  },
  {
   "cell_type": "markdown",
   "metadata": {
    "heading_collapsed": true,
    "hidden": true
   },
   "source": [
    "### 1.2 Data Type"
   ]
  },
  {
   "cell_type": "code",
   "execution_count": 95,
   "metadata": {
    "ExecuteTime": {
     "end_time": "2020-10-11T03:53:07.344685Z",
     "start_time": "2020-10-11T03:53:06.478439Z"
    },
    "hidden": true
   },
   "outputs": [
    {
     "data": {
      "text/plain": [
       "id                          object\n",
       "date_account_created        object\n",
       "timestamp_first_active       int64\n",
       "date_first_booking          object\n",
       "gender                      object\n",
       "age                        float64\n",
       "signup_method               object\n",
       "signup_flow                  int64\n",
       "language                    object\n",
       "affiliate_channel           object\n",
       "affiliate_provider          object\n",
       "first_affiliate_tracked     object\n",
       "signup_app                  object\n",
       "first_device_type           object\n",
       "first_browser               object\n",
       "country_destination         object\n",
       "dtype: object"
      ]
     },
     "execution_count": 95,
     "metadata": {},
     "output_type": "execute_result"
    }
   ],
   "source": [
    "df1.dtypes"
   ]
  },
  {
   "cell_type": "code",
   "execution_count": 96,
   "metadata": {
    "ExecuteTime": {
     "end_time": "2020-10-11T03:53:07.367717Z",
     "start_time": "2020-10-11T03:53:07.351339Z"
    },
    "hidden": true
   },
   "outputs": [
    {
     "data": {
      "text/plain": [
       "user_id           object\n",
       "action            object\n",
       "action_type       object\n",
       "action_detail     object\n",
       "device_type       object\n",
       "secs_elapsed     float64\n",
       "dtype: object"
      ]
     },
     "execution_count": 96,
     "metadata": {},
     "output_type": "execute_result"
    }
   ],
   "source": [
    "df_sessions.dtypes"
   ]
  },
  {
   "cell_type": "code",
   "execution_count": 97,
   "metadata": {
    "ExecuteTime": {
     "end_time": "2020-10-11T03:53:07.828136Z",
     "start_time": "2020-10-11T03:53:07.371590Z"
    },
    "hidden": true
   },
   "outputs": [
    {
     "data": {
      "text/html": [
       "<div>\n",
       "<style scoped>\n",
       "    .dataframe tbody tr th:only-of-type {\n",
       "        vertical-align: middle;\n",
       "    }\n",
       "\n",
       "    .dataframe tbody tr th {\n",
       "        vertical-align: top;\n",
       "    }\n",
       "\n",
       "    .dataframe thead th {\n",
       "        text-align: right;\n",
       "    }\n",
       "</style>\n",
       "<table border=\"1\" class=\"dataframe\">\n",
       "  <thead>\n",
       "    <tr style=\"text-align: right;\">\n",
       "      <th></th>\n",
       "      <th>1964</th>\n",
       "    </tr>\n",
       "  </thead>\n",
       "  <tbody>\n",
       "    <tr>\n",
       "      <th>id</th>\n",
       "      <td>cmyt65wyhp</td>\n",
       "    </tr>\n",
       "    <tr>\n",
       "      <th>date_account_created</th>\n",
       "      <td>2010-10-03</td>\n",
       "    </tr>\n",
       "    <tr>\n",
       "      <th>timestamp_first_active</th>\n",
       "      <td>20101003033259</td>\n",
       "    </tr>\n",
       "    <tr>\n",
       "      <th>date_first_booking</th>\n",
       "      <td>2010-10-07</td>\n",
       "    </tr>\n",
       "    <tr>\n",
       "      <th>gender</th>\n",
       "      <td>MALE</td>\n",
       "    </tr>\n",
       "    <tr>\n",
       "      <th>age</th>\n",
       "      <td>30</td>\n",
       "    </tr>\n",
       "    <tr>\n",
       "      <th>signup_method</th>\n",
       "      <td>facebook</td>\n",
       "    </tr>\n",
       "    <tr>\n",
       "      <th>signup_flow</th>\n",
       "      <td>2</td>\n",
       "    </tr>\n",
       "    <tr>\n",
       "      <th>language</th>\n",
       "      <td>en</td>\n",
       "    </tr>\n",
       "    <tr>\n",
       "      <th>affiliate_channel</th>\n",
       "      <td>direct</td>\n",
       "    </tr>\n",
       "    <tr>\n",
       "      <th>affiliate_provider</th>\n",
       "      <td>direct</td>\n",
       "    </tr>\n",
       "    <tr>\n",
       "      <th>first_affiliate_tracked</th>\n",
       "      <td>untracked</td>\n",
       "    </tr>\n",
       "    <tr>\n",
       "      <th>signup_app</th>\n",
       "      <td>Web</td>\n",
       "    </tr>\n",
       "    <tr>\n",
       "      <th>first_device_type</th>\n",
       "      <td>Desktop (Other)</td>\n",
       "    </tr>\n",
       "    <tr>\n",
       "      <th>first_browser</th>\n",
       "      <td>Chrome</td>\n",
       "    </tr>\n",
       "    <tr>\n",
       "      <th>country_destination</th>\n",
       "      <td>US</td>\n",
       "    </tr>\n",
       "  </tbody>\n",
       "</table>\n",
       "</div>"
      ],
      "text/plain": [
       "                                    1964\n",
       "id                            cmyt65wyhp\n",
       "date_account_created          2010-10-03\n",
       "timestamp_first_active    20101003033259\n",
       "date_first_booking            2010-10-07\n",
       "gender                              MALE\n",
       "age                                   30\n",
       "signup_method                   facebook\n",
       "signup_flow                            2\n",
       "language                              en\n",
       "affiliate_channel                 direct\n",
       "affiliate_provider                direct\n",
       "first_affiliate_tracked        untracked\n",
       "signup_app                           Web\n",
       "first_device_type        Desktop (Other)\n",
       "first_browser                     Chrome\n",
       "country_destination                   US"
      ]
     },
     "execution_count": 97,
     "metadata": {},
     "output_type": "execute_result"
    }
   ],
   "source": [
    "df1.sample().T"
   ]
  },
  {
   "cell_type": "markdown",
   "metadata": {
    "heading_collapsed": true,
    "hidden": true
   },
   "source": [
    "### 1.3 NA Check"
   ]
  },
  {
   "cell_type": "code",
   "execution_count": 98,
   "metadata": {
    "ExecuteTime": {
     "end_time": "2020-10-11T03:53:08.168456Z",
     "start_time": "2020-10-11T03:53:07.830868Z"
    },
    "hidden": true
   },
   "outputs": [
    {
     "data": {
      "text/plain": [
       "id                         0.000000\n",
       "date_account_created       0.000000\n",
       "timestamp_first_active     0.000000\n",
       "date_first_booking         0.583473\n",
       "gender                     0.000000\n",
       "age                        0.412226\n",
       "signup_method              0.000000\n",
       "signup_flow                0.000000\n",
       "language                   0.000000\n",
       "affiliate_channel          0.000000\n",
       "affiliate_provider         0.000000\n",
       "first_affiliate_tracked    0.028414\n",
       "signup_app                 0.000000\n",
       "first_device_type          0.000000\n",
       "first_browser              0.000000\n",
       "country_destination        0.000000\n",
       "dtype: float64"
      ]
     },
     "execution_count": 98,
     "metadata": {},
     "output_type": "execute_result"
    }
   ],
   "source": [
    "df1.isna().sum() / len( df1 )"
   ]
  },
  {
   "cell_type": "code",
   "execution_count": 99,
   "metadata": {
    "ExecuteTime": {
     "end_time": "2020-10-11T03:53:10.090848Z",
     "start_time": "2020-10-11T03:53:08.170110Z"
    },
    "hidden": true
   },
   "outputs": [
    {
     "data": {
      "text/plain": [
       "user_id          0.161611\n",
       "action           0.373041\n",
       "action_type      5.276171\n",
       "action_detail    5.276171\n",
       "device_type      0.000000\n",
       "secs_elapsed     0.637294\n",
       "dtype: float64"
      ]
     },
     "execution_count": 99,
     "metadata": {},
     "output_type": "execute_result"
    }
   ],
   "source": [
    "df_sessions.isna().sum() / len( df1 )"
   ]
  },
  {
   "cell_type": "code",
   "execution_count": 100,
   "metadata": {
    "ExecuteTime": {
     "end_time": "2020-10-11T03:53:14.663302Z",
     "start_time": "2020-10-11T03:53:10.092524Z"
    },
    "hidden": true
   },
   "outputs": [],
   "source": [
    "# remoe missing values completly\n",
    "#df1 = df1.dropna()\n",
    "\n",
    "# ========== User ==========\n",
    "\n",
    "# date_first_booking\n",
    "date_first_booking_max = pd.to_datetime( df1['date_first_booking'] ).max().strftime( '%Y-%m-%d' )\n",
    "df1['date_first_booking' ] = df1['date_first_booking'].fillna( date_first_booking_max )\n",
    "\n",
    "# age\n",
    "\n",
    "df1 = df1[( df1['age'] > 15 ) & ( df1['age'] < 120 )]\n",
    "avg_age = df1['age'].mean().astype( int )\n",
    "df1['age'] = df1['age'].fillna( avg_age )\n",
    "\n",
    "#first_affiliate_tracked\n",
    "df1 = df1[~df1['first_affiliate_tracked'].isna()]\n",
    "\n",
    "# ========== Sessions ==========\n",
    "\n",
    "# user_id - 0.3%\n",
    "df_sessions = df_sessions[~df_sessions['user_id'].isna()]\n",
    "\n",
    "# action - 0.7%\n",
    "df_sessions = df_sessions[~df_sessions['action'].isna()]\n",
    "\n",
    "# action_type - 11%\n",
    "df_sessions = df_sessions[~df_sessions['action_type'].isna()]\n",
    "\n",
    "# action_detail - 11%\n",
    "df_sessions = df_sessions[~df_sessions['action_detail'].isna()]\n",
    "\n",
    "# secs_elapsed - 1.2%\n",
    "df_sessions = df_sessions[~df_sessions['secs_elapsed'].isna()]\n"
   ]
  },
  {
   "cell_type": "code",
   "execution_count": 101,
   "metadata": {
    "ExecuteTime": {
     "end_time": "2020-10-11T03:53:14.676287Z",
     "start_time": "2020-10-11T03:53:14.664613Z"
    },
    "hidden": true
   },
   "outputs": [
    {
     "data": {
      "text/plain": [
       "Series([], Name: country_destination, dtype: float64)"
      ]
     },
     "execution_count": 101,
     "metadata": {},
     "output_type": "execute_result"
    }
   ],
   "source": [
    "aux = df1[df1['date_first_booking'].isna()]\n",
    "aux['country_destination'].value_counts( normalize=True )\n",
    "# Only the NDF has missing values in this variable. \n",
    "# The reason for this occur is that the person didn't do the first booking yet.\n",
    "# The value that we will fill the missing values is the max day in the 'date_first_booking' column."
   ]
  },
  {
   "cell_type": "code",
   "execution_count": 102,
   "metadata": {
    "ExecuteTime": {
     "end_time": "2020-10-11T03:53:15.008201Z",
     "start_time": "2020-10-11T03:53:14.677675Z"
    },
    "hidden": true
   },
   "outputs": [
    {
     "data": {
      "text/plain": [
       "Series([], Name: country_destination, dtype: float64)"
      ]
     },
     "execution_count": 102,
     "metadata": {},
     "output_type": "execute_result"
    }
   ],
   "source": [
    "aux = df1[df1['age'].isna()]\n",
    "aux['country_destination'].value_counts( normalize=True )\n",
    "\n",
    "# We can see here that the missing values is proporcional distribuciones among the target values.\n",
    "# Let's plot a graph which will give us a better visualization of this distribution."
   ]
  },
  {
   "cell_type": "code",
   "execution_count": 103,
   "metadata": {
    "ExecuteTime": {
     "end_time": "2020-10-11T03:53:17.289014Z",
     "start_time": "2020-10-11T03:53:15.010075Z"
    },
    "hidden": true
   },
   "outputs": [
    {
     "name": "stderr",
     "output_type": "stream",
     "text": [
      "/home/victorpereira/.pyenv/versions/3.8.0/envs/airbnb_predict_first_booking/lib/python3.8/site-packages/seaborn/distributions.py:2551: FutureWarning: `distplot` is a deprecated function and will be removed in a future version. Please adapt your code to use either `displot` (a figure-level function with similar flexibility) or `histplot` (an axes-level function for histograms).\n",
      "  warnings.warn(msg, FutureWarning)\n"
     ]
    },
    {
     "data": {
      "text/plain": [
       "<AxesSubplot:xlabel='age', ylabel='Density'>"
      ]
     },
     "execution_count": 103,
     "metadata": {},
     "output_type": "execute_result"
    },
    {
     "data": {
      "image/png": "[encoded data removed]",
      "text/plain": [
       "<Figure size 1800x864 with 1 Axes>"
      ]
     },
     "metadata": {},
     "output_type": "display_data"
    }
   ],
   "source": [
    "sns.distplot( df1[df1['age'] < 65]['age'] )\n",
    "# We can see that this variable has a Normal distribution.\n",
    "# For this reason, in this variable, I will use \"mean\" to fill the missing values."
   ]
  },
  {
   "cell_type": "code",
   "execution_count": 104,
   "metadata": {
    "ExecuteTime": {
     "end_time": "2020-10-11T03:53:17.317176Z",
     "start_time": "2020-10-11T03:53:17.290098Z"
    },
    "hidden": true
   },
   "outputs": [
    {
     "data": {
      "text/plain": [
       "1            untracked\n",
       "7                  omg\n",
       "13              linked\n",
       "79       tracked-other\n",
       "257            product\n",
       "7082         marketing\n",
       "13228        local ops\n",
       "Name: first_affiliate_tracked, dtype: object"
      ]
     },
     "execution_count": 104,
     "metadata": {},
     "output_type": "execute_result"
    }
   ],
   "source": [
    "df1['first_affiliate_tracked'].drop_duplicates()\n",
    "# This is a categorical variable. It's very difficult to fill out categorical variables.\n",
    "# Normally you fill using the frequency method, but the chance to input a bias in the dataset is big.\n",
    "# As the number of missing values in this case is not so large, I will just drop them. "
   ]
  },
  {
   "cell_type": "code",
   "execution_count": 105,
   "metadata": {
    "ExecuteTime": {
     "end_time": "2020-10-11T03:53:17.804720Z",
     "start_time": "2020-10-11T03:53:17.322490Z"
    },
    "hidden": true
   },
   "outputs": [
    {
     "data": {
      "text/plain": [
       "id                         0\n",
       "date_account_created       0\n",
       "timestamp_first_active     0\n",
       "date_first_booking         0\n",
       "gender                     0\n",
       "age                        0\n",
       "signup_method              0\n",
       "signup_flow                0\n",
       "language                   0\n",
       "affiliate_channel          0\n",
       "affiliate_provider         0\n",
       "first_affiliate_tracked    0\n",
       "signup_app                 0\n",
       "first_device_type          0\n",
       "first_browser              0\n",
       "country_destination        0\n",
       "dtype: int64"
      ]
     },
     "execution_count": 105,
     "metadata": {},
     "output_type": "execute_result"
    }
   ],
   "source": [
    "df1.isna().sum()"
   ]
  },
  {
   "cell_type": "code",
   "execution_count": 106,
   "metadata": {
    "ExecuteTime": {
     "end_time": "2020-10-11T03:53:19.668374Z",
     "start_time": "2020-10-11T03:53:17.806719Z"
    },
    "hidden": true
   },
   "outputs": [
    {
     "data": {
      "text/plain": [
       "user_id          0\n",
       "action           0\n",
       "action_type      0\n",
       "action_detail    0\n",
       "device_type      0\n",
       "secs_elapsed     0\n",
       "dtype: int64"
      ]
     },
     "execution_count": 106,
     "metadata": {},
     "output_type": "execute_result"
    }
   ],
   "source": [
    "df_sessions.isna().sum()"
   ]
  },
  {
   "cell_type": "markdown",
   "metadata": {
    "heading_collapsed": true,
    "hidden": true
   },
   "source": [
    "### 1.4 Change Data Type"
   ]
  },
  {
   "cell_type": "code",
   "execution_count": 107,
   "metadata": {
    "ExecuteTime": {
     "end_time": "2020-10-11T03:53:20.278707Z",
     "start_time": "2020-10-11T03:53:19.670995Z"
    },
    "hidden": true
   },
   "outputs": [],
   "source": [
    "# date_account_created\n",
    "df1['date_account_created'] = pd.to_datetime( df1['date_account_created'] )\n",
    "\n",
    "# timestamp_first_active\n",
    "df1['timestamp_first_active'] = pd.to_datetime( df1['timestamp_first_active'], format='%Y%m%d%H%M%S' )\n",
    "\n",
    "# date_first_booking\n",
    "df1['date_first_booking'] = pd.to_datetime( df1['date_first_booking'] )\n",
    "\n",
    "# age\n",
    "df1['age'] = df1['age'].astype( int )"
   ]
  },
  {
   "cell_type": "code",
   "execution_count": 108,
   "metadata": {
    "ExecuteTime": {
     "end_time": "2020-10-11T03:53:20.283910Z",
     "start_time": "2020-10-11T03:53:20.279768Z"
    },
    "hidden": true
   },
   "outputs": [
    {
     "data": {
      "text/plain": [
       "id                                 object\n",
       "date_account_created       datetime64[ns]\n",
       "timestamp_first_active     datetime64[ns]\n",
       "date_first_booking         datetime64[ns]\n",
       "gender                             object\n",
       "age                                 int64\n",
       "signup_method                      object\n",
       "signup_flow                         int64\n",
       "language                           object\n",
       "affiliate_channel                  object\n",
       "affiliate_provider                 object\n",
       "first_affiliate_tracked            object\n",
       "signup_app                         object\n",
       "first_device_type                  object\n",
       "first_browser                      object\n",
       "country_destination                object\n",
       "dtype: object"
      ]
     },
     "execution_count": 108,
     "metadata": {},
     "output_type": "execute_result"
    }
   ],
   "source": [
    "df1.dtypes"
   ]
  },
  {
   "cell_type": "markdown",
   "metadata": {
    "heading_collapsed": true,
    "hidden": true
   },
   "source": [
    "### 1.5 Check Balanced Data"
   ]
  },
  {
   "cell_type": "code",
   "execution_count": 109,
   "metadata": {
    "ExecuteTime": {
     "end_time": "2020-10-11T03:53:20.653299Z",
     "start_time": "2020-10-11T03:53:20.286202Z"
    },
    "hidden": true
   },
   "outputs": [
    {
     "data": {
      "text/plain": [
       "NDF      0.447275\n",
       "US       0.391867\n",
       "other    0.061246\n",
       "FR       0.029918\n",
       "IT       0.016423\n",
       "GB       0.014335\n",
       "ES       0.013740\n",
       "CA       0.008676\n",
       "DE       0.006858\n",
       "NL       0.004852\n",
       "AU       0.003531\n",
       "PT       0.001280\n",
       "Name: country_destination, dtype: float64"
      ]
     },
     "execution_count": 109,
     "metadata": {},
     "output_type": "execute_result"
    }
   ],
   "source": [
    "df1['country_destination'].value_counts( normalize=True )"
   ]
  },
  {
   "cell_type": "markdown",
   "metadata": {
    "heading_collapsed": true,
    "hidden": true
   },
   "source": [
    "### 1.6 Descriptive Analysis"
   ]
  },
  {
   "cell_type": "code",
   "execution_count": 110,
   "metadata": {
    "ExecuteTime": {
     "end_time": "2020-10-11T03:53:21.539212Z",
     "start_time": "2020-10-11T03:53:20.655563Z"
    },
    "hidden": true
   },
   "outputs": [],
   "source": [
    "# Users\n",
    "\n",
    "num_attributes = df1.select_dtypes( include=['int64', 'float64'] )\n",
    "cat_attributes = df1.select_dtypes( exclude=['int64', 'float64', 'datetime64[ns]'] )\n",
    "time_attributes = df1.select_dtypes( include=['datetime64[ns]'] )\n",
    "\n",
    "# Sessions\n",
    "\n",
    "num_attributes_sessions = df_sessions.select_dtypes( include=['int64', 'float64'] )\n",
    "cat_attributes_sessions = df_sessions.select_dtypes( exclude=['int64', 'float64', 'datetime64[ns]'] )\n",
    "time_attributes_sessions = df_sessions.select_dtypes( include=['datetime64[ns]'] )"
   ]
  },
  {
   "cell_type": "markdown",
   "metadata": {
    "heading_collapsed": true,
    "hidden": true
   },
   "source": [
    "#### 1.6.1 Numerical - Users"
   ]
  },
  {
   "cell_type": "code",
   "execution_count": 111,
   "metadata": {
    "ExecuteTime": {
     "end_time": "2020-10-11T03:53:22.055833Z",
     "start_time": "2020-10-11T03:53:21.540460Z"
    },
    "hidden": true
   },
   "outputs": [
    {
     "data": {
      "text/html": [
       "<div>\n",
       "<style scoped>\n",
       "    .dataframe tbody tr th:only-of-type {\n",
       "        vertical-align: middle;\n",
       "    }\n",
       "\n",
       "    .dataframe tbody tr th {\n",
       "        vertical-align: top;\n",
       "    }\n",
       "\n",
       "    .dataframe thead th {\n",
       "        text-align: right;\n",
       "    }\n",
       "</style>\n",
       "<table border=\"1\" class=\"dataframe\">\n",
       "  <thead>\n",
       "    <tr style=\"text-align: right;\">\n",
       "      <th></th>\n",
       "      <th>attributes</th>\n",
       "      <th>min</th>\n",
       "      <th>max</th>\n",
       "      <th>range</th>\n",
       "      <th>mean</th>\n",
       "      <th>median</th>\n",
       "      <th>std</th>\n",
       "      <th>skew</th>\n",
       "      <th>kurtosis</th>\n",
       "    </tr>\n",
       "  </thead>\n",
       "  <tbody>\n",
       "    <tr>\n",
       "      <th>0</th>\n",
       "      <td>age</td>\n",
       "      <td>16.0</td>\n",
       "      <td>115.0</td>\n",
       "      <td>99.0</td>\n",
       "      <td>37.405591</td>\n",
       "      <td>34.0</td>\n",
       "      <td>13.939844</td>\n",
       "      <td>2.089718</td>\n",
       "      <td>6.516468</td>\n",
       "    </tr>\n",
       "    <tr>\n",
       "      <th>1</th>\n",
       "      <td>signup_flow</td>\n",
       "      <td>0.0</td>\n",
       "      <td>25.0</td>\n",
       "      <td>25.0</td>\n",
       "      <td>2.519513</td>\n",
       "      <td>0.0</td>\n",
       "      <td>6.604696</td>\n",
       "      <td>2.705871</td>\n",
       "      <td>5.928298</td>\n",
       "    </tr>\n",
       "  </tbody>\n",
       "</table>\n",
       "</div>"
      ],
      "text/plain": [
       "    attributes   min    max  range       mean  median        std      skew  kurtosis\n",
       "0          age  16.0  115.0   99.0  37.405591    34.0  13.939844  2.089718  6.516468\n",
       "1  signup_flow   0.0   25.0   25.0   2.519513     0.0   6.604696  2.705871  5.928298"
      ]
     },
     "execution_count": 111,
     "metadata": {},
     "output_type": "execute_result"
    }
   ],
   "source": [
    "# Central Tendency - Mean, Median\n",
    "ct1 = pd.DataFrame( num_attributes.apply( np.mean ) ).T\n",
    "ct2 = pd.DataFrame( num_attributes.apply( np.median ) ).T\n",
    "\n",
    "# Dispersions - Std, Min, Max, Range, Skew, Kurtosis\n",
    "d1 = pd.DataFrame( num_attributes.apply( np.std ) ).T\n",
    "d2 = pd.DataFrame( num_attributes.apply( min ) ).T\n",
    "d3 = pd.DataFrame( num_attributes.apply( max ) ).T\n",
    "d4 = pd.DataFrame( num_attributes.apply( lambda x: x.max() - x.min() ) ).T\n",
    "d5 = pd.DataFrame( num_attributes.apply( lambda x: x.skew() ) ).T\n",
    "d6 = pd.DataFrame( num_attributes.apply( lambda x: x.kurtosis() ) ).T\n",
    "\n",
    "# Concatenated\n",
    "ct = pd.concat( [d2, d3, d4, ct1, ct2, d1, d5, d6] ).T.reset_index()\n",
    "ct.columns = ['attributes', 'min', 'max', 'range', 'mean', 'median', 'std', 'skew', 'kurtosis']\n",
    "ct"
   ]
  },
  {
   "cell_type": "markdown",
   "metadata": {
    "heading_collapsed": true,
    "hidden": true
   },
   "source": [
    "#### 1.6.2 Numerical - Sessions"
   ]
  },
  {
   "cell_type": "code",
   "execution_count": 112,
   "metadata": {
    "ExecuteTime": {
     "end_time": "2020-10-11T03:53:24.599075Z",
     "start_time": "2020-10-11T03:53:22.057494Z"
    },
    "hidden": true
   },
   "outputs": [
    {
     "data": {
      "text/html": [
       "<div>\n",
       "<style scoped>\n",
       "    .dataframe tbody tr th:only-of-type {\n",
       "        vertical-align: middle;\n",
       "    }\n",
       "\n",
       "    .dataframe tbody tr th {\n",
       "        vertical-align: top;\n",
       "    }\n",
       "\n",
       "    .dataframe thead th {\n",
       "        text-align: right;\n",
       "    }\n",
       "</style>\n",
       "<table border=\"1\" class=\"dataframe\">\n",
       "  <thead>\n",
       "    <tr style=\"text-align: right;\">\n",
       "      <th></th>\n",
       "      <th>attributes</th>\n",
       "      <th>min</th>\n",
       "      <th>max</th>\n",
       "      <th>range</th>\n",
       "      <th>mean</th>\n",
       "      <th>median</th>\n",
       "      <th>std</th>\n",
       "      <th>skew</th>\n",
       "      <th>kurtosis</th>\n",
       "    </tr>\n",
       "  </thead>\n",
       "  <tbody>\n",
       "    <tr>\n",
       "      <th>0</th>\n",
       "      <td>secs_elapsed</td>\n",
       "      <td>0.0</td>\n",
       "      <td>1799977.0</td>\n",
       "      <td>1799977.0</td>\n",
       "      <td>19961.8251</td>\n",
       "      <td>1369.0</td>\n",
       "      <td>88849.388449</td>\n",
       "      <td>11.137761</td>\n",
       "      <td>154.84312</td>\n",
       "    </tr>\n",
       "  </tbody>\n",
       "</table>\n",
       "</div>"
      ],
      "text/plain": [
       "     attributes  min        max      range        mean  median           std       skew   kurtosis\n",
       "0  secs_elapsed  0.0  1799977.0  1799977.0  19961.8251  1369.0  88849.388449  11.137761  154.84312"
      ]
     },
     "execution_count": 112,
     "metadata": {},
     "output_type": "execute_result"
    }
   ],
   "source": [
    "# Central Tendency - Mean, Median\n",
    "ct1 = pd.DataFrame( num_attributes_sessions.apply( np.mean ) ).T\n",
    "ct2 = pd.DataFrame( num_attributes_sessions.apply( np.median ) ).T\n",
    "\n",
    "# Dispersions - Std, Min, Max, Range, Skew, Kurtosis\n",
    "d1 = pd.DataFrame( num_attributes_sessions.apply( np.std ) ).T\n",
    "d2 = pd.DataFrame( num_attributes_sessions.apply( min ) ).T\n",
    "d3 = pd.DataFrame( num_attributes_sessions.apply( max ) ).T\n",
    "d4 = pd.DataFrame( num_attributes_sessions.apply( lambda x: x.max() - x.min() ) ).T\n",
    "d5 = pd.DataFrame( num_attributes_sessions.apply( lambda x: x.skew() ) ).T\n",
    "d6 = pd.DataFrame( num_attributes_sessions.apply( lambda x: x.kurtosis() ) ).T\n",
    "\n",
    "# Concatenated\n",
    "ct = pd.concat( [d2, d3, d4, ct1, ct2, d1, d5, d6] ).T.reset_index()\n",
    "ct.columns = ['attributes', 'min', 'max', 'range', 'mean', 'median', 'std', 'skew', 'kurtosis']\n",
    "ct"
   ]
  },
  {
   "cell_type": "markdown",
   "metadata": {
    "heading_collapsed": true,
    "hidden": true
   },
   "source": [
    "#### 1.6.3 Categorical - Users"
   ]
  },
  {
   "cell_type": "code",
   "execution_count": 113,
   "metadata": {
    "ExecuteTime": {
     "end_time": "2020-10-11T03:53:24.779281Z",
     "start_time": "2020-10-11T03:53:24.600488Z"
    },
    "hidden": true
   },
   "outputs": [
    {
     "data": {
      "text/html": [
       "<div>\n",
       "<style scoped>\n",
       "    .dataframe tbody tr th:only-of-type {\n",
       "        vertical-align: middle;\n",
       "    }\n",
       "\n",
       "    .dataframe tbody tr th {\n",
       "        vertical-align: top;\n",
       "    }\n",
       "\n",
       "    .dataframe thead th {\n",
       "        text-align: right;\n",
       "    }\n",
       "</style>\n",
       "<table border=\"1\" class=\"dataframe\">\n",
       "  <thead>\n",
       "    <tr style=\"text-align: right;\">\n",
       "      <th></th>\n",
       "      <th>gender</th>\n",
       "      <th>signup_method</th>\n",
       "      <th>language</th>\n",
       "      <th>affiliate_channel</th>\n",
       "      <th>affiliate_provider</th>\n",
       "      <th>first_affiliate_tracked</th>\n",
       "      <th>signup_app</th>\n",
       "      <th>first_device_type</th>\n",
       "      <th>first_browser</th>\n",
       "      <th>country_destination</th>\n",
       "    </tr>\n",
       "  </thead>\n",
       "  <tbody>\n",
       "    <tr>\n",
       "      <th>count</th>\n",
       "      <td>122636</td>\n",
       "      <td>122636</td>\n",
       "      <td>122636</td>\n",
       "      <td>122636</td>\n",
       "      <td>122636</td>\n",
       "      <td>122636</td>\n",
       "      <td>122636</td>\n",
       "      <td>122636</td>\n",
       "      <td>122636</td>\n",
       "      <td>122636</td>\n",
       "    </tr>\n",
       "    <tr>\n",
       "      <th>unique</th>\n",
       "      <td>4</td>\n",
       "      <td>3</td>\n",
       "      <td>25</td>\n",
       "      <td>8</td>\n",
       "      <td>17</td>\n",
       "      <td>7</td>\n",
       "      <td>4</td>\n",
       "      <td>9</td>\n",
       "      <td>41</td>\n",
       "      <td>12</td>\n",
       "    </tr>\n",
       "    <tr>\n",
       "      <th>top</th>\n",
       "      <td>FEMALE</td>\n",
       "      <td>basic</td>\n",
       "      <td>en</td>\n",
       "      <td>direct</td>\n",
       "      <td>direct</td>\n",
       "      <td>untracked</td>\n",
       "      <td>Web</td>\n",
       "      <td>Mac Desktop</td>\n",
       "      <td>Chrome</td>\n",
       "      <td>NDF</td>\n",
       "    </tr>\n",
       "    <tr>\n",
       "      <th>freq</th>\n",
       "      <td>56362</td>\n",
       "      <td>66039</td>\n",
       "      <td>118205</td>\n",
       "      <td>79093</td>\n",
       "      <td>78954</td>\n",
       "      <td>64712</td>\n",
       "      <td>108283</td>\n",
       "      <td>57943</td>\n",
       "      <td>41778</td>\n",
       "      <td>54852</td>\n",
       "    </tr>\n",
       "  </tbody>\n",
       "</table>\n",
       "</div>"
      ],
      "text/plain": [
       "        gender signup_method language affiliate_channel affiliate_provider first_affiliate_tracked signup_app first_device_type first_browser country_destination\n",
       "count   122636        122636   122636            122636             122636                  122636     122636            122636        122636              122636\n",
       "unique       4             3       25                 8                 17                       7          4                 9            41                  12\n",
       "top     FEMALE         basic       en            direct             direct               untracked        Web       Mac Desktop        Chrome                 NDF\n",
       "freq     56362         66039   118205             79093              78954                   64712     108283             57943         41778               54852"
      ]
     },
     "execution_count": 113,
     "metadata": {},
     "output_type": "execute_result"
    }
   ],
   "source": [
    "cat_attributes.drop( 'id', axis=1 ).describe()"
   ]
  },
  {
   "cell_type": "markdown",
   "metadata": {
    "heading_collapsed": true,
    "hidden": true
   },
   "source": [
    "#### 1.6.4 Categorical - Sessions"
   ]
  },
  {
   "cell_type": "code",
   "execution_count": 114,
   "metadata": {
    "ExecuteTime": {
     "end_time": "2020-10-11T03:53:29.391257Z",
     "start_time": "2020-10-11T03:53:24.780297Z"
    },
    "hidden": true
   },
   "outputs": [
    {
     "data": {
      "text/html": [
       "<div>\n",
       "<style scoped>\n",
       "    .dataframe tbody tr th:only-of-type {\n",
       "        vertical-align: middle;\n",
       "    }\n",
       "\n",
       "    .dataframe tbody tr th {\n",
       "        vertical-align: top;\n",
       "    }\n",
       "\n",
       "    .dataframe thead th {\n",
       "        text-align: right;\n",
       "    }\n",
       "</style>\n",
       "<table border=\"1\" class=\"dataframe\">\n",
       "  <thead>\n",
       "    <tr style=\"text-align: right;\">\n",
       "      <th></th>\n",
       "      <th>action</th>\n",
       "      <th>action_type</th>\n",
       "      <th>action_detail</th>\n",
       "      <th>device_type</th>\n",
       "    </tr>\n",
       "  </thead>\n",
       "  <tbody>\n",
       "    <tr>\n",
       "      <th>count</th>\n",
       "      <td>9213930</td>\n",
       "      <td>9213930</td>\n",
       "      <td>9213930</td>\n",
       "      <td>9213930</td>\n",
       "    </tr>\n",
       "    <tr>\n",
       "      <th>unique</th>\n",
       "      <td>347</td>\n",
       "      <td>10</td>\n",
       "      <td>155</td>\n",
       "      <td>14</td>\n",
       "    </tr>\n",
       "    <tr>\n",
       "      <th>top</th>\n",
       "      <td>show</td>\n",
       "      <td>view</td>\n",
       "      <td>view_search_results</td>\n",
       "      <td>Mac Desktop</td>\n",
       "    </tr>\n",
       "    <tr>\n",
       "      <th>freq</th>\n",
       "      <td>2178382</td>\n",
       "      <td>3545621</td>\n",
       "      <td>1770931</td>\n",
       "      <td>3019523</td>\n",
       "    </tr>\n",
       "  </tbody>\n",
       "</table>\n",
       "</div>"
      ],
      "text/plain": [
       "         action action_type        action_detail  device_type\n",
       "count   9213930     9213930              9213930      9213930\n",
       "unique      347          10                  155           14\n",
       "top        show        view  view_search_results  Mac Desktop\n",
       "freq    2178382     3545621              1770931      3019523"
      ]
     },
     "execution_count": 114,
     "metadata": {},
     "output_type": "execute_result"
    }
   ],
   "source": [
    "cat_attributes_sessions.drop( 'user_id', axis=1 ).describe()"
   ]
  },
  {
   "cell_type": "code",
   "execution_count": 115,
   "metadata": {
    "ExecuteTime": {
     "end_time": "2020-10-11T03:53:54.303430Z",
     "start_time": "2020-10-11T03:53:29.392455Z"
    },
    "hidden": true
   },
   "outputs": [],
   "source": [
    "# List of attributes for Cramer's V correlation\n",
    "cat_attributes_list = cat_attributes_sessions.drop( 'user_id', axis=1 ).columns.tolist()\n",
    "\n",
    "corr_dict = {}\n",
    "for i in range ( len( cat_attributes_list ) ):\n",
    "    corr_list = []\n",
    "    for j in range( len( cat_attributes_list ) ):\n",
    "        ref = cat_attributes_list[i]\n",
    "        feat = cat_attributes_list[j]\n",
    "        \n",
    "        # correlation\n",
    "        corr = cramer_v( cat_attributes_sessions[ ref ], cat_attributes_sessions[ feat ] )\n",
    "        \n",
    "        # append a list\n",
    "        corr_list.append( corr )\n",
    "    \n",
    "    # append a correlation list for each ref attributs\n",
    "    corr_dict[ ref ] = corr_list"
   ]
  },
  {
   "cell_type": "code",
   "execution_count": 116,
   "metadata": {
    "ExecuteTime": {
     "end_time": "2020-10-11T03:53:54.679220Z",
     "start_time": "2020-10-11T03:53:54.305286Z"
    },
    "hidden": true
   },
   "outputs": [
    {
     "data": {
      "text/plain": [
       "<AxesSubplot:>"
      ]
     },
     "execution_count": 116,
     "metadata": {},
     "output_type": "execute_result"
    },
    {
     "data": {
      "image/png": "[encoded data removed]",
      "text/plain": [
       "<Figure size 1800x864 with 2 Axes>"
      ]
     },
     "metadata": {},
     "output_type": "display_data"
    }
   ],
   "source": [
    "d = pd.DataFrame( corr_dict )\n",
    "d = d.set_index( d.columns )\n",
    "sns.heatmap( d, annot=True )"
   ]
  },
  {
   "cell_type": "markdown",
   "metadata": {
    "heading_collapsed": true
   },
   "source": [
    "## 2.0 Feature Engineering"
   ]
  },
  {
   "cell_type": "code",
   "execution_count": 117,
   "metadata": {
    "ExecuteTime": {
     "end_time": "2020-10-11T03:53:54.690371Z",
     "start_time": "2020-10-11T03:53:54.680826Z"
    },
    "hidden": true
   },
   "outputs": [],
   "source": [
    "df2 = df1.copy()"
   ]
  },
  {
   "cell_type": "markdown",
   "metadata": {
    "heading_collapsed": true,
    "hidden": true
   },
   "source": [
    "### 2.1 Create New Features"
   ]
  },
  {
   "cell_type": "code",
   "execution_count": 118,
   "metadata": {
    "ExecuteTime": {
     "end_time": "2020-10-11T03:54:00.079491Z",
     "start_time": "2020-10-11T03:53:54.691979Z"
    },
    "hidden": true
   },
   "outputs": [
    {
     "name": "stderr",
     "output_type": "stream",
     "text": [
      "<ipython-input-118-85668a42cdf0>:22: FutureWarning: Series.dt.weekofyear and Series.dt.week have been deprecated.  Please use Series.dt.isocalendar().week instead.\n",
      "  df2['week_of_year_first_active'] = df2['first_active'].dt.weekofyear\n",
      "<ipython-input-118-85668a42cdf0>:38: FutureWarning: Series.dt.weekofyear and Series.dt.week have been deprecated.  Please use Series.dt.isocalendar().week instead.\n",
      "  df2['week_of_year_first_booking'] = df2['date_first_booking'].dt.weekofyear\n",
      "<ipython-input-118-85668a42cdf0>:54: FutureWarning: Series.dt.weekofyear and Series.dt.week have been deprecated.  Please use Series.dt.isocalendar().week instead.\n",
      "  df2['week_of_year_account_created'] = df2['date_account_created'].dt.weekofyear\n"
     ]
    }
   ],
   "source": [
    "# days from first active up to first booking\n",
    "df2['first_active'] = pd.to_datetime( df2['timestamp_first_active'].dt.strftime( '%Y-%m-%d' ) )\n",
    "df2['days_from_first_active_until_booking'] = ( df2['date_first_booking'] - df2['first_active'] ).apply( lambda x: x.days )\n",
    "\n",
    "# days from active up to account created\n",
    "df2['days_from_first_active_account_created'] = ( df2['date_account_created'] - df2['first_active'] ).apply( lambda x: x.days )\n",
    "\n",
    "# days from account created up to first booking\n",
    "df2['days_from_account_created_until_first_booking'] = ( df2['date_first_booking'] - df2['first_active'] ).apply( lambda x: x.days )\n",
    "\n",
    "# ====================== First Active ====================\n",
    "# year first active\n",
    "df2['year_first_active'] = df2['first_active'].dt.year\n",
    "\n",
    "# month first active\n",
    "df2['month_first_active'] = df2['first_active'].dt.month\n",
    "\n",
    "# day first active\n",
    "df2['day_first_active'] = df2['first_active'].dt.day\n",
    "\n",
    "# week of year first active\n",
    "df2['week_of_year_first_active'] = df2['first_active'].dt.weekofyear\n",
    "\n",
    "# day_of_week first active\n",
    "df2['day_of_week_first_active'] = df2['first_active'].dt.dayofweek\n",
    "\n",
    "# ======================= First Booking ==================\n",
    "# year first booking\n",
    "df2['year_first_booking'] = df2['date_first_booking'].dt.year\n",
    "\n",
    "# month first booking\n",
    "df2['month_first_booking'] = df2['date_first_booking'].dt.month\n",
    "\n",
    "# day first booking\n",
    "df2['day_first_booking'] = df2['date_first_booking'].dt.day\n",
    "\n",
    "# week of year first booking\n",
    "df2['week_of_year_first_booking'] = df2['date_first_booking'].dt.weekofyear\n",
    "\n",
    "# day_of_week first booking\n",
    "df2['day_of_week_first_booking'] = df2['date_first_booking'].dt.dayofweek\n",
    "\n",
    "# ======================= First Account Created ==================\n",
    "# year first booking\n",
    "df2['year_account_created'] = df2['date_account_created'].dt.year\n",
    "\n",
    "# month first booking\n",
    "df2['month_account_created'] = df2['date_account_created'].dt.month\n",
    "\n",
    "# day first booking\n",
    "df2['day_account_created'] = df2['date_account_created'].dt.day\n",
    "\n",
    "# week of year first booking\n",
    "df2['week_of_year_account_created'] = df2['date_account_created'].dt.weekofyear\n",
    "\n",
    "# day_of_week first booking\n",
    "df2['day_of_week_account_created'] = df2['date_account_created'].dt.dayofweek"
   ]
  },
  {
   "cell_type": "code",
   "execution_count": 119,
   "metadata": {
    "ExecuteTime": {
     "end_time": "2020-10-11T03:54:00.110348Z",
     "start_time": "2020-10-11T03:54:00.080893Z"
    },
    "hidden": true
   },
   "outputs": [
    {
     "data": {
      "text/html": [
       "<div>\n",
       "<style scoped>\n",
       "    .dataframe tbody tr th:only-of-type {\n",
       "        vertical-align: middle;\n",
       "    }\n",
       "\n",
       "    .dataframe tbody tr th {\n",
       "        vertical-align: top;\n",
       "    }\n",
       "\n",
       "    .dataframe thead th {\n",
       "        text-align: right;\n",
       "    }\n",
       "</style>\n",
       "<table border=\"1\" class=\"dataframe\">\n",
       "  <thead>\n",
       "    <tr style=\"text-align: right;\">\n",
       "      <th></th>\n",
       "      <th>id</th>\n",
       "      <th>date_account_created</th>\n",
       "      <th>timestamp_first_active</th>\n",
       "      <th>date_first_booking</th>\n",
       "      <th>gender</th>\n",
       "      <th>age</th>\n",
       "      <th>signup_method</th>\n",
       "      <th>signup_flow</th>\n",
       "      <th>language</th>\n",
       "      <th>affiliate_channel</th>\n",
       "      <th>affiliate_provider</th>\n",
       "      <th>first_affiliate_tracked</th>\n",
       "      <th>signup_app</th>\n",
       "      <th>first_device_type</th>\n",
       "      <th>first_browser</th>\n",
       "      <th>country_destination</th>\n",
       "      <th>first_active</th>\n",
       "      <th>days_from_first_active_until_booking</th>\n",
       "      <th>days_from_first_active_account_created</th>\n",
       "      <th>days_from_account_created_until_first_booking</th>\n",
       "      <th>year_first_active</th>\n",
       "      <th>month_first_active</th>\n",
       "      <th>day_first_active</th>\n",
       "      <th>week_of_year_first_active</th>\n",
       "      <th>day_of_week_first_active</th>\n",
       "      <th>year_first_booking</th>\n",
       "      <th>month_first_booking</th>\n",
       "      <th>day_first_booking</th>\n",
       "      <th>week_of_year_first_booking</th>\n",
       "      <th>day_of_week_first_booking</th>\n",
       "      <th>year_account_created</th>\n",
       "      <th>month_account_created</th>\n",
       "      <th>day_account_created</th>\n",
       "      <th>week_of_year_account_created</th>\n",
       "      <th>day_of_week_account_created</th>\n",
       "    </tr>\n",
       "  </thead>\n",
       "  <tbody>\n",
       "    <tr>\n",
       "      <th>1</th>\n",
       "      <td>820tgsjxq7</td>\n",
       "      <td>2011-05-25</td>\n",
       "      <td>2009-05-23 17:48:09</td>\n",
       "      <td>2015-06-29</td>\n",
       "      <td>MALE</td>\n",
       "      <td>38</td>\n",
       "      <td>facebook</td>\n",
       "      <td>0</td>\n",
       "      <td>en</td>\n",
       "      <td>seo</td>\n",
       "      <td>google</td>\n",
       "      <td>untracked</td>\n",
       "      <td>Web</td>\n",
       "      <td>Mac Desktop</td>\n",
       "      <td>Chrome</td>\n",
       "      <td>NDF</td>\n",
       "      <td>2009-05-23</td>\n",
       "      <td>2228</td>\n",
       "      <td>732</td>\n",
       "      <td>2228</td>\n",
       "      <td>2009</td>\n",
       "      <td>5</td>\n",
       "      <td>23</td>\n",
       "      <td>21</td>\n",
       "      <td>5</td>\n",
       "      <td>2015</td>\n",
       "      <td>6</td>\n",
       "      <td>29</td>\n",
       "      <td>27</td>\n",
       "      <td>0</td>\n",
       "      <td>2011</td>\n",
       "      <td>5</td>\n",
       "      <td>25</td>\n",
       "      <td>21</td>\n",
       "      <td>2</td>\n",
       "    </tr>\n",
       "    <tr>\n",
       "      <th>2</th>\n",
       "      <td>4ft3gnwmtx</td>\n",
       "      <td>2010-09-28</td>\n",
       "      <td>2009-06-09 23:12:47</td>\n",
       "      <td>2010-08-02</td>\n",
       "      <td>FEMALE</td>\n",
       "      <td>56</td>\n",
       "      <td>basic</td>\n",
       "      <td>3</td>\n",
       "      <td>en</td>\n",
       "      <td>direct</td>\n",
       "      <td>direct</td>\n",
       "      <td>untracked</td>\n",
       "      <td>Web</td>\n",
       "      <td>Windows Desktop</td>\n",
       "      <td>IE</td>\n",
       "      <td>US</td>\n",
       "      <td>2009-06-09</td>\n",
       "      <td>419</td>\n",
       "      <td>476</td>\n",
       "      <td>419</td>\n",
       "      <td>2009</td>\n",
       "      <td>6</td>\n",
       "      <td>9</td>\n",
       "      <td>24</td>\n",
       "      <td>1</td>\n",
       "      <td>2010</td>\n",
       "      <td>8</td>\n",
       "      <td>2</td>\n",
       "      <td>31</td>\n",
       "      <td>0</td>\n",
       "      <td>2010</td>\n",
       "      <td>9</td>\n",
       "      <td>28</td>\n",
       "      <td>39</td>\n",
       "      <td>1</td>\n",
       "    </tr>\n",
       "    <tr>\n",
       "      <th>3</th>\n",
       "      <td>bjjt8pjhuk</td>\n",
       "      <td>2011-12-05</td>\n",
       "      <td>2009-10-31 06:01:29</td>\n",
       "      <td>2012-09-08</td>\n",
       "      <td>FEMALE</td>\n",
       "      <td>42</td>\n",
       "      <td>facebook</td>\n",
       "      <td>0</td>\n",
       "      <td>en</td>\n",
       "      <td>direct</td>\n",
       "      <td>direct</td>\n",
       "      <td>untracked</td>\n",
       "      <td>Web</td>\n",
       "      <td>Mac Desktop</td>\n",
       "      <td>Firefox</td>\n",
       "      <td>other</td>\n",
       "      <td>2009-10-31</td>\n",
       "      <td>1043</td>\n",
       "      <td>765</td>\n",
       "      <td>1043</td>\n",
       "      <td>2009</td>\n",
       "      <td>10</td>\n",
       "      <td>31</td>\n",
       "      <td>44</td>\n",
       "      <td>5</td>\n",
       "      <td>2012</td>\n",
       "      <td>9</td>\n",
       "      <td>8</td>\n",
       "      <td>36</td>\n",
       "      <td>5</td>\n",
       "      <td>2011</td>\n",
       "      <td>12</td>\n",
       "      <td>5</td>\n",
       "      <td>49</td>\n",
       "      <td>0</td>\n",
       "    </tr>\n",
       "    <tr>\n",
       "      <th>4</th>\n",
       "      <td>87mebub9p4</td>\n",
       "      <td>2010-09-14</td>\n",
       "      <td>2009-12-08 06:11:05</td>\n",
       "      <td>2010-02-18</td>\n",
       "      <td>-unknown-</td>\n",
       "      <td>41</td>\n",
       "      <td>basic</td>\n",
       "      <td>0</td>\n",
       "      <td>en</td>\n",
       "      <td>direct</td>\n",
       "      <td>direct</td>\n",
       "      <td>untracked</td>\n",
       "      <td>Web</td>\n",
       "      <td>Mac Desktop</td>\n",
       "      <td>Chrome</td>\n",
       "      <td>US</td>\n",
       "      <td>2009-12-08</td>\n",
       "      <td>72</td>\n",
       "      <td>280</td>\n",
       "      <td>72</td>\n",
       "      <td>2009</td>\n",
       "      <td>12</td>\n",
       "      <td>8</td>\n",
       "      <td>50</td>\n",
       "      <td>1</td>\n",
       "      <td>2010</td>\n",
       "      <td>2</td>\n",
       "      <td>18</td>\n",
       "      <td>7</td>\n",
       "      <td>3</td>\n",
       "      <td>2010</td>\n",
       "      <td>9</td>\n",
       "      <td>14</td>\n",
       "      <td>37</td>\n",
       "      <td>1</td>\n",
       "    </tr>\n",
       "    <tr>\n",
       "      <th>6</th>\n",
       "      <td>lsw9q7uk0j</td>\n",
       "      <td>2010-01-02</td>\n",
       "      <td>2010-01-02 01:25:58</td>\n",
       "      <td>2010-01-05</td>\n",
       "      <td>FEMALE</td>\n",
       "      <td>46</td>\n",
       "      <td>basic</td>\n",
       "      <td>0</td>\n",
       "      <td>en</td>\n",
       "      <td>other</td>\n",
       "      <td>craigslist</td>\n",
       "      <td>untracked</td>\n",
       "      <td>Web</td>\n",
       "      <td>Mac Desktop</td>\n",
       "      <td>Safari</td>\n",
       "      <td>US</td>\n",
       "      <td>2010-01-02</td>\n",
       "      <td>3</td>\n",
       "      <td>0</td>\n",
       "      <td>3</td>\n",
       "      <td>2010</td>\n",
       "      <td>1</td>\n",
       "      <td>2</td>\n",
       "      <td>53</td>\n",
       "      <td>5</td>\n",
       "      <td>2010</td>\n",
       "      <td>1</td>\n",
       "      <td>5</td>\n",
       "      <td>1</td>\n",
       "      <td>1</td>\n",
       "      <td>2010</td>\n",
       "      <td>1</td>\n",
       "      <td>2</td>\n",
       "      <td>53</td>\n",
       "      <td>5</td>\n",
       "    </tr>\n",
       "  </tbody>\n",
       "</table>\n",
       "</div>"
      ],
      "text/plain": [
       "           id date_account_created timestamp_first_active date_first_booking     gender  age signup_method  signup_flow language affiliate_channel affiliate_provider first_affiliate_tracked signup_app first_device_type first_browser country_destination first_active  days_from_first_active_until_booking  days_from_first_active_account_created  days_from_account_created_until_first_booking  year_first_active  month_first_active  day_first_active  week_of_year_first_active  day_of_week_first_active  year_first_booking  month_first_booking  day_first_booking  week_of_year_first_booking  day_of_week_first_booking  year_account_created  month_account_created  day_account_created  week_of_year_account_created  day_of_week_account_created\n",
       "1  820tgsjxq7           2011-05-25    2009-05-23 17:48:09         2015-06-29       MALE   38      facebook            0       en               seo             google               untracked        Web       Mac Desktop        Chrome                 NDF   2009-05-23                                  2228                                     732                                           2228               2009                   5                23                         21                         5                2015                    6                 29                          27                          0                  2011                      5                   25                            21                            2\n",
       "2  4ft3gnwmtx           2010-09-28    2009-06-09 23:12:47         2010-08-02     FEMALE   56         basic            3       en            direct             direct               untracked        Web   Windows Desktop            IE                  US   2009-06-09                                   419                                     476                                            419               2009                   6                 9                         24                         1                2010                    8                  2                          31                          0                  2010                      9                   28                            39                            1\n",
       "3  bjjt8pjhuk           2011-12-05    2009-10-31 06:01:29         2012-09-08     FEMALE   42      facebook            0       en            direct             direct               untracked        Web       Mac Desktop       Firefox               other   2009-10-31                                  1043                                     765                                           1043               2009                  10                31                         44                         5                2012                    9                  8                          36                          5                  2011                     12                    5                            49                            0\n",
       "4  87mebub9p4           2010-09-14    2009-12-08 06:11:05         2010-02-18  -unknown-   41         basic            0       en            direct             direct               untracked        Web       Mac Desktop        Chrome                  US   2009-12-08                                    72                                     280                                             72               2009                  12                 8                         50                         1                2010                    2                 18                           7                          3                  2010                      9                   14                            37                            1\n",
       "6  lsw9q7uk0j           2010-01-02    2010-01-02 01:25:58         2010-01-05     FEMALE   46         basic            0       en             other         craigslist               untracked        Web       Mac Desktop        Safari                  US   2010-01-02                                     3                                       0                                              3               2010                   1                 2                         53                         5                2010                    1                  5                           1                          1                  2010                      1                    2                            53                            5"
      ]
     },
     "execution_count": 119,
     "metadata": {},
     "output_type": "execute_result"
    }
   ],
   "source": [
    "df2.head()"
   ]
  },
  {
   "cell_type": "code",
   "execution_count": 120,
   "metadata": {
    "ExecuteTime": {
     "end_time": "2020-10-11T03:54:00.323357Z",
     "start_time": "2020-10-11T03:54:00.112080Z"
    },
    "hidden": true
   },
   "outputs": [
    {
     "data": {
      "text/plain": [
       "id                                                       object\n",
       "date_account_created                             datetime64[ns]\n",
       "timestamp_first_active                           datetime64[ns]\n",
       "date_first_booking                               datetime64[ns]\n",
       "gender                                                   object\n",
       "age                                                       int64\n",
       "signup_method                                            object\n",
       "signup_flow                                               int64\n",
       "language                                                 object\n",
       "affiliate_channel                                        object\n",
       "affiliate_provider                                       object\n",
       "first_affiliate_tracked                                  object\n",
       "signup_app                                               object\n",
       "first_device_type                                        object\n",
       "first_browser                                            object\n",
       "country_destination                                      object\n",
       "first_active                                     datetime64[ns]\n",
       "days_from_first_active_until_booking                      int64\n",
       "days_from_first_active_account_created                    int64\n",
       "days_from_account_created_until_first_booking             int64\n",
       "year_first_active                                         int64\n",
       "month_first_active                                        int64\n",
       "day_first_active                                          int64\n",
       "week_of_year_first_active                                 int64\n",
       "day_of_week_first_active                                  int64\n",
       "year_first_booking                                        int64\n",
       "month_first_booking                                       int64\n",
       "day_first_booking                                         int64\n",
       "week_of_year_first_booking                                int64\n",
       "day_of_week_first_booking                                 int64\n",
       "year_account_created                                      int64\n",
       "month_account_created                                     int64\n",
       "day_account_created                                       int64\n",
       "week_of_year_account_created                              int64\n",
       "day_of_week_account_created                               int64\n",
       "dtype: object"
      ]
     },
     "execution_count": 120,
     "metadata": {},
     "output_type": "execute_result"
    }
   ],
   "source": [
    "df2.dtypes"
   ]
  },
  {
   "cell_type": "code",
   "execution_count": 121,
   "metadata": {
    "ExecuteTime": {
     "end_time": "2020-10-11T03:54:00.612907Z",
     "start_time": "2020-10-11T03:54:00.328349Z"
    },
    "hidden": true
   },
   "outputs": [
    {
     "data": {
      "text/plain": [
       "(122636, 35)"
      ]
     },
     "execution_count": 121,
     "metadata": {},
     "output_type": "execute_result"
    }
   ],
   "source": [
    "df2.shape"
   ]
  },
  {
   "cell_type": "markdown",
   "metadata": {
    "heading_collapsed": true
   },
   "source": [
    "## 3.0 Data Filtering"
   ]
  },
  {
   "cell_type": "code",
   "execution_count": 122,
   "metadata": {
    "ExecuteTime": {
     "end_time": "2020-10-11T03:54:00.912755Z",
     "start_time": "2020-10-11T03:54:00.619559Z"
    },
    "hidden": true
   },
   "outputs": [],
   "source": [
    "df3 = df2.copy()"
   ]
  },
  {
   "cell_type": "markdown",
   "metadata": {
    "ExecuteTime": {
     "end_time": "2020-09-02T03:37:17.382856Z",
     "start_time": "2020-09-02T03:37:17.379843Z"
    },
    "heading_collapsed": true,
    "hidden": true
   },
   "source": [
    "### 3.1 Filtering Rows"
   ]
  },
  {
   "cell_type": "code",
   "execution_count": 123,
   "metadata": {
    "ExecuteTime": {
     "end_time": "2020-10-11T03:54:01.312905Z",
     "start_time": "2020-10-11T03:54:00.913943Z"
    },
    "hidden": true
   },
   "outputs": [],
   "source": [
    "# Filtering rows:\n",
    "# age - greater than 15 and lower than 120 - There are few people over 120 years old\n",
    "df3 = df3[( df3['age'] > 15 ) & ( df3['age'] < 120 )]\n",
    "\n",
    "# secs_elapsed - there is no possible 0 secs elapsed on website\n",
    "#df3 = df3[df3['secs_elapsed'] > 0]"
   ]
  },
  {
   "cell_type": "markdown",
   "metadata": {
    "heading_collapsed": true,
    "hidden": true
   },
   "source": [
    "### 3.2 Column Selection"
   ]
  },
  {
   "cell_type": "code",
   "execution_count": 124,
   "metadata": {
    "ExecuteTime": {
     "end_time": "2020-10-11T03:54:01.610168Z",
     "start_time": "2020-10-11T03:54:01.314588Z"
    },
    "hidden": true
   },
   "outputs": [],
   "source": [
    "cols = [ 'date_account_created', 'timestamp_first_active', 'date_first_booking', 'first_active' ] # original datetime\n",
    "df3 = df3.drop( cols, axis=1 )"
   ]
  },
  {
   "cell_type": "markdown",
   "metadata": {
    "heading_collapsed": true
   },
   "source": [
    "## 4.0 Balanced Dataset"
   ]
  },
  {
   "cell_type": "code",
   "execution_count": 125,
   "metadata": {
    "ExecuteTime": {
     "end_time": "2020-10-11T03:54:01.911076Z",
     "start_time": "2020-10-11T03:54:01.611752Z"
    },
    "hidden": true
   },
   "outputs": [],
   "source": [
    "df4 = df3.copy()"
   ]
  },
  {
   "cell_type": "code",
   "execution_count": 126,
   "metadata": {
    "ExecuteTime": {
     "end_time": "2020-10-11T03:54:03.348453Z",
     "start_time": "2020-10-11T03:54:01.915604Z"
    },
    "hidden": true
   },
   "outputs": [],
   "source": [
    "# Encoder Categorical Variables\n",
    "ohe = pp.OneHotEncoder()\n",
    "\n",
    "# Numerical\n",
    "col_num = df4.select_dtypes( include=['int64', 'float64'] ).columns.tolist()\n",
    "\n",
    "# categorical\n",
    "col_cat = df4.select_dtypes( exclude=['int64', 'float64', 'datetime64[ns]'] ).drop( ['id', 'country_destination'], axis=1 ).columns.tolist()\n",
    "\n",
    "# Encoding\n",
    "df4_dummy = pd.DataFrame( ohe.fit_transform( df4[ col_cat ] ).toarray(), index=df4.index )\n",
    "\n",
    "# Join Numerical and Categorical\n",
    "df42 = pd.concat( [df4[col_num], df4_dummy], axis=1 )"
   ]
  },
  {
   "cell_type": "markdown",
   "metadata": {
    "heading_collapsed": true,
    "hidden": true
   },
   "source": [
    "### 4.1 Random Undersampling"
   ]
  },
  {
   "cell_type": "code",
   "execution_count": 127,
   "metadata": {
    "ExecuteTime": {
     "end_time": "2020-10-11T03:54:03.898879Z",
     "start_time": "2020-10-11T03:54:03.350808Z"
    },
    "hidden": true
   },
   "outputs": [],
   "source": [
    "# define sampler\n",
    "undersampling = us.RandomUnderSampler( sampling_strategy = 'auto', random_state=32 )\n",
    "\n",
    "# apply sampler\n",
    "X_under, y_under = undersampling.fit_resample( df42, df4['country_destination'] )"
   ]
  },
  {
   "cell_type": "markdown",
   "metadata": {
    "heading_collapsed": true,
    "hidden": true
   },
   "source": [
    "### 4.2 Random Oversampling"
   ]
  },
  {
   "cell_type": "code",
   "execution_count": 128,
   "metadata": {
    "ExecuteTime": {
     "end_time": "2020-10-11T03:54:06.863650Z",
     "start_time": "2020-10-11T03:54:03.900111Z"
    },
    "hidden": true
   },
   "outputs": [],
   "source": [
    "# define sampler\n",
    "oversampling = oversamp.RandomOverSampler( sampling_strategy = 'all', random_state=32 )\n",
    "\n",
    "# apply sampler\n",
    "X_over, y_over = oversampling.fit_resample( df42, df4['country_destination'] )"
   ]
  },
  {
   "cell_type": "markdown",
   "metadata": {
    "heading_collapsed": true,
    "hidden": true
   },
   "source": [
    "### 4.3 SMOTE + TOMEKLINK"
   ]
  },
  {
   "cell_type": "code",
   "execution_count": 129,
   "metadata": {
    "ExecuteTime": {
     "end_time": "2020-10-11T04:09:24.242043Z",
     "start_time": "2020-10-11T03:54:06.865420Z"
    },
    "hidden": true
   },
   "outputs": [],
   "source": [
    "# define sampler\n",
    "smt = c.SMOTETomek( sampling_strategy='auto', random_state=32, n_jobs=-1 )\n",
    "\n",
    "# apply sampler\n",
    "X_smt, y_smt = smt.fit_resample( df42, df4['country_destination'] )"
   ]
  },
  {
   "cell_type": "code",
   "execution_count": 130,
   "metadata": {
    "ExecuteTime": {
     "end_time": "2020-10-11T04:09:25.115986Z",
     "start_time": "2020-10-11T04:09:24.243762Z"
    },
    "hidden": true
   },
   "outputs": [],
   "source": [
    "# numerical\n",
    "df43 = X_smt[ col_num ]\n",
    "\n",
    "# categorical data\n",
    "df44 = X_smt.drop( col_num, axis=1 )\n",
    "df45 = pd.DataFrame( ohe.inverse_transform( df44 ), columns=col_cat, index=df44.index )\n",
    "\n",
    "# join numerical categorical\n",
    "df46 = pd.concat( [df43, df45], axis=1 )\n",
    "df46['country_destination'] = y_smt"
   ]
  },
  {
   "cell_type": "markdown",
   "metadata": {
    "heading_collapsed": true
   },
   "source": [
    "## 5.0 Data Preparation"
   ]
  },
  {
   "cell_type": "code",
   "execution_count": 131,
   "metadata": {
    "ExecuteTime": {
     "end_time": "2020-10-11T04:09:25.130521Z",
     "start_time": "2020-10-11T04:09:25.117227Z"
    },
    "hidden": true
   },
   "outputs": [],
   "source": [
    "df5 = df4.copy()"
   ]
  },
  {
   "cell_type": "code",
   "execution_count": 132,
   "metadata": {
    "ExecuteTime": {
     "end_time": "2020-10-11T04:09:25.661345Z",
     "start_time": "2020-10-11T04:09:25.132163Z"
    },
    "hidden": true
   },
   "outputs": [],
   "source": [
    "# dummy variable\n",
    "df5_dummy = pd.get_dummies( df5.drop( ['id', 'country_destination'], axis=1 ) )\n",
    "\n",
    "# join id and country destination\n",
    "df5 = pd.concat( [df5[['id', 'country_destination']], df5_dummy], axis=1 )"
   ]
  },
  {
   "cell_type": "code",
   "execution_count": 133,
   "metadata": {
    "ExecuteTime": {
     "end_time": "2020-10-11T04:09:25.908057Z",
     "start_time": "2020-10-11T04:09:25.662814Z"
    },
    "hidden": true
   },
   "outputs": [
    {
     "data": {
      "text/plain": [
       "(122636, 140)"
      ]
     },
     "execution_count": 133,
     "metadata": {},
     "output_type": "execute_result"
    }
   ],
   "source": [
    "df5.shape"
   ]
  },
  {
   "cell_type": "markdown",
   "metadata": {
    "heading_collapsed": true
   },
   "source": [
    "## 6.0 Feature Selection"
   ]
  },
  {
   "cell_type": "code",
   "execution_count": 134,
   "metadata": {
    "ExecuteTime": {
     "end_time": "2020-10-11T04:09:26.267157Z",
     "start_time": "2020-10-11T04:09:25.912627Z"
    },
    "hidden": true
   },
   "outputs": [],
   "source": [
    "#cols_drop = ['date_account_created', 'timestamp_first_active', 'date_first_booking', 'first_active'] # original dates\n",
    "df6 = df5.copy()#drop( cols_drop, axis=1 )"
   ]
  },
  {
   "cell_type": "code",
   "execution_count": 135,
   "metadata": {
    "ExecuteTime": {
     "end_time": "2020-10-11T04:09:26.670017Z",
     "start_time": "2020-10-11T04:09:26.271447Z"
    },
    "hidden": true
   },
   "outputs": [],
   "source": [
    " X = df6.drop( 'country_destination', axis=1 )\n",
    "y = df6['country_destination'].copy()"
   ]
  },
  {
   "cell_type": "code",
   "execution_count": 136,
   "metadata": {
    "ExecuteTime": {
     "end_time": "2020-10-11T04:09:27.066519Z",
     "start_time": "2020-10-11T04:09:26.672441Z"
    },
    "hidden": true
   },
   "outputs": [],
   "source": [
    "# Split dataset into training and test\n",
    "X_train, X_test, y_train, y_test = ms.train_test_split( X, y, test_size=0.2, random_state=32 )"
   ]
  },
  {
   "cell_type": "markdown",
   "metadata": {
    "heading_collapsed": true
   },
   "source": [
    "## 7.0 Machine Learning Model"
   ]
  },
  {
   "cell_type": "code",
   "execution_count": 137,
   "metadata": {
    "ExecuteTime": {
     "end_time": "2020-10-11T04:09:27.418852Z",
     "start_time": "2020-10-11T04:09:27.068183Z"
    },
    "hidden": true
   },
   "outputs": [],
   "source": [
    "x_train = X_train.drop( 'id', axis=1 )\n",
    "x_test = X_test.drop( 'id', axis=1 )"
   ]
  },
  {
   "cell_type": "markdown",
   "metadata": {
    "heading_collapsed": true,
    "hidden": true
   },
   "source": [
    "### 7.1 Baseline Model"
   ]
  },
  {
   "cell_type": "code",
   "execution_count": 138,
   "metadata": {
    "ExecuteTime": {
     "end_time": "2020-10-11T04:09:27.800519Z",
     "start_time": "2020-10-11T04:09:27.421072Z"
    },
    "hidden": true
   },
   "outputs": [],
   "source": [
    "import random"
   ]
  },
  {
   "cell_type": "code",
   "execution_count": 139,
   "metadata": {
    "ExecuteTime": {
     "end_time": "2020-10-11T04:09:28.395911Z",
     "start_time": "2020-10-11T04:09:27.804642Z"
    },
    "hidden": true
   },
   "outputs": [],
   "source": [
    "country_destination_list = df1['country_destination'].drop_duplicates().sort_values().tolist()\n",
    "k_num = y_test.shape[0]\n",
    "country_destination_weights = df1['country_destination'].value_counts( normalize=True ).sort_index().tolist()\n",
    "\n",
    "# Random model\n",
    "yhat_random = random.choices( population=country_destination_list, \n",
    "                             weights=country_destination_weights, \n",
    "                             k=k_num)"
   ]
  },
  {
   "cell_type": "markdown",
   "metadata": {
    "heading_collapsed": true,
    "hidden": true
   },
   "source": [
    "#### 7.1.1 Baseline Model Performance"
   ]
  },
  {
   "cell_type": "code",
   "execution_count": 140,
   "metadata": {
    "ExecuteTime": {
     "end_time": "2020-10-11T04:09:30.221477Z",
     "start_time": "2020-10-11T04:09:28.402609Z"
    },
    "hidden": true
   },
   "outputs": [
    {
     "name": "stdout",
     "output_type": "stream",
     "text": [
      "Accuracy: 0.35490052185257664\n",
      "Balanced Accuracy: 0.08356220323105511\n",
      "Kappa Score: -0.0028363122823136244\n",
      "              precision    recall  f1-score   support\n",
      "\n",
      "          AU       0.01      0.01      0.01        87\n",
      "          CA       0.01      0.01      0.01       216\n",
      "          DE       0.01      0.01      0.01       164\n",
      "          ES       0.02      0.03      0.02       319\n",
      "          FR       0.02      0.02      0.02       736\n",
      "          GB       0.01      0.01      0.01       361\n",
      "          IT       0.02      0.02      0.02       420\n",
      "         NDF       0.45      0.44      0.44     10962\n",
      "          NL       0.00      0.00      0.00       105\n",
      "          PT       0.00      0.00      0.00        31\n",
      "          US       0.39      0.39      0.39      9606\n",
      "       other       0.06      0.06      0.06      1521\n",
      "\n",
      "    accuracy                           0.35     24528\n",
      "   macro avg       0.08      0.08      0.08     24528\n",
      "weighted avg       0.36      0.35      0.36     24528\n",
      "\n"
     ]
    },
    {
     "data": {
      "text/plain": [
       "<AxesSubplot:title={'center':'Confusion Matrix'}, xlabel='Predicted label', ylabel='True label'>"
      ]
     },
     "execution_count": 140,
     "metadata": {},
     "output_type": "execute_result"
    },
    {
     "data": {
      "image/png": "[encoded data removed]",
      "text/plain": [
       "<Figure size 864x864 with 2 Axes>"
      ]
     },
     "metadata": {},
     "output_type": "display_data"
    }
   ],
   "source": [
    "# Accuracy\n",
    "acc_random = m.accuracy_score( y_test, yhat_random )\n",
    "print( 'Accuracy: {}'.format( acc_random ) )\n",
    "\n",
    "# Balanced Accuracy\n",
    "balanced_accuracy_random = m.balanced_accuracy_score( y_test, yhat_random )\n",
    "print( 'Balanced Accuracy: {}'.format( balanced_accuracy_random ) )\n",
    "\n",
    "# Kappa Metrics\n",
    "kappa_random = m.cohen_kappa_score( y_test, yhat_random )\n",
    "print( 'Kappa Score: {}'.format( kappa_random ) )\n",
    "\n",
    "# Classification Report\n",
    "print( m.classification_report( y_test, yhat_random ) )\n",
    "\n",
    "# Confusion Matrix\n",
    "mt.plot_confusion_matrix( y_test, yhat_random, normalize=False, figsize=(12, 12) )\n"
   ]
  },
  {
   "cell_type": "markdown",
   "metadata": {
    "heading_collapsed": true,
    "hidden": true
   },
   "source": [
    "### 7.2 Neural Network - MLP"
   ]
  },
  {
   "cell_type": "code",
   "execution_count": 141,
   "metadata": {
    "ExecuteTime": {
     "end_time": "2020-10-11T04:09:30.267126Z",
     "start_time": "2020-10-11T04:09:30.227750Z"
    },
    "hidden": true
   },
   "outputs": [],
   "source": [
    "ohe = pp.OneHotEncoder()\n",
    "y_train_nn = ohe.fit_transform( y_train.values.reshape( -1, 1 ) ).toarray()"
   ]
  },
  {
   "cell_type": "code",
   "execution_count": 142,
   "metadata": {
    "ExecuteTime": {
     "end_time": "2020-10-11T04:15:52.817236Z",
     "start_time": "2020-10-11T04:09:30.269999Z"
    },
    "hidden": true
   },
   "outputs": [
    {
     "name": "stdout",
     "output_type": "stream",
     "text": [
      "Epoch 1/100\n",
      "3066/3066 [==============================] - 4s 1ms/step - loss: 6.0801 - accuracy: 0.7345\n",
      "Epoch 2/100\n",
      "3066/3066 [==============================] - 4s 1ms/step - loss: 2.3739 - accuracy: 0.7563\n",
      "Epoch 3/100\n",
      "3066/3066 [==============================] - 4s 1ms/step - loss: 1.2966 - accuracy: 0.7858\n",
      "Epoch 4/100\n",
      "3066/3066 [==============================] - 3s 1ms/step - loss: 0.8811 - accuracy: 0.8123\n",
      "Epoch 5/100\n",
      "3066/3066 [==============================] - 4s 1ms/step - loss: 0.7248 - accuracy: 0.8316: 0s - loss: 0.7258 - accuracy\n",
      "Epoch 6/100\n",
      "3066/3066 [==============================] - 3s 1ms/step - loss: 0.6672 - accuracy: 0.8364\n",
      "Epoch 7/100\n",
      "3066/3066 [==============================] - 3s 1ms/step - loss: 0.6511 - accuracy: 0.8370: \n",
      "Epoch 8/100\n",
      "3066/3066 [==============================] - 4s 1ms/step - loss: 0.6443 - accuracy: 0.8379\n",
      "Epoch 9/100\n",
      "3066/3066 [==============================] - 4s 1ms/step - loss: 0.6431 - accuracy: 0.8383\n",
      "Epoch 10/100\n",
      "3066/3066 [==============================] - 4s 1ms/step - loss: 0.6420 - accuracy: 0.8385\n",
      "Epoch 11/100\n",
      "3066/3066 [==============================] - 4s 1ms/step - loss: 0.6410 - accuracy: 0.8385\n",
      "Epoch 12/100\n",
      "3066/3066 [==============================] - 4s 1ms/step - loss: 0.6412 - accuracy: 0.8385\n",
      "Epoch 13/100\n",
      "3066/3066 [==============================] - 3s 1ms/step - loss: 0.6420 - accuracy: 0.8384\n",
      "Epoch 14/100\n",
      "3066/3066 [==============================] - 3s 1ms/step - loss: 0.6399 - accuracy: 0.8385\n",
      "Epoch 15/100\n",
      "3066/3066 [==============================] - 3s 1ms/step - loss: 0.6401 - accuracy: 0.8386\n",
      "Epoch 16/100\n",
      "3066/3066 [==============================] - 3s 1ms/step - loss: 0.6395 - accuracy: 0.8387\n",
      "Epoch 17/100\n",
      "3066/3066 [==============================] - 3s 1ms/step - loss: 0.6395 - accuracy: 0.8386\n",
      "Epoch 18/100\n",
      "3066/3066 [==============================] - 3s 1ms/step - loss: 0.6399 - accuracy: 0.8385\n",
      "Epoch 19/100\n",
      "3066/3066 [==============================] - 3s 985us/step - loss: 0.6380 - accuracy: 0.8389\n",
      "Epoch 20/100\n",
      "3066/3066 [==============================] - 3s 1ms/step - loss: 0.6394 - accuracy: 0.8385\n",
      "Epoch 21/100\n",
      "3066/3066 [==============================] - 3s 1ms/step - loss: 0.6376 - accuracy: 0.8389\n",
      "Epoch 22/100\n",
      "3066/3066 [==============================] - 3s 1ms/step - loss: 0.6381 - accuracy: 0.8387\n",
      "Epoch 23/100\n",
      "3066/3066 [==============================] - 3s 1ms/step - loss: 0.6368 - accuracy: 0.8388\n",
      "Epoch 24/100\n",
      "3066/3066 [==============================] - 3s 1ms/step - loss: 0.6373 - accuracy: 0.8389\n",
      "Epoch 25/100\n",
      "3066/3066 [==============================] - 3s 1ms/step - loss: 0.6370 - accuracy: 0.8388\n",
      "Epoch 26/100\n",
      "3066/3066 [==============================] - 3s 1ms/step - loss: 0.6370 - accuracy: 0.8388\n",
      "Epoch 27/100\n",
      "3066/3066 [==============================] - 3s 1ms/step - loss: 0.6374 - accuracy: 0.8386\n",
      "Epoch 28/100\n",
      "3066/3066 [==============================] - 3s 1ms/step - loss: 0.6376 - accuracy: 0.8388\n",
      "Epoch 29/100\n",
      "3066/3066 [==============================] - 3s 1ms/step - loss: 0.6367 - accuracy: 0.8389\n",
      "Epoch 30/100\n",
      "3066/3066 [==============================] - 3s 1ms/step - loss: 0.6350 - accuracy: 0.8389\n",
      "Epoch 31/100\n",
      "3066/3066 [==============================] - 3s 1ms/step - loss: 0.6350 - accuracy: 0.8388\n",
      "Epoch 32/100\n",
      "3066/3066 [==============================] - 3s 1ms/step - loss: 0.6344 - accuracy: 0.8390\n",
      "Epoch 33/100\n",
      "3066/3066 [==============================] - 3s 1ms/step - loss: 0.6347 - accuracy: 0.8388\n",
      "Epoch 34/100\n",
      "3066/3066 [==============================] - 3s 1ms/step - loss: 0.6343 - accuracy: 0.8389\n",
      "Epoch 35/100\n",
      "3066/3066 [==============================] - 3s 1ms/step - loss: 0.6340 - accuracy: 0.8390\n",
      "Epoch 36/100\n",
      "3066/3066 [==============================] - 3s 1ms/step - loss: 0.6347 - accuracy: 0.8390\n",
      "Epoch 37/100\n",
      "3066/3066 [==============================] - 3s 1ms/step - loss: 0.6341 - accuracy: 0.8390\n",
      "Epoch 38/100\n",
      "3066/3066 [==============================] - 3s 1ms/step - loss: 0.6337 - accuracy: 0.8390\n",
      "Epoch 39/100\n",
      "3066/3066 [==============================] - 3s 1ms/step - loss: 0.6342 - accuracy: 0.8389\n",
      "Epoch 40/100\n",
      "3066/3066 [==============================] - 3s 990us/step - loss: 0.6341 - accuracy: 0.8390\n",
      "Epoch 41/100\n",
      "3066/3066 [==============================] - 3s 1ms/step - loss: 0.6342 - accuracy: 0.8389\n",
      "Epoch 42/100\n",
      "3066/3066 [==============================] - 3s 1ms/step - loss: 0.6341 - accuracy: 0.8390\n",
      "Epoch 43/100\n",
      "3066/3066 [==============================] - 3s 1ms/step - loss: 0.6349 - accuracy: 0.8389\n",
      "Epoch 44/100\n",
      "3066/3066 [==============================] - 3s 1ms/step - loss: 0.6338 - accuracy: 0.8390\n",
      "Epoch 45/100\n",
      "3066/3066 [==============================] - 3s 1ms/step - loss: 0.6341 - accuracy: 0.8389\n",
      "Epoch 46/100\n",
      "3066/3066 [==============================] - 3s 1ms/step - loss: 0.6346 - accuracy: 0.8389\n",
      "Epoch 47/100\n",
      "3066/3066 [==============================] - 3s 1ms/step - loss: 0.6351 - accuracy: 0.8389\n",
      "Epoch 48/100\n",
      "3066/3066 [==============================] - 3s 1ms/step - loss: 0.6338 - accuracy: 0.8390\n",
      "Epoch 49/100\n",
      "3066/3066 [==============================] - 3s 1ms/step - loss: 0.6341 - accuracy: 0.8389\n",
      "Epoch 50/100\n",
      "3066/3066 [==============================] - 3s 1ms/step - loss: 0.6341 - accuracy: 0.8390\n",
      "Epoch 51/100\n",
      "3066/3066 [==============================] - 3s 1ms/step - loss: 0.6347 - accuracy: 0.8390\n",
      "Epoch 52/100\n",
      "3066/3066 [==============================] - 3s 1ms/step - loss: 0.6337 - accuracy: 0.8390\n",
      "Epoch 53/100\n",
      "3066/3066 [==============================] - 3s 1ms/step - loss: 0.6340 - accuracy: 0.8390\n",
      "Epoch 54/100\n",
      "3066/3066 [==============================] - 3s 1ms/step - loss: 0.6340 - accuracy: 0.8390\n",
      "Epoch 55/100\n",
      "3066/3066 [==============================] - 3s 1ms/step - loss: 0.6340 - accuracy: 0.8390\n",
      "Epoch 56/100\n",
      "3066/3066 [==============================] - 3s 1ms/step - loss: 0.6335 - accuracy: 0.8390\n",
      "Epoch 57/100\n",
      "3066/3066 [==============================] - 3s 969us/step - loss: 0.6341 - accuracy: 0.8390\n",
      "Epoch 58/100\n",
      "3066/3066 [==============================] - 3s 1ms/step - loss: 0.6344 - accuracy: 0.8389\n",
      "Epoch 59/100\n",
      "3066/3066 [==============================] - 3s 1ms/step - loss: 0.6341 - accuracy: 0.8390\n",
      "Epoch 60/100\n",
      "3066/3066 [==============================] - 3s 1ms/step - loss: 0.6339 - accuracy: 0.8390\n",
      "Epoch 61/100\n",
      "3066/3066 [==============================] - 3s 1ms/step - loss: 0.6342 - accuracy: 0.8390\n",
      "Epoch 62/100\n",
      "3066/3066 [==============================] - 3s 1ms/step - loss: 0.6339 - accuracy: 0.8390\n",
      "Epoch 63/100\n",
      "3066/3066 [==============================] - 3s 1ms/step - loss: 0.6346 - accuracy: 0.8389\n",
      "Epoch 64/100\n",
      "3066/3066 [==============================] - 3s 1ms/step - loss: 0.6337 - accuracy: 0.8390\n",
      "Epoch 65/100\n",
      "3066/3066 [==============================] - 3s 1ms/step - loss: 0.6342 - accuracy: 0.8390\n",
      "Epoch 66/100\n",
      "3066/3066 [==============================] - 3s 1ms/step - loss: 0.6335 - accuracy: 0.8391\n",
      "Epoch 67/100\n",
      "3066/3066 [==============================] - 3s 1ms/step - loss: 0.6339 - accuracy: 0.8390\n",
      "Epoch 68/100\n",
      "3066/3066 [==============================] - 3s 1ms/step - loss: 0.6350 - accuracy: 0.8389\n",
      "Epoch 69/100\n",
      "3066/3066 [==============================] - 3s 1ms/step - loss: 0.6334 - accuracy: 0.8391\n",
      "Epoch 70/100\n",
      "3066/3066 [==============================] - 3s 999us/step - loss: 0.6336 - accuracy: 0.8391\n",
      "Epoch 71/100\n",
      "3066/3066 [==============================] - 3s 1ms/step - loss: 0.6343 - accuracy: 0.8389\n",
      "Epoch 72/100\n",
      "3066/3066 [==============================] - 3s 1ms/step - loss: 0.6337 - accuracy: 0.8390\n",
      "Epoch 73/100\n",
      "3066/3066 [==============================] - 3s 1ms/step - loss: 0.6335 - accuracy: 0.8390\n",
      "Epoch 74/100\n",
      "3066/3066 [==============================] - 3s 1ms/step - loss: 0.6335 - accuracy: 0.8390\n",
      "Epoch 75/100\n",
      "3066/3066 [==============================] - 3s 1ms/step - loss: 0.6338 - accuracy: 0.8390\n",
      "Epoch 76/100\n",
      "3066/3066 [==============================] - 3s 1ms/step - loss: 0.6333 - accuracy: 0.8391\n",
      "Epoch 77/100\n",
      "3066/3066 [==============================] - 3s 1ms/step - loss: 0.6343 - accuracy: 0.8390\n",
      "Epoch 78/100\n",
      "3066/3066 [==============================] - 3s 1ms/step - loss: 0.6333 - accuracy: 0.8391\n",
      "Epoch 79/100\n"
     ]
    },
    {
     "name": "stdout",
     "output_type": "stream",
     "text": [
      "3066/3066 [==============================] - 3s 1ms/step - loss: 0.6338 - accuracy: 0.8391\n",
      "Epoch 80/100\n",
      "3066/3066 [==============================] - 3s 1ms/step - loss: 0.6337 - accuracy: 0.8390\n",
      "Epoch 81/100\n",
      "3066/3066 [==============================] - 3s 1ms/step - loss: 0.6341 - accuracy: 0.8390\n",
      "Epoch 82/100\n",
      "3066/3066 [==============================] - 3s 1ms/step - loss: 0.6333 - accuracy: 0.8391\n",
      "Epoch 83/100\n",
      "3066/3066 [==============================] - 3s 1ms/step - loss: 0.6337 - accuracy: 0.8391\n",
      "Epoch 84/100\n",
      "3066/3066 [==============================] - 3s 1ms/step - loss: 0.6337 - accuracy: 0.8391\n",
      "Epoch 85/100\n",
      "3066/3066 [==============================] - 3s 1ms/step - loss: 0.6336 - accuracy: 0.8391\n",
      "Epoch 86/100\n",
      "3066/3066 [==============================] - 3s 1ms/step - loss: 0.6336 - accuracy: 0.8390\n",
      "Epoch 87/100\n",
      "3066/3066 [==============================] - 3s 1ms/step - loss: 0.6332 - accuracy: 0.8391\n",
      "Epoch 88/100\n",
      "3066/3066 [==============================] - 3s 1ms/step - loss: 0.6335 - accuracy: 0.8391\n",
      "Epoch 89/100\n",
      "3066/3066 [==============================] - 3s 980us/step - loss: 0.6336 - accuracy: 0.8391\n",
      "Epoch 90/100\n",
      "3066/3066 [==============================] - 3s 1ms/step - loss: 0.6336 - accuracy: 0.8391\n",
      "Epoch 91/100\n",
      "3066/3066 [==============================] - 3s 1ms/step - loss: 0.6334 - accuracy: 0.8391\n",
      "Epoch 92/100\n",
      "3066/3066 [==============================] - 3s 1ms/step - loss: 0.6340 - accuracy: 0.8390\n",
      "Epoch 93/100\n",
      "3066/3066 [==============================] - 3s 1ms/step - loss: 0.6347 - accuracy: 0.8390\n",
      "Epoch 94/100\n",
      "3066/3066 [==============================] - 3s 1ms/step - loss: 0.6333 - accuracy: 0.8391\n",
      "Epoch 95/100\n",
      "3066/3066 [==============================] - 3s 1ms/step - loss: 0.6347 - accuracy: 0.8390\n",
      "Epoch 96/100\n",
      "3066/3066 [==============================] - 3s 1ms/step - loss: 0.6338 - accuracy: 0.8390\n",
      "Epoch 97/100\n",
      "3066/3066 [==============================] - 3s 1ms/step - loss: 0.6335 - accuracy: 0.8391\n",
      "Epoch 98/100\n",
      "3066/3066 [==============================] - 3s 1ms/step - loss: 0.6338 - accuracy: 0.8390\n",
      "Epoch 99/100\n",
      "3066/3066 [==============================] - 3s 1ms/step - loss: 0.6331 - accuracy: 0.8392\n",
      "Epoch 100/100\n",
      "3066/3066 [==============================] - 3s 1ms/step - loss: 0.6337 - accuracy: 0.8391\n"
     ]
    },
    {
     "data": {
      "text/plain": [
       "<tensorflow.python.keras.callbacks.History at 0x7f2b5eb9da60>"
      ]
     },
     "execution_count": 142,
     "metadata": {},
     "output_type": "execute_result"
    }
   ],
   "source": [
    "# model definition\n",
    "model = ml.Sequential()\n",
    "model.add( l.Dense( 256, input_dim=x_train.shape[1], activation='relu' ) )\n",
    "model.add( l.Dense( 12, activation='softmax') )\n",
    "\n",
    "# model compile\n",
    "model.compile( loss='categorical_crossentropy', optimizer='adam', metrics=['accuracy'] )\n",
    "\n",
    "# train model\n",
    "model.fit( x_train, y_train_nn, epochs=100 )"
   ]
  },
  {
   "cell_type": "markdown",
   "metadata": {
    "heading_collapsed": true,
    "hidden": true
   },
   "source": [
    "#### 7.2.1 NN Performance"
   ]
  },
  {
   "cell_type": "code",
   "execution_count": 143,
   "metadata": {
    "ExecuteTime": {
     "end_time": "2020-10-11T04:16:06.756529Z",
     "start_time": "2020-10-11T04:15:52.819120Z"
    },
    "hidden": true
   },
   "outputs": [],
   "source": [
    "# prediction\n",
    "pred_nn = model.predict( x_test )\n",
    "\n",
    "# invert prediction\n",
    "yhat_nn = ohe.inverse_transform( pred_nn )\n",
    "\n",
    "# prediction prepare\n",
    "y_test_nn = y_test.to_numpy()\n",
    "yhat_nn = yhat_nn.reshape( 1, -1 )[0]"
   ]
  },
  {
   "cell_type": "code",
   "execution_count": 144,
   "metadata": {
    "ExecuteTime": {
     "end_time": "2020-10-11T04:16:08.738465Z",
     "start_time": "2020-10-11T04:16:06.761822Z"
    },
    "hidden": true,
    "scrolled": false
   },
   "outputs": [
    {
     "name": "stdout",
     "output_type": "stream",
     "text": [
      "Accuracy: 0.8384703196347032\n",
      "Balanced Accuracy: 0.16664931639947256\n",
      "Kappa Score: 0.7232441822459961\n"
     ]
    },
    {
     "name": "stderr",
     "output_type": "stream",
     "text": [
      "/home/victorpereira/.pyenv/versions/3.8.0/envs/airbnb_predict_first_booking/lib/python3.8/site-packages/sklearn/metrics/_classification.py:1221: UndefinedMetricWarning: Precision and F-score are ill-defined and being set to 0.0 in labels with no predicted samples. Use `zero_division` parameter to control this behavior.\n",
      "  _warn_prf(average, modifier, msg_start, len(result))\n"
     ]
    },
    {
     "name": "stdout",
     "output_type": "stream",
     "text": [
      "              precision    recall  f1-score   support\n",
      "\n",
      "          AU       0.00      0.00      0.00        87\n",
      "          CA       0.00      0.00      0.00       216\n",
      "          DE       0.00      0.00      0.00       164\n",
      "          ES       0.00      0.00      0.00       319\n",
      "          FR       0.00      0.00      0.00       736\n",
      "          GB       0.00      0.00      0.00       361\n",
      "          IT       0.00      0.00      0.00       420\n",
      "         NDF       1.00      1.00      1.00     10962\n",
      "          NL       0.00      0.00      0.00       105\n",
      "          PT       0.00      0.00      0.00        31\n",
      "          US       0.71      1.00      0.83      9606\n",
      "       other       0.00      0.00      0.00      1521\n",
      "\n",
      "    accuracy                           0.84     24528\n",
      "   macro avg       0.14      0.17      0.15     24528\n",
      "weighted avg       0.72      0.84      0.77     24528\n",
      "\n"
     ]
    },
    {
     "data": {
      "text/plain": [
       "<AxesSubplot:title={'center':'Confusion Matrix'}, xlabel='Predicted label', ylabel='True label'>"
      ]
     },
     "execution_count": 144,
     "metadata": {},
     "output_type": "execute_result"
    },
    {
     "data": {
      "image/png": "[encoded data removed]",
      "text/plain": [
       "<Figure size 864x864 with 2 Axes>"
      ]
     },
     "metadata": {},
     "output_type": "display_data"
    }
   ],
   "source": [
    "# Accuracy\n",
    "acc_nn = m.accuracy_score( y_test_nn, yhat_nn )\n",
    "print( 'Accuracy: {}'.format( acc_nn ) )\n",
    "\n",
    "# Balanced Accuracy\n",
    "balanced_accuracy_nn = m.balanced_accuracy_score( y_test_nn, yhat_nn )\n",
    "print( 'Balanced Accuracy: {}'.format( balanced_accuracy_nn ) )\n",
    "\n",
    "# Kappa Metrics\n",
    "kappa_nn = m.cohen_kappa_score( y_test_nn, yhat_nn )\n",
    "print( 'Kappa Score: {}'.format( kappa_nn ) )\n",
    "\n",
    "# Classification Report\n",
    "print( m.classification_report( y_test_nn, yhat_nn ) )\n",
    "\n",
    "# Confusion Matrix\n",
    "mt.plot_confusion_matrix( y_test_nn, yhat_nn, normalize=False, figsize=(12, 12) )\n"
   ]
  },
  {
   "cell_type": "markdown",
   "metadata": {
    "heading_collapsed": true,
    "hidden": true
   },
   "source": [
    "#### 7.2.2 NN Performance - Cross-Validation"
   ]
  },
  {
   "cell_type": "code",
   "execution_count": 145,
   "metadata": {
    "ExecuteTime": {
     "end_time": "2020-10-11T04:35:07.217797Z",
     "start_time": "2020-10-11T04:16:08.739939Z"
    },
    "hidden": true
   },
   "outputs": [
    {
     "name": "stdout",
     "output_type": "stream",
     "text": [
      "Fold Number:1/5\n",
      "Fold Number:2/5\n",
      "Fold Number:3/5\n",
      "Fold Number:4/5\n",
      "Fold Number:5/5\n"
     ]
    }
   ],
   "source": [
    "# generate k-fold\n",
    "num_folds = 5\n",
    "kfold = ms.StratifiedKFold( n_splits=num_folds, shuffle=True, random_state=32 )\n",
    "\n",
    "balanced_acc_list = []\n",
    "kappa_acc_list = []\n",
    "\n",
    "i = 1\n",
    "for train_ix, val_ix in kfold.split( x_train, y_train ):\n",
    "    print( 'Fold Number:{}/{}'.format( i, num_folds ) )\n",
    "    \n",
    "    # get fold\n",
    "    x_train_fold = x_train.iloc[train_ix]\n",
    "    y_train_fold = y_train.iloc[train_ix]\n",
    "    \n",
    "    x_val_fold = x_train.iloc[val_ix]\n",
    "    y_val_fold = y_train.iloc[val_ix]\n",
    "    \n",
    "    # target hot-encoder\n",
    "    ohe = pp.OneHotEncoder()\n",
    "    y_train_fold_nn = ohe.fit_transform( y_train_fold.values.reshape( -1, 1 ) ).toarray()\n",
    "\n",
    "    # model definition\n",
    "    model = ml.Sequential()\n",
    "    model.add( l.Dense( 256, input_dim=x_train.shape[1], activation='relu') )\n",
    "    model.add( l.Dense( 12, activation='softmax' ) )\n",
    "\n",
    "    # compile model\n",
    "    model.compile( loss='categorical_crossentropy', optimizer='adam', metrics=['accuracy'] )\n",
    "\n",
    "    # training model\n",
    "    model.fit( x_train_fold, y_train_fold_nn, epochs=100, batch_size=32, verbose=0 )\n",
    "\n",
    "    # prediction\n",
    "    pred_nn = model.predict( x_val_fold )\n",
    "    yhat_nn = ohe.inverse_transform( pred_nn )\n",
    "    \n",
    "    # prepare data\n",
    "    y_test_nn = y_val_fold.to_numpy()\n",
    "    yhat_nn = yhat_nn.reshape( 1, -1 )[0]\n",
    "\n",
    "    # metrics\n",
    "    ## Balanced Accuracy\n",
    "    balanced_acc_nn = m.balanced_accuracy_score( y_test_nn, yhat_nn )\n",
    "    balanced_acc_list.append( balanced_acc_nn )\n",
    "    \n",
    "    ## Kappa Metrics\n",
    "    kappa_acc_nn = m.cohen_kappa_score( y_test_nn, yhat_nn )\n",
    "    kappa_acc_list.append( kappa_acc_nn )\n",
    "    \n",
    "    i += 1"
   ]
  },
  {
   "cell_type": "code",
   "execution_count": 146,
   "metadata": {
    "ExecuteTime": {
     "end_time": "2020-10-11T04:35:07.224846Z",
     "start_time": "2020-10-11T04:35:07.219430Z"
    },
    "hidden": true
   },
   "outputs": [
    {
     "name": "stdout",
     "output_type": "stream",
     "text": [
      "Avg Balanced Accuracy: 0.17 +/- 0.0021\n",
      "Avg Kappa Accuracy: 0.7147 +/- 0.0193\n"
     ]
    }
   ],
   "source": [
    "print( 'Avg Balanced Accuracy: {} +/- {}'.format( np.round( np.mean( balanced_acc_list ), 2 ), \n",
    "                                                 np.round( np.std( balanced_acc_list ), 4 ) ) )\n",
    "print( 'Avg Kappa Accuracy: {} +/- {}'.format( np.round( np.mean( kappa_acc_list ), 4 ), \n",
    "                                              np.round( np.std( kappa_acc_list ), 4 ) ) )"
   ]
  },
  {
   "cell_type": "code",
   "execution_count": null,
   "metadata": {
    "hidden": true
   },
   "outputs": [],
   "source": []
  }
 ],
 "metadata": {
  "kernelspec": {
   "display_name": "Python 3",
   "language": "python",
   "name": "python3"
  },
  "language_info": {
   "codemirror_mode": {
    "name": "ipython",
    "version": 3
   },
   "file_extension": ".py",
   "mimetype": "text/x-python",
   "name": "python",
   "nbconvert_exporter": "python",
   "pygments_lexer": "ipython3",
   "version": "3.8.0"
  }
 },
 "nbformat": 4,
 "nbformat_minor": 4
}
