{
 "cells": [
  {
   "cell_type": "markdown",
   "metadata": {
    "heading_collapsed": true
   },
   "source": [
    "# 0.0 Understand the Problem"
   ]
  },
  {
   "cell_type": "markdown",
   "metadata": {
    "hidden": true
   },
   "source": [
    "-- Objetivo do problema:\n",
    "    -- 1.0 Previsão do primeiro destino que um novo usuário irá escolher.\n",
    "        \n",
    "    -- Porque?\n",
    "        -- Qual tipo de modelo de negócio do Airbnb?\n",
    "            -- Marketplace (Conecta pessoas que oferecem acomodação, com pessoas que estão procurando acomodação)\n",
    "            -- Oferta (pessoas oferecendo acomodação)\n",
    "                -- Tamanho do Potfólio\n",
    "                -- Diversidade/Densidade do Potfólio\n",
    "                -- Preço Médio do aluguel\n",
    "                                \n",
    "            -- Demanda ( pessoas procurando acomodação)\n",
    "                -- Número de usuários\n",
    "                -- LTV (Lifetime Value)\n",
    "                -- CAC (Client Acquisition Cost)\n",
    "                \n",
    "                \n",
    "                Gross Revenue = (Fee*Número de Cliente) - CAC\n",
    "        \n",
    "-- Proposta da Solução <br>\n",
    "\n",
    "    -- Modelo de Previsão do primeiro destino de um novo usuário\n",
    "    -- 1.0 Predições e salvar em uma tabela do banco de dados\n",
    "    -- 2.0 API\n",
    "        -- Input: usuário e suas caracteristicas\n",
    "        -- Output: usuario e suas caracteristicas com a **predição de destino**\n",
    "        \n",
    "    -- 16 ciclos"
   ]
  },
  {
   "cell_type": "markdown",
   "metadata": {},
   "source": [
    "# <font color='red'> Ciclo01: End to End </font>"
   ]
  },
  {
   "cell_type": "markdown",
   "metadata": {
    "ExecuteTime": {
     "end_time": "2020-09-02T03:09:55.592975Z",
     "start_time": "2020-09-02T03:09:55.549093Z"
    },
    "heading_collapsed": true
   },
   "source": [
    "## 0.0 Imports"
   ]
  },
  {
   "cell_type": "code",
   "execution_count": 71,
   "metadata": {
    "ExecuteTime": {
     "end_time": "2020-09-02T04:02:53.747811Z",
     "start_time": "2020-09-02T04:02:53.327811Z"
    },
    "hidden": true
   },
   "outputs": [],
   "source": [
    "import pandas                           as pd\n",
    "\n",
    "from sklearn     import model_selection as ms\n",
    "from sklearn     import preprocessing   as pp\n",
    "from sklearn     import metrics         as m\n",
    "\n",
    "from keras       import models          as ml\n",
    "from keras       import layers          as l\n",
    "\n",
    "from scikitplot  import metrics         as mt"
   ]
  },
  {
   "cell_type": "markdown",
   "metadata": {
    "heading_collapsed": true,
    "hidden": true
   },
   "source": [
    "### 0.1 Helper Functions"
   ]
  },
  {
   "cell_type": "code",
   "execution_count": null,
   "metadata": {
    "hidden": true
   },
   "outputs": [],
   "source": []
  },
  {
   "cell_type": "markdown",
   "metadata": {
    "heading_collapsed": true,
    "hidden": true
   },
   "source": [
    "### 0.2 Loading Data"
   ]
  },
  {
   "cell_type": "code",
   "execution_count": 13,
   "metadata": {
    "ExecuteTime": {
     "end_time": "2020-09-02T03:23:59.026823Z",
     "start_time": "2020-09-02T03:23:58.700420Z"
    },
    "hidden": true
   },
   "outputs": [
    {
     "data": {
      "text/plain": [
       "(213451, 16)"
      ]
     },
     "execution_count": 13,
     "metadata": {},
     "output_type": "execute_result"
    }
   ],
   "source": [
    "df_raw = pd.read_csv( 'data/train_users_2.csv', low_memory=True )\n",
    "df_raw.shape"
   ]
  },
  {
   "cell_type": "code",
   "execution_count": 8,
   "metadata": {
    "ExecuteTime": {
     "end_time": "2020-09-02T03:18:51.587372Z",
     "start_time": "2020-09-02T03:18:45.970186Z"
    },
    "hidden": true
   },
   "outputs": [
    {
     "data": {
      "text/plain": [
       "(10567737, 6)"
      ]
     },
     "execution_count": 8,
     "metadata": {},
     "output_type": "execute_result"
    }
   ],
   "source": [
    "#df_sessions = pd.read_csv( 'data/sessions.csv', low_memory=True )\n",
    "#df_sessions.shape"
   ]
  },
  {
   "cell_type": "markdown",
   "metadata": {
    "heading_collapsed": true
   },
   "source": [
    "## 1.0 Data Description"
   ]
  },
  {
   "cell_type": "code",
   "execution_count": 14,
   "metadata": {
    "ExecuteTime": {
     "end_time": "2020-09-02T03:24:01.324638Z",
     "start_time": "2020-09-02T03:24:01.228867Z"
    },
    "hidden": true
   },
   "outputs": [],
   "source": [
    "df1 = df_raw.copy()"
   ]
  },
  {
   "cell_type": "code",
   "execution_count": 15,
   "metadata": {
    "ExecuteTime": {
     "end_time": "2020-09-02T03:24:01.682699Z",
     "start_time": "2020-09-02T03:24:01.678711Z"
    },
    "hidden": true
   },
   "outputs": [
    {
     "name": "stdout",
     "output_type": "stream",
     "text": [
      "Number of rows: 213451\n",
      "Number of columns: 16\n"
     ]
    }
   ],
   "source": [
    "print( 'Number of rows: {}'.format( df1.shape[0]) )\n",
    "print( 'Number of columns: {}'.format( df1.shape[1]) )"
   ]
  },
  {
   "cell_type": "markdown",
   "metadata": {
    "heading_collapsed": true,
    "hidden": true
   },
   "source": [
    "### 1.1 Data Type"
   ]
  },
  {
   "cell_type": "code",
   "execution_count": 16,
   "metadata": {
    "ExecuteTime": {
     "end_time": "2020-09-02T03:24:29.552161Z",
     "start_time": "2020-09-02T03:24:29.546154Z"
    },
    "hidden": true
   },
   "outputs": [
    {
     "data": {
      "text/plain": [
       "id                          object\n",
       "date_account_created        object\n",
       "timestamp_first_active       int64\n",
       "date_first_booking          object\n",
       "gender                      object\n",
       "age                        float64\n",
       "signup_method               object\n",
       "signup_flow                  int64\n",
       "language                    object\n",
       "affiliate_channel           object\n",
       "affiliate_provider          object\n",
       "first_affiliate_tracked     object\n",
       "signup_app                  object\n",
       "first_device_type           object\n",
       "first_browser               object\n",
       "country_destination         object\n",
       "dtype: object"
      ]
     },
     "execution_count": 16,
     "metadata": {},
     "output_type": "execute_result"
    }
   ],
   "source": [
    "df1.dtypes"
   ]
  },
  {
   "cell_type": "code",
   "execution_count": 20,
   "metadata": {
    "ExecuteTime": {
     "end_time": "2020-09-02T03:26:26.365297Z",
     "start_time": "2020-09-02T03:26:26.353340Z"
    },
    "hidden": true
   },
   "outputs": [
    {
     "data": {
      "text/html": [
       "<div>\n",
       "<style scoped>\n",
       "    .dataframe tbody tr th:only-of-type {\n",
       "        vertical-align: middle;\n",
       "    }\n",
       "\n",
       "    .dataframe tbody tr th {\n",
       "        vertical-align: top;\n",
       "    }\n",
       "\n",
       "    .dataframe thead th {\n",
       "        text-align: right;\n",
       "    }\n",
       "</style>\n",
       "<table border=\"1\" class=\"dataframe\">\n",
       "  <thead>\n",
       "    <tr style=\"text-align: right;\">\n",
       "      <th></th>\n",
       "      <th>201376</th>\n",
       "    </tr>\n",
       "  </thead>\n",
       "  <tbody>\n",
       "    <tr>\n",
       "      <th>id</th>\n",
       "      <td>nhtdwqcns8</td>\n",
       "    </tr>\n",
       "    <tr>\n",
       "      <th>date_account_created</th>\n",
       "      <td>2014-06-08</td>\n",
       "    </tr>\n",
       "    <tr>\n",
       "      <th>timestamp_first_active</th>\n",
       "      <td>20140608153003</td>\n",
       "    </tr>\n",
       "    <tr>\n",
       "      <th>date_first_booking</th>\n",
       "      <td>NaN</td>\n",
       "    </tr>\n",
       "    <tr>\n",
       "      <th>gender</th>\n",
       "      <td>MALE</td>\n",
       "    </tr>\n",
       "    <tr>\n",
       "      <th>age</th>\n",
       "      <td>32</td>\n",
       "    </tr>\n",
       "    <tr>\n",
       "      <th>signup_method</th>\n",
       "      <td>basic</td>\n",
       "    </tr>\n",
       "    <tr>\n",
       "      <th>signup_flow</th>\n",
       "      <td>0</td>\n",
       "    </tr>\n",
       "    <tr>\n",
       "      <th>language</th>\n",
       "      <td>en</td>\n",
       "    </tr>\n",
       "    <tr>\n",
       "      <th>affiliate_channel</th>\n",
       "      <td>direct</td>\n",
       "    </tr>\n",
       "    <tr>\n",
       "      <th>affiliate_provider</th>\n",
       "      <td>direct</td>\n",
       "    </tr>\n",
       "    <tr>\n",
       "      <th>first_affiliate_tracked</th>\n",
       "      <td>untracked</td>\n",
       "    </tr>\n",
       "    <tr>\n",
       "      <th>signup_app</th>\n",
       "      <td>Web</td>\n",
       "    </tr>\n",
       "    <tr>\n",
       "      <th>first_device_type</th>\n",
       "      <td>Windows Desktop</td>\n",
       "    </tr>\n",
       "    <tr>\n",
       "      <th>first_browser</th>\n",
       "      <td>Firefox</td>\n",
       "    </tr>\n",
       "    <tr>\n",
       "      <th>country_destination</th>\n",
       "      <td>NDF</td>\n",
       "    </tr>\n",
       "  </tbody>\n",
       "</table>\n",
       "</div>"
      ],
      "text/plain": [
       "                                  201376\n",
       "id                            nhtdwqcns8\n",
       "date_account_created          2014-06-08\n",
       "timestamp_first_active    20140608153003\n",
       "date_first_booking                   NaN\n",
       "gender                              MALE\n",
       "age                                   32\n",
       "signup_method                      basic\n",
       "signup_flow                            0\n",
       "language                              en\n",
       "affiliate_channel                 direct\n",
       "affiliate_provider                direct\n",
       "first_affiliate_tracked        untracked\n",
       "signup_app                           Web\n",
       "first_device_type        Windows Desktop\n",
       "first_browser                    Firefox\n",
       "country_destination                  NDF"
      ]
     },
     "execution_count": 20,
     "metadata": {},
     "output_type": "execute_result"
    }
   ],
   "source": [
    "df1.sample().T"
   ]
  },
  {
   "cell_type": "markdown",
   "metadata": {
    "heading_collapsed": true,
    "hidden": true
   },
   "source": [
    "### 1.2 NA Check"
   ]
  },
  {
   "cell_type": "code",
   "execution_count": 21,
   "metadata": {
    "ExecuteTime": {
     "end_time": "2020-09-02T03:26:36.429776Z",
     "start_time": "2020-09-02T03:26:36.341012Z"
    },
    "hidden": true
   },
   "outputs": [
    {
     "data": {
      "text/plain": [
       "id                              0\n",
       "date_account_created            0\n",
       "timestamp_first_active          0\n",
       "date_first_booking         124543\n",
       "gender                          0\n",
       "age                         87990\n",
       "signup_method                   0\n",
       "signup_flow                     0\n",
       "language                        0\n",
       "affiliate_channel               0\n",
       "affiliate_provider              0\n",
       "first_affiliate_tracked      6065\n",
       "signup_app                      0\n",
       "first_device_type               0\n",
       "first_browser                   0\n",
       "country_destination             0\n",
       "dtype: int64"
      ]
     },
     "execution_count": 21,
     "metadata": {},
     "output_type": "execute_result"
    }
   ],
   "source": [
    "df1.isna().sum()"
   ]
  },
  {
   "cell_type": "code",
   "execution_count": 23,
   "metadata": {
    "ExecuteTime": {
     "end_time": "2020-09-02T03:31:50.249450Z",
     "start_time": "2020-09-02T03:31:50.203572Z"
    },
    "hidden": true
   },
   "outputs": [
    {
     "data": {
      "text/plain": [
       "(68171, 16)"
      ]
     },
     "execution_count": 23,
     "metadata": {},
     "output_type": "execute_result"
    }
   ],
   "source": [
    "# remoe missing values completly\n",
    "df1 = df1.dropna()\n",
    "df1.shape"
   ]
  },
  {
   "cell_type": "code",
   "execution_count": 24,
   "metadata": {
    "ExecuteTime": {
     "end_time": "2020-09-02T03:32:04.516900Z",
     "start_time": "2020-09-02T03:32:04.481996Z"
    },
    "hidden": true
   },
   "outputs": [
    {
     "data": {
      "text/plain": [
       "id                         0\n",
       "date_account_created       0\n",
       "timestamp_first_active     0\n",
       "date_first_booking         0\n",
       "gender                     0\n",
       "age                        0\n",
       "signup_method              0\n",
       "signup_flow                0\n",
       "language                   0\n",
       "affiliate_channel          0\n",
       "affiliate_provider         0\n",
       "first_affiliate_tracked    0\n",
       "signup_app                 0\n",
       "first_device_type          0\n",
       "first_browser              0\n",
       "country_destination        0\n",
       "dtype: int64"
      ]
     },
     "execution_count": 24,
     "metadata": {},
     "output_type": "execute_result"
    }
   ],
   "source": [
    "df1.isna().sum()"
   ]
  },
  {
   "cell_type": "markdown",
   "metadata": {
    "heading_collapsed": true,
    "hidden": true
   },
   "source": [
    "### 1.3 Change Type"
   ]
  },
  {
   "cell_type": "code",
   "execution_count": 25,
   "metadata": {
    "ExecuteTime": {
     "end_time": "2020-09-02T03:34:26.379336Z",
     "start_time": "2020-09-02T03:34:26.160399Z"
    },
    "hidden": true
   },
   "outputs": [],
   "source": [
    "# date_account_created\n",
    "df1['date_account_created'] = pd.to_datetime( df1['date_account_created'] )\n",
    "\n",
    "# timestamp_first_active\n",
    "df1['timestamp_first_active'] = pd.to_datetime( df1['timestamp_first_active'], format='%Y%m%d%H%M%S' )\n",
    "\n",
    "# date_first_booking\n",
    "df1['date_first_booking'] = pd.to_datetime( df1['date_first_booking'] )\n",
    "\n",
    "# age\n",
    "df1['age'] = df1['age'].astype( int )"
   ]
  },
  {
   "cell_type": "code",
   "execution_count": 26,
   "metadata": {
    "ExecuteTime": {
     "end_time": "2020-09-02T03:34:30.500644Z",
     "start_time": "2020-09-02T03:34:30.494681Z"
    },
    "hidden": true
   },
   "outputs": [
    {
     "data": {
      "text/plain": [
       "id                                 object\n",
       "date_account_created       datetime64[ns]\n",
       "timestamp_first_active     datetime64[ns]\n",
       "date_first_booking         datetime64[ns]\n",
       "gender                             object\n",
       "age                                 int32\n",
       "signup_method                      object\n",
       "signup_flow                         int64\n",
       "language                           object\n",
       "affiliate_channel                  object\n",
       "affiliate_provider                 object\n",
       "first_affiliate_tracked            object\n",
       "signup_app                         object\n",
       "first_device_type                  object\n",
       "first_browser                      object\n",
       "country_destination                object\n",
       "dtype: object"
      ]
     },
     "execution_count": 26,
     "metadata": {},
     "output_type": "execute_result"
    }
   ],
   "source": [
    "df1.dtypes"
   ]
  },
  {
   "cell_type": "markdown",
   "metadata": {
    "heading_collapsed": true,
    "hidden": true
   },
   "source": [
    "### 1.4 Check Balanced Data"
   ]
  },
  {
   "cell_type": "code",
   "execution_count": 27,
   "metadata": {
    "ExecuteTime": {
     "end_time": "2020-09-02T03:35:02.156934Z",
     "start_time": "2020-09-02T03:35:02.143976Z"
    },
    "hidden": true
   },
   "outputs": [
    {
     "data": {
      "text/plain": [
       "US       0.708864\n",
       "other    0.110854\n",
       "FR       0.054085\n",
       "IT       0.029763\n",
       "GB       0.025935\n",
       "ES       0.024864\n",
       "CA       0.015696\n",
       "DE       0.012454\n",
       "NL       0.008801\n",
       "AU       0.006366\n",
       "PT       0.002318\n",
       "Name: country_destination, dtype: float64"
      ]
     },
     "execution_count": 27,
     "metadata": {},
     "output_type": "execute_result"
    }
   ],
   "source": [
    "df1['country_destination'].value_counts( normalize=True )"
   ]
  },
  {
   "cell_type": "markdown",
   "metadata": {
    "heading_collapsed": true
   },
   "source": [
    "## 2.0 Data Filtering"
   ]
  },
  {
   "cell_type": "code",
   "execution_count": 29,
   "metadata": {
    "ExecuteTime": {
     "end_time": "2020-09-02T03:38:09.680122Z",
     "start_time": "2020-09-02T03:38:09.674134Z"
    },
    "hidden": true
   },
   "outputs": [],
   "source": [
    "df2 = df1.copy()"
   ]
  },
  {
   "cell_type": "markdown",
   "metadata": {
    "ExecuteTime": {
     "end_time": "2020-09-02T03:37:17.382856Z",
     "start_time": "2020-09-02T03:37:17.379843Z"
    },
    "heading_collapsed": true,
    "hidden": true
   },
   "source": [
    "### 2.1 Filtering Rows"
   ]
  },
  {
   "cell_type": "code",
   "execution_count": null,
   "metadata": {
    "hidden": true
   },
   "outputs": [],
   "source": []
  },
  {
   "cell_type": "markdown",
   "metadata": {
    "heading_collapsed": true,
    "hidden": true
   },
   "source": [
    "### 2.2 Column Selection"
   ]
  },
  {
   "cell_type": "code",
   "execution_count": null,
   "metadata": {
    "hidden": true
   },
   "outputs": [],
   "source": []
  },
  {
   "cell_type": "markdown",
   "metadata": {
    "heading_collapsed": true
   },
   "source": [
    "## 3.0 Data Preparation"
   ]
  },
  {
   "cell_type": "code",
   "execution_count": 30,
   "metadata": {
    "ExecuteTime": {
     "end_time": "2020-09-02T03:38:17.013045Z",
     "start_time": "2020-09-02T03:38:17.006026Z"
    },
    "hidden": true
   },
   "outputs": [],
   "source": [
    "df3 = df2.copy()"
   ]
  },
  {
   "cell_type": "code",
   "execution_count": 59,
   "metadata": {
    "ExecuteTime": {
     "end_time": "2020-09-02T03:57:49.883432Z",
     "start_time": "2020-09-02T03:57:49.806472Z"
    },
    "hidden": true
   },
   "outputs": [],
   "source": [
    "# dummy variable\n",
    "df3_dummy = pd.get_dummies( df3.drop( ['id', 'country_destination'], axis=1 ) )\n",
    "\n",
    "# join id and country destination\n",
    "df3 = pd.concat( [df3[['id', 'country_destination']], df3_dummy], axis=1 )"
   ]
  },
  {
   "cell_type": "markdown",
   "metadata": {
    "heading_collapsed": true
   },
   "source": [
    "## 4.0 Feature Selection"
   ]
  },
  {
   "cell_type": "code",
   "execution_count": 60,
   "metadata": {
    "ExecuteTime": {
     "end_time": "2020-09-02T03:57:52.798046Z",
     "start_time": "2020-09-02T03:57:52.783113Z"
    },
    "hidden": true
   },
   "outputs": [],
   "source": [
    "cols_drop = [ 'date_account_created', 'timestamp_first_active', 'date_first_booking' ] #original date\n",
    "df4 = df3.drop( cols_drop, axis=1 )"
   ]
  },
  {
   "cell_type": "code",
   "execution_count": 61,
   "metadata": {
    "ExecuteTime": {
     "end_time": "2020-09-02T03:57:53.351021Z",
     "start_time": "2020-09-02T03:57:53.341077Z"
    },
    "hidden": true
   },
   "outputs": [
    {
     "data": {
      "text/html": [
       "<div>\n",
       "<style scoped>\n",
       "    .dataframe tbody tr th:only-of-type {\n",
       "        vertical-align: middle;\n",
       "    }\n",
       "\n",
       "    .dataframe tbody tr th {\n",
       "        vertical-align: top;\n",
       "    }\n",
       "\n",
       "    .dataframe thead th {\n",
       "        text-align: right;\n",
       "    }\n",
       "</style>\n",
       "<table border=\"1\" class=\"dataframe\">\n",
       "  <thead>\n",
       "    <tr style=\"text-align: right;\">\n",
       "      <th></th>\n",
       "      <th>15539</th>\n",
       "    </tr>\n",
       "  </thead>\n",
       "  <tbody>\n",
       "    <tr>\n",
       "      <th>id</th>\n",
       "      <td>mp2c1vmm9t</td>\n",
       "    </tr>\n",
       "    <tr>\n",
       "      <th>country_destination</th>\n",
       "      <td>US</td>\n",
       "    </tr>\n",
       "    <tr>\n",
       "      <th>age</th>\n",
       "      <td>33</td>\n",
       "    </tr>\n",
       "    <tr>\n",
       "      <th>signup_flow</th>\n",
       "      <td>2</td>\n",
       "    </tr>\n",
       "    <tr>\n",
       "      <th>gender_-unknown-</th>\n",
       "      <td>0</td>\n",
       "    </tr>\n",
       "    <tr>\n",
       "      <th>...</th>\n",
       "      <td>...</td>\n",
       "    </tr>\n",
       "    <tr>\n",
       "      <th>first_browser_Sogou Explorer</th>\n",
       "      <td>0</td>\n",
       "    </tr>\n",
       "    <tr>\n",
       "      <th>first_browser_Stainless</th>\n",
       "      <td>0</td>\n",
       "    </tr>\n",
       "    <tr>\n",
       "      <th>first_browser_TenFourFox</th>\n",
       "      <td>0</td>\n",
       "    </tr>\n",
       "    <tr>\n",
       "      <th>first_browser_TheWorld Browser</th>\n",
       "      <td>0</td>\n",
       "    </tr>\n",
       "    <tr>\n",
       "      <th>first_browser_Yandex.Browser</th>\n",
       "      <td>0</td>\n",
       "    </tr>\n",
       "  </tbody>\n",
       "</table>\n",
       "<p>114 rows × 1 columns</p>\n",
       "</div>"
      ],
      "text/plain": [
       "                                     15539\n",
       "id                              mp2c1vmm9t\n",
       "country_destination                     US\n",
       "age                                     33\n",
       "signup_flow                              2\n",
       "gender_-unknown-                         0\n",
       "...                                    ...\n",
       "first_browser_Sogou Explorer             0\n",
       "first_browser_Stainless                  0\n",
       "first_browser_TenFourFox                 0\n",
       "first_browser_TheWorld Browser           0\n",
       "first_browser_Yandex.Browser             0\n",
       "\n",
       "[114 rows x 1 columns]"
      ]
     },
     "execution_count": 61,
     "metadata": {},
     "output_type": "execute_result"
    }
   ],
   "source": [
    "df4.sample().T"
   ]
  },
  {
   "cell_type": "code",
   "execution_count": 62,
   "metadata": {
    "ExecuteTime": {
     "end_time": "2020-09-02T03:57:53.947145Z",
     "start_time": "2020-09-02T03:57:53.933176Z"
    },
    "hidden": true
   },
   "outputs": [],
   "source": [
    "X = df4.drop( 'country_destination', axis=1 )\n",
    "y = df4['country_destination'].copy()"
   ]
  },
  {
   "cell_type": "markdown",
   "metadata": {
    "heading_collapsed": true
   },
   "source": [
    "## 5.0 Machine Learning Model - Neural Network - Multi-Layer Perceptron"
   ]
  },
  {
   "cell_type": "code",
   "execution_count": 63,
   "metadata": {
    "ExecuteTime": {
     "end_time": "2020-09-02T03:57:56.045973Z",
     "start_time": "2020-09-02T03:57:56.042981Z"
    },
    "hidden": true
   },
   "outputs": [],
   "source": [
    "# Split dataset into training and test"
   ]
  },
  {
   "cell_type": "code",
   "execution_count": 64,
   "metadata": {
    "ExecuteTime": {
     "end_time": "2020-09-02T03:57:56.385696Z",
     "start_time": "2020-09-02T03:57:56.359732Z"
    },
    "hidden": true
   },
   "outputs": [],
   "source": [
    "X_train, X_test, y_train, y_test = ms.train_test_split( X, y, test_size=0.2, random_state=32 )"
   ]
  },
  {
   "cell_type": "code",
   "execution_count": 65,
   "metadata": {
    "ExecuteTime": {
     "end_time": "2020-09-02T03:57:56.975770Z",
     "start_time": "2020-09-02T03:57:56.962780Z"
    },
    "hidden": true
   },
   "outputs": [],
   "source": [
    "x_train = X_train.drop( 'id', axis=1 )\n",
    "x_test = X_test.drop( 'id', axis=1 )"
   ]
  },
  {
   "cell_type": "code",
   "execution_count": 72,
   "metadata": {
    "ExecuteTime": {
     "end_time": "2020-09-02T04:09:38.445806Z",
     "start_time": "2020-09-02T04:09:38.430828Z"
    },
    "hidden": true
   },
   "outputs": [],
   "source": [
    "ohe = pp.OneHotEncoder()\n",
    "y_train_nn = ohe.fit_transform( y_train.values.reshape( -1, 1 ) ).toarray()"
   ]
  },
  {
   "cell_type": "code",
   "execution_count": 73,
   "metadata": {
    "ExecuteTime": {
     "end_time": "2020-09-02T04:09:38.874404Z",
     "start_time": "2020-09-02T04:09:38.870416Z"
    },
    "hidden": true
   },
   "outputs": [
    {
     "data": {
      "text/plain": [
       "array([[0., 0., 0., ..., 0., 1., 0.],\n",
       "       [0., 0., 0., ..., 0., 0., 0.],\n",
       "       [0., 0., 0., ..., 0., 0., 0.],\n",
       "       ...,\n",
       "       [0., 0., 0., ..., 0., 1., 0.],\n",
       "       [0., 0., 0., ..., 0., 0., 0.],\n",
       "       [0., 0., 0., ..., 0., 1., 0.]])"
      ]
     },
     "execution_count": 73,
     "metadata": {},
     "output_type": "execute_result"
    }
   ],
   "source": [
    "y_train_nn"
   ]
  },
  {
   "cell_type": "code",
   "execution_count": 75,
   "metadata": {
    "ExecuteTime": {
     "end_time": "2020-09-02T04:12:40.317988Z",
     "start_time": "2020-09-02T04:10:46.377304Z"
    },
    "hidden": true
   },
   "outputs": [
    {
     "name": "stdout",
     "output_type": "stream",
     "text": [
      "Epoch 1/100\n",
      "1705/1705 [==============================] - 1s 726us/step - loss: 1.2985 - accuracy: 0.7040\n",
      "Epoch 2/100\n",
      "1705/1705 [==============================] - 1s 802us/step - loss: 1.2245 - accuracy: 0.7082\n",
      "Epoch 3/100\n",
      "1705/1705 [==============================] - 1s 587us/step - loss: 1.2093 - accuracy: 0.7085\n",
      "Epoch 4/100\n",
      "1705/1705 [==============================] - 1s 647us/step - loss: 1.1901 - accuracy: 0.7086\n",
      "Epoch 5/100\n",
      "1705/1705 [==============================] - 1s 632us/step - loss: 1.1769 - accuracy: 0.7086\n",
      "Epoch 6/100\n",
      "1705/1705 [==============================] - 1s 619us/step - loss: 1.1612 - accuracy: 0.7087\n",
      "Epoch 7/100\n",
      "1705/1705 [==============================] - 1s 636us/step - loss: 1.1561 - accuracy: 0.7085\n",
      "Epoch 8/100\n",
      "1705/1705 [==============================] - 1s 630us/step - loss: 1.1443 - accuracy: 0.7088\n",
      "Epoch 9/100\n",
      "1705/1705 [==============================] - 1s 620us/step - loss: 1.1424 - accuracy: 0.7087\n",
      "Epoch 10/100\n",
      "1705/1705 [==============================] - 1s 635us/step - loss: 1.1373 - accuracy: 0.7092\n",
      "Epoch 11/100\n",
      "1705/1705 [==============================] - 1s 655us/step - loss: 1.1343 - accuracy: 0.7094\n",
      "Epoch 12/100\n",
      "1705/1705 [==============================] - 1s 637us/step - loss: 1.1329 - accuracy: 0.7096\n",
      "Epoch 13/100\n",
      "1705/1705 [==============================] - 1s 708us/step - loss: 1.1321 - accuracy: 0.7095\n",
      "Epoch 14/100\n",
      "1705/1705 [==============================] - 1s 740us/step - loss: 1.1309 - accuracy: 0.7095\n",
      "Epoch 15/100\n",
      "1705/1705 [==============================] - 1s 693us/step - loss: 1.1297 - accuracy: 0.7096\n",
      "Epoch 16/100\n",
      "1705/1705 [==============================] - 1s 689us/step - loss: 1.1299 - accuracy: 0.7096\n",
      "Epoch 17/100\n",
      "1705/1705 [==============================] - 1s 730us/step - loss: 1.1276 - accuracy: 0.7097\n",
      "Epoch 18/100\n",
      "1705/1705 [==============================] - 1s 712us/step - loss: 1.1265 - accuracy: 0.7098\n",
      "Epoch 19/100\n",
      "1705/1705 [==============================] - 1s 774us/step - loss: 1.1266 - accuracy: 0.7098\n",
      "Epoch 20/100\n",
      "1705/1705 [==============================] - 1s 719us/step - loss: 1.1252 - accuracy: 0.7097\n",
      "Epoch 21/100\n",
      "1705/1705 [==============================] - 1s 755us/step - loss: 1.1241 - accuracy: 0.7097\n",
      "Epoch 22/100\n",
      "1705/1705 [==============================] - 1s 686us/step - loss: 1.1233 - accuracy: 0.7098\n",
      "Epoch 23/100\n",
      "1705/1705 [==============================] - 1s 646us/step - loss: 1.1224 - accuracy: 0.7099\n",
      "Epoch 24/100\n",
      "1705/1705 [==============================] - 1s 645us/step - loss: 1.1224 - accuracy: 0.7099\n",
      "Epoch 25/100\n",
      "1705/1705 [==============================] - 1s 672us/step - loss: 1.1214 - accuracy: 0.7099\n",
      "Epoch 26/100\n",
      "1705/1705 [==============================] - 1s 646us/step - loss: 1.1204 - accuracy: 0.7099\n",
      "Epoch 27/100\n",
      "1705/1705 [==============================] - 1s 632us/step - loss: 1.1201 - accuracy: 0.7099\n",
      "Epoch 28/100\n",
      "1705/1705 [==============================] - 1s 652us/step - loss: 1.1196 - accuracy: 0.7100\n",
      "Epoch 29/100\n",
      "1705/1705 [==============================] - 1s 616us/step - loss: 1.1187 - accuracy: 0.7099\n",
      "Epoch 30/100\n",
      "1705/1705 [==============================] - 1s 654us/step - loss: 1.1180 - accuracy: 0.7099\n",
      "Epoch 31/100\n",
      "1705/1705 [==============================] - 1s 670us/step - loss: 1.1185 - accuracy: 0.7099\n",
      "Epoch 32/100\n",
      "1705/1705 [==============================] - 1s 646us/step - loss: 1.1176 - accuracy: 0.7100\n",
      "Epoch 33/100\n",
      "1705/1705 [==============================] - 1s 662us/step - loss: 1.1164 - accuracy: 0.7099\n",
      "Epoch 34/100\n",
      "1705/1705 [==============================] - 1s 639us/step - loss: 1.1157 - accuracy: 0.7100\n",
      "Epoch 35/100\n",
      "1705/1705 [==============================] - 1s 638us/step - loss: 1.1152 - accuracy: 0.7100\n",
      "Epoch 36/100\n",
      "1705/1705 [==============================] - 1s 682us/step - loss: 1.1148 - accuracy: 0.7100\n",
      "Epoch 37/100\n",
      "1705/1705 [==============================] - 1s 660us/step - loss: 1.1148 - accuracy: 0.7101\n",
      "Epoch 38/100\n",
      "1705/1705 [==============================] - 1s 668us/step - loss: 1.1144 - accuracy: 0.7101\n",
      "Epoch 39/100\n",
      "1705/1705 [==============================] - 1s 662us/step - loss: 1.1130 - accuracy: 0.7102\n",
      "Epoch 40/100\n",
      "1705/1705 [==============================] - 1s 704us/step - loss: 1.1128 - accuracy: 0.7103\n",
      "Epoch 41/100\n",
      "1705/1705 [==============================] - 1s 661us/step - loss: 1.1123 - accuracy: 0.7103\n",
      "Epoch 42/100\n",
      "1705/1705 [==============================] - 1s 608us/step - loss: 1.1116 - accuracy: 0.7103\n",
      "Epoch 43/100\n",
      "1705/1705 [==============================] - 1s 606us/step - loss: 1.1112 - accuracy: 0.7103\n",
      "Epoch 44/100\n",
      "1705/1705 [==============================] - 1s 623us/step - loss: 1.1116 - accuracy: 0.7104\n",
      "Epoch 45/100\n",
      "1705/1705 [==============================] - 1s 686us/step - loss: 1.1104 - accuracy: 0.7102\n",
      "Epoch 46/100\n",
      "1705/1705 [==============================] - 1s 734us/step - loss: 1.1103 - accuracy: 0.7103\n",
      "Epoch 47/100\n",
      "1705/1705 [==============================] - 1s 633us/step - loss: 1.1098 - accuracy: 0.7104\n",
      "Epoch 48/100\n",
      "1705/1705 [==============================] - 1s 625us/step - loss: 1.1089 - accuracy: 0.7106\n",
      "Epoch 49/100\n",
      "1705/1705 [==============================] - 1s 633us/step - loss: 1.1094 - accuracy: 0.7104\n",
      "Epoch 50/100\n",
      "1705/1705 [==============================] - 1s 631us/step - loss: 1.1081 - accuracy: 0.7105\n",
      "Epoch 51/100\n",
      "1705/1705 [==============================] - 1s 622us/step - loss: 1.1082 - accuracy: 0.7105\n",
      "Epoch 52/100\n",
      "1705/1705 [==============================] - 1s 661us/step - loss: 1.1080 - accuracy: 0.7105\n",
      "Epoch 53/100\n",
      "1705/1705 [==============================] - 1s 660us/step - loss: 1.1082 - accuracy: 0.7109\n",
      "Epoch 54/100\n",
      "1705/1705 [==============================] - 1s 666us/step - loss: 1.1073 - accuracy: 0.7107\n",
      "Epoch 55/100\n",
      "1705/1705 [==============================] - 1s 632us/step - loss: 1.1068 - accuracy: 0.7107\n",
      "Epoch 56/100\n",
      "1705/1705 [==============================] - 1s 648us/step - loss: 1.1067 - accuracy: 0.7109\n",
      "Epoch 57/100\n",
      "1705/1705 [==============================] - 1s 678us/step - loss: 1.1065 - accuracy: 0.7108\n",
      "Epoch 58/100\n",
      "1705/1705 [==============================] - 1s 669us/step - loss: 1.1061 - accuracy: 0.7107\n",
      "Epoch 59/100\n",
      "1705/1705 [==============================] - 1s 666us/step - loss: 1.1057 - accuracy: 0.7106\n",
      "Epoch 60/100\n",
      "1705/1705 [==============================] - 1s 696us/step - loss: 1.1052 - accuracy: 0.7106\n",
      "Epoch 61/100\n",
      "1705/1705 [==============================] - 1s 684us/step - loss: 1.1049 - accuracy: 0.7110\n",
      "Epoch 62/100\n",
      "1705/1705 [==============================] - 1s 678us/step - loss: 1.1050 - accuracy: 0.7108\n",
      "Epoch 63/100\n",
      "1705/1705 [==============================] - 1s 657us/step - loss: 1.1040 - accuracy: 0.7109\n",
      "Epoch 64/100\n",
      "1705/1705 [==============================] - 1s 649us/step - loss: 1.1046 - accuracy: 0.7110\n",
      "Epoch 65/100\n",
      "1705/1705 [==============================] - 1s 662us/step - loss: 1.1032 - accuracy: 0.7110\n",
      "Epoch 66/100\n",
      "1705/1705 [==============================] - 1s 663us/step - loss: 1.1037 - accuracy: 0.7112\n",
      "Epoch 67/100\n",
      "1705/1705 [==============================] - 1s 667us/step - loss: 1.1035 - accuracy: 0.7111\n",
      "Epoch 68/100\n",
      "1705/1705 [==============================] - 1s 667us/step - loss: 1.1028 - accuracy: 0.7113\n",
      "Epoch 69/100\n",
      "1705/1705 [==============================] - 1s 674us/step - loss: 1.1031 - accuracy: 0.7113\n",
      "Epoch 70/100\n",
      "1705/1705 [==============================] - 1s 652us/step - loss: 1.1027 - accuracy: 0.7114\n",
      "Epoch 71/100\n",
      "1705/1705 [==============================] - 1s 643us/step - loss: 1.1019 - accuracy: 0.7111\n",
      "Epoch 72/100\n",
      "1705/1705 [==============================] - 1s 645us/step - loss: 1.1022 - accuracy: 0.7114\n",
      "Epoch 73/100\n",
      "1705/1705 [==============================] - 1s 624us/step - loss: 1.1015 - accuracy: 0.7113\n",
      "Epoch 74/100\n",
      "1705/1705 [==============================] - 1s 651us/step - loss: 1.1018 - accuracy: 0.7110\n",
      "Epoch 75/100\n",
      "1705/1705 [==============================] - 1s 636us/step - loss: 1.1011 - accuracy: 0.7111\n",
      "Epoch 76/100\n",
      "1705/1705 [==============================] - 1s 661us/step - loss: 1.1014 - accuracy: 0.7115\n",
      "Epoch 77/100\n",
      "1705/1705 [==============================] - 1s 652us/step - loss: 1.1011 - accuracy: 0.7115\n",
      "Epoch 78/100\n"
     ]
    },
    {
     "name": "stdout",
     "output_type": "stream",
     "text": [
      "1705/1705 [==============================] - 1s 637us/step - loss: 1.1006 - accuracy: 0.7115\n",
      "Epoch 79/100\n",
      "1705/1705 [==============================] - 1s 672us/step - loss: 1.1009 - accuracy: 0.7114\n",
      "Epoch 80/100\n",
      "1705/1705 [==============================] - 1s 687us/step - loss: 1.1005 - accuracy: 0.7114\n",
      "Epoch 81/100\n",
      "1705/1705 [==============================] - 1s 662us/step - loss: 1.1001 - accuracy: 0.7115\n",
      "Epoch 82/100\n",
      "1705/1705 [==============================] - 1s 654us/step - loss: 1.0996 - accuracy: 0.7113\n",
      "Epoch 83/100\n",
      "1705/1705 [==============================] - 1s 655us/step - loss: 1.0999 - accuracy: 0.7114\n",
      "Epoch 84/100\n",
      "1705/1705 [==============================] - 1s 646us/step - loss: 1.0996 - accuracy: 0.7115\n",
      "Epoch 85/100\n",
      "1705/1705 [==============================] - 1s 667us/step - loss: 1.0993 - accuracy: 0.7117\n",
      "Epoch 86/100\n",
      "1705/1705 [==============================] - 1s 663us/step - loss: 1.0991 - accuracy: 0.7116\n",
      "Epoch 87/100\n",
      "1705/1705 [==============================] - 1s 670us/step - loss: 1.0992 - accuracy: 0.7114\n",
      "Epoch 88/100\n",
      "1705/1705 [==============================] - 1s 663us/step - loss: 1.0983 - accuracy: 0.7120\n",
      "Epoch 89/100\n",
      "1705/1705 [==============================] - 1s 685us/step - loss: 1.0990 - accuracy: 0.7115\n",
      "Epoch 90/100\n",
      "1705/1705 [==============================] - 1s 675us/step - loss: 1.0989 - accuracy: 0.7116\n",
      "Epoch 91/100\n",
      "1705/1705 [==============================] - 1s 718us/step - loss: 1.0980 - accuracy: 0.7119\n",
      "Epoch 92/100\n",
      "1705/1705 [==============================] - 1s 692us/step - loss: 1.0980 - accuracy: 0.7116\n",
      "Epoch 93/100\n",
      "1705/1705 [==============================] - 1s 745us/step - loss: 1.0983 - accuracy: 0.7118\n",
      "Epoch 94/100\n",
      "1705/1705 [==============================] - 1s 730us/step - loss: 1.0975 - accuracy: 0.7114\n",
      "Epoch 95/100\n",
      "1705/1705 [==============================] - 1s 701us/step - loss: 1.0971 - accuracy: 0.7119\n",
      "Epoch 96/100\n",
      "1705/1705 [==============================] - 1s 649us/step - loss: 1.0969 - accuracy: 0.7119\n",
      "Epoch 97/100\n",
      "1705/1705 [==============================] - 1s 631us/step - loss: 1.0973 - accuracy: 0.7118\n",
      "Epoch 98/100\n",
      "1705/1705 [==============================] - 1s 659us/step - loss: 1.0972 - accuracy: 0.7118\n",
      "Epoch 99/100\n",
      "1705/1705 [==============================] - 1s 655us/step - loss: 1.0971 - accuracy: 0.7118\n",
      "Epoch 100/100\n",
      "1705/1705 [==============================] - 1s 654us/step - loss: 1.0978 - accuracy: 0.7118\n"
     ]
    },
    {
     "data": {
      "text/plain": [
       "<tensorflow.python.keras.callbacks.History at 0x1e13ee93908>"
      ]
     },
     "execution_count": 75,
     "metadata": {},
     "output_type": "execute_result"
    }
   ],
   "source": [
    "# model definition\n",
    "model = ml.Sequential()\n",
    "model.add( l.Dense( 128, input_dim=x_train.shape[1], activation='relu') )\n",
    "model.add( l.Dense( 11, activation='softmax') )\n",
    "\n",
    "# model compile\n",
    "model.compile( loss='categorical_crossentropy', optimizer='adam', metrics=['accuracy'] )\n",
    "\n",
    "# train model\n",
    "model.fit( x_train, y_train_nn, epochs=100 )"
   ]
  },
  {
   "cell_type": "markdown",
   "metadata": {
    "heading_collapsed": true
   },
   "source": [
    "## 6.0 NN Performance"
   ]
  },
  {
   "cell_type": "code",
   "execution_count": 76,
   "metadata": {
    "ExecuteTime": {
     "end_time": "2020-09-02T04:12:45.210598Z",
     "start_time": "2020-09-02T04:12:45.001159Z"
    },
    "hidden": true
   },
   "outputs": [],
   "source": [
    "# prediction\n",
    "pred_nn = model.predict( x_test )\n",
    "\n",
    "# invert prediction\n",
    "yhat_nn = ohe.inverse_transform( pred_nn )\n",
    "\n",
    "# prediction prepare\n",
    "y_test_nn = y_test.to_numpy()\n",
    "yhat_nn = yhat_nn.reshape( 1, -1 )[0]"
   ]
  },
  {
   "cell_type": "code",
   "execution_count": 78,
   "metadata": {
    "ExecuteTime": {
     "end_time": "2020-09-02T04:12:57.718461Z",
     "start_time": "2020-09-02T04:12:57.147573Z"
    },
    "hidden": true
   },
   "outputs": [
    {
     "name": "stdout",
     "output_type": "stream",
     "text": [
      "Accuracy: 0.7035570223689036\n"
     ]
    },
    {
     "data": {
      "text/plain": [
       "<AxesSubplot:title={'center':'Confusion Matrix'}, xlabel='Predicted label', ylabel='True label'>"
      ]
     },
     "execution_count": 78,
     "metadata": {},
     "output_type": "execute_result"
    },
    {
     "data": {
      "image/png": "[encoded data removed]",
      "text/plain": [
       "<Figure size 864x864 with 2 Axes>"
      ]
     },
     "metadata": {
      "needs_background": "light"
     },
     "output_type": "display_data"
    }
   ],
   "source": [
    "# Accuracy\n",
    "acc_nn = m.accuracy_score( y_test_nn, yhat_nn )\n",
    "print( 'Accuracy: {}'.format( acc_nn ) )\n",
    "\n",
    "# Confusion Matrix\n",
    "mt.plot_confusion_matrix( y_test_nn, yhat_nn, normalize=False, figsize=(12, 12) )\n",
    "\n",
    "# Balanced Accuracy\n",
    "# F-Score BAlanced\n",
    "# Recall-Precision\n",
    "# ROC\n",
    "# Kappa Metrics\n",
    "# Matthew Metrics"
   ]
  },
  {
   "cell_type": "code",
   "execution_count": null,
   "metadata": {
    "hidden": true
   },
   "outputs": [],
   "source": []
  }
 ],
 "metadata": {
  "kernelspec": {
   "display_name": "Python 3",
   "language": "python",
   "name": "python3"
  },
  "language_info": {
   "codemirror_mode": {
    "name": "ipython",
    "version": 3
   },
   "file_extension": ".py",
   "mimetype": "text/x-python",
   "name": "python",
   "nbconvert_exporter": "python",
   "pygments_lexer": "ipython3",
   "version": "3.7.6"
  }
 },
 "nbformat": 4,
 "nbformat_minor": 4
}
