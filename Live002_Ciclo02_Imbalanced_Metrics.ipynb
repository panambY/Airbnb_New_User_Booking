{
 "cells": [
  {
   "cell_type": "markdown",
   "metadata": {
    "heading_collapsed": true
   },
   "source": [
    "# 0.0 Understand the Problem"
   ]
  },
  {
   "cell_type": "markdown",
   "metadata": {
    "hidden": true
   },
   "source": [
    "- Purpose of the problem:\n",
    "    - 1.0 Prediction of the first destination that a new user will choose.\n",
    "        \n",
    "    -- Why?\n",
    "        - What kind of Airbnb business model?\n",
    "            - Marketplace (Connects people who offer accommodation, with people looking for accommodation)\n",
    "            - Offer (people offering accommodation)\n",
    "                - Portfolio Size\n",
    "                - Diversity / Density of the Portfolio\n",
    "                - Average rental price\n",
    "                                \n",
    "            - Demand (people looking for accommodation)\n",
    "                - Number of users\n",
    "                - LTV (Lifetime Value)\n",
    "                - CAC (Client Acquisition Cost)\n",
    "                \n",
    "                \n",
    "                Gross Revenue = (Fee * Customer Number) - CAC\n",
    "        \n",
    "- Solution Proposition <br>\n",
    "\n",
    "    - Forecast model of the first destination of a new user\n",
    "    - 1.0 Predictions and save to a database table\n",
    "    - 2.0 API\n",
    "        - Input: user and its characteristics\n",
    "        - Output: user and its characteristics with ** destination prediction **\n",
    "        \n",
    "    - 16 cycles"
   ]
  },
  {
   "cell_type": "markdown",
   "metadata": {
    "heading_collapsed": true
   },
   "source": [
    "# <font color='red'> Ciclo02: Implementation of Metrics in the Project </font>"
   ]
  },
  {
   "cell_type": "markdown",
   "metadata": {
    "ExecuteTime": {
     "end_time": "2020-09-02T03:09:55.592975Z",
     "start_time": "2020-09-02T03:09:55.549093Z"
    },
    "heading_collapsed": true,
    "hidden": true
   },
   "source": [
    "## 0.0 Imports"
   ]
  },
  {
   "cell_type": "code",
   "execution_count": 1,
   "metadata": {
    "ExecuteTime": {
     "end_time": "2020-09-17T01:33:22.464115Z",
     "start_time": "2020-09-17T01:33:20.953200Z"
    },
    "hidden": true
   },
   "outputs": [],
   "source": [
    "import pandas                           as pd\n",
    "import numpy                            as np  \n",
    "\n",
    "from sklearn     import model_selection as ms\n",
    "from sklearn     import preprocessing   as pp\n",
    "from sklearn     import metrics         as m\n",
    "\n",
    "from keras       import models          as ml\n",
    "from keras       import layers          as l\n",
    "\n",
    "from scikitplot  import metrics         as mt"
   ]
  },
  {
   "cell_type": "markdown",
   "metadata": {
    "hidden": true
   },
   "source": [
    "### 0.1 Helper Functions"
   ]
  },
  {
   "cell_type": "code",
   "execution_count": null,
   "metadata": {
    "hidden": true
   },
   "outputs": [],
   "source": []
  },
  {
   "cell_type": "markdown",
   "metadata": {
    "heading_collapsed": true,
    "hidden": true
   },
   "source": [
    "### 0.2 Loading Data"
   ]
  },
  {
   "cell_type": "code",
   "execution_count": 2,
   "metadata": {
    "ExecuteTime": {
     "end_time": "2020-09-17T01:33:22.762409Z",
     "start_time": "2020-09-17T01:33:22.465302Z"
    },
    "hidden": true
   },
   "outputs": [
    {
     "data": {
      "text/plain": [
       "(213451, 16)"
      ]
     },
     "execution_count": 2,
     "metadata": {},
     "output_type": "execute_result"
    }
   ],
   "source": [
    "df_raw = pd.read_csv( 'data/train_users_2.csv', low_memory=True )\n",
    "df_raw.shape"
   ]
  },
  {
   "cell_type": "code",
   "execution_count": 3,
   "metadata": {
    "ExecuteTime": {
     "end_time": "2020-09-17T01:33:22.765403Z",
     "start_time": "2020-09-17T01:33:22.763867Z"
    },
    "hidden": true
   },
   "outputs": [],
   "source": [
    "#df_sessions = pd.read_csv( 'data/sessions.csv', low_memory=True )\n",
    "#df_sessions.shape"
   ]
  },
  {
   "cell_type": "markdown",
   "metadata": {
    "heading_collapsed": true,
    "hidden": true
   },
   "source": [
    "## 1.0 Data Description"
   ]
  },
  {
   "cell_type": "code",
   "execution_count": 4,
   "metadata": {
    "ExecuteTime": {
     "end_time": "2020-09-17T01:33:23.012327Z",
     "start_time": "2020-09-17T01:33:22.766645Z"
    },
    "hidden": true
   },
   "outputs": [],
   "source": [
    "df1 = df_raw.copy()"
   ]
  },
  {
   "cell_type": "code",
   "execution_count": 5,
   "metadata": {
    "ExecuteTime": {
     "end_time": "2020-09-17T01:33:23.248460Z",
     "start_time": "2020-09-17T01:33:23.014285Z"
    },
    "hidden": true
   },
   "outputs": [
    {
     "name": "stdout",
     "output_type": "stream",
     "text": [
      "Number of rows: 213451\n",
      "Number of columns: 16\n"
     ]
    }
   ],
   "source": [
    "print( 'Number of rows: {}'.format( df1.shape[0]) )\n",
    "print( 'Number of columns: {}'.format( df1.shape[1]) )"
   ]
  },
  {
   "cell_type": "markdown",
   "metadata": {
    "heading_collapsed": true,
    "hidden": true
   },
   "source": [
    "### 1.1 Data Type"
   ]
  },
  {
   "cell_type": "code",
   "execution_count": 6,
   "metadata": {
    "ExecuteTime": {
     "end_time": "2020-09-17T01:33:23.494195Z",
     "start_time": "2020-09-17T01:33:23.254644Z"
    },
    "hidden": true
   },
   "outputs": [
    {
     "data": {
      "text/plain": [
       "id                          object\n",
       "date_account_created        object\n",
       "timestamp_first_active       int64\n",
       "date_first_booking          object\n",
       "gender                      object\n",
       "age                        float64\n",
       "signup_method               object\n",
       "signup_flow                  int64\n",
       "language                    object\n",
       "affiliate_channel           object\n",
       "affiliate_provider          object\n",
       "first_affiliate_tracked     object\n",
       "signup_app                  object\n",
       "first_device_type           object\n",
       "first_browser               object\n",
       "country_destination         object\n",
       "dtype: object"
      ]
     },
     "execution_count": 6,
     "metadata": {},
     "output_type": "execute_result"
    }
   ],
   "source": [
    "df1.dtypes"
   ]
  },
  {
   "cell_type": "code",
   "execution_count": 7,
   "metadata": {
    "ExecuteTime": {
     "end_time": "2020-09-17T01:33:23.749861Z",
     "start_time": "2020-09-17T01:33:23.499591Z"
    },
    "hidden": true
   },
   "outputs": [
    {
     "data": {
      "text/html": [
       "<div>\n",
       "<style scoped>\n",
       "    .dataframe tbody tr th:only-of-type {\n",
       "        vertical-align: middle;\n",
       "    }\n",
       "\n",
       "    .dataframe tbody tr th {\n",
       "        vertical-align: top;\n",
       "    }\n",
       "\n",
       "    .dataframe thead th {\n",
       "        text-align: right;\n",
       "    }\n",
       "</style>\n",
       "<table border=\"1\" class=\"dataframe\">\n",
       "  <thead>\n",
       "    <tr style=\"text-align: right;\">\n",
       "      <th></th>\n",
       "      <th>98299</th>\n",
       "    </tr>\n",
       "  </thead>\n",
       "  <tbody>\n",
       "    <tr>\n",
       "      <th>id</th>\n",
       "      <td>wagcrrob61</td>\n",
       "    </tr>\n",
       "    <tr>\n",
       "      <th>date_account_created</th>\n",
       "      <td>2013-08-10</td>\n",
       "    </tr>\n",
       "    <tr>\n",
       "      <th>timestamp_first_active</th>\n",
       "      <td>20130810225132</td>\n",
       "    </tr>\n",
       "    <tr>\n",
       "      <th>date_first_booking</th>\n",
       "      <td>2013-08-11</td>\n",
       "    </tr>\n",
       "    <tr>\n",
       "      <th>gender</th>\n",
       "      <td>FEMALE</td>\n",
       "    </tr>\n",
       "    <tr>\n",
       "      <th>age</th>\n",
       "      <td>38</td>\n",
       "    </tr>\n",
       "    <tr>\n",
       "      <th>signup_method</th>\n",
       "      <td>facebook</td>\n",
       "    </tr>\n",
       "    <tr>\n",
       "      <th>signup_flow</th>\n",
       "      <td>0</td>\n",
       "    </tr>\n",
       "    <tr>\n",
       "      <th>language</th>\n",
       "      <td>en</td>\n",
       "    </tr>\n",
       "    <tr>\n",
       "      <th>affiliate_channel</th>\n",
       "      <td>direct</td>\n",
       "    </tr>\n",
       "    <tr>\n",
       "      <th>affiliate_provider</th>\n",
       "      <td>direct</td>\n",
       "    </tr>\n",
       "    <tr>\n",
       "      <th>first_affiliate_tracked</th>\n",
       "      <td>linked</td>\n",
       "    </tr>\n",
       "    <tr>\n",
       "      <th>signup_app</th>\n",
       "      <td>Web</td>\n",
       "    </tr>\n",
       "    <tr>\n",
       "      <th>first_device_type</th>\n",
       "      <td>Mac Desktop</td>\n",
       "    </tr>\n",
       "    <tr>\n",
       "      <th>first_browser</th>\n",
       "      <td>Safari</td>\n",
       "    </tr>\n",
       "    <tr>\n",
       "      <th>country_destination</th>\n",
       "      <td>NL</td>\n",
       "    </tr>\n",
       "  </tbody>\n",
       "</table>\n",
       "</div>"
      ],
      "text/plain": [
       "                                  98299\n",
       "id                           wagcrrob61\n",
       "date_account_created         2013-08-10\n",
       "timestamp_first_active   20130810225132\n",
       "date_first_booking           2013-08-11\n",
       "gender                           FEMALE\n",
       "age                                  38\n",
       "signup_method                  facebook\n",
       "signup_flow                           0\n",
       "language                             en\n",
       "affiliate_channel                direct\n",
       "affiliate_provider               direct\n",
       "first_affiliate_tracked          linked\n",
       "signup_app                          Web\n",
       "first_device_type           Mac Desktop\n",
       "first_browser                    Safari\n",
       "country_destination                  NL"
      ]
     },
     "execution_count": 7,
     "metadata": {},
     "output_type": "execute_result"
    }
   ],
   "source": [
    "df1.sample().T"
   ]
  },
  {
   "cell_type": "markdown",
   "metadata": {
    "heading_collapsed": true,
    "hidden": true
   },
   "source": [
    "### 1.2 NA Check"
   ]
  },
  {
   "cell_type": "code",
   "execution_count": 8,
   "metadata": {
    "ExecuteTime": {
     "end_time": "2020-09-17T01:33:24.082210Z",
     "start_time": "2020-09-17T01:33:23.753314Z"
    },
    "hidden": true
   },
   "outputs": [
    {
     "data": {
      "text/plain": [
       "id                              0\n",
       "date_account_created            0\n",
       "timestamp_first_active          0\n",
       "date_first_booking         124543\n",
       "gender                          0\n",
       "age                         87990\n",
       "signup_method                   0\n",
       "signup_flow                     0\n",
       "language                        0\n",
       "affiliate_channel               0\n",
       "affiliate_provider              0\n",
       "first_affiliate_tracked      6065\n",
       "signup_app                      0\n",
       "first_device_type               0\n",
       "first_browser                   0\n",
       "country_destination             0\n",
       "dtype: int64"
      ]
     },
     "execution_count": 8,
     "metadata": {},
     "output_type": "execute_result"
    }
   ],
   "source": [
    "df1.isna().sum()"
   ]
  },
  {
   "cell_type": "code",
   "execution_count": 9,
   "metadata": {
    "ExecuteTime": {
     "end_time": "2020-09-17T01:33:24.374742Z",
     "start_time": "2020-09-17T01:33:24.083688Z"
    },
    "hidden": true
   },
   "outputs": [
    {
     "data": {
      "text/plain": [
       "(68171, 16)"
      ]
     },
     "execution_count": 9,
     "metadata": {},
     "output_type": "execute_result"
    }
   ],
   "source": [
    "# remoe missing values completly\n",
    "df1 = df1.dropna()\n",
    "df1.shape"
   ]
  },
  {
   "cell_type": "code",
   "execution_count": 10,
   "metadata": {
    "ExecuteTime": {
     "end_time": "2020-09-17T01:33:24.564748Z",
     "start_time": "2020-09-17T01:33:24.376491Z"
    },
    "hidden": true
   },
   "outputs": [
    {
     "data": {
      "text/plain": [
       "id                         0\n",
       "date_account_created       0\n",
       "timestamp_first_active     0\n",
       "date_first_booking         0\n",
       "gender                     0\n",
       "age                        0\n",
       "signup_method              0\n",
       "signup_flow                0\n",
       "language                   0\n",
       "affiliate_channel          0\n",
       "affiliate_provider         0\n",
       "first_affiliate_tracked    0\n",
       "signup_app                 0\n",
       "first_device_type          0\n",
       "first_browser              0\n",
       "country_destination        0\n",
       "dtype: int64"
      ]
     },
     "execution_count": 10,
     "metadata": {},
     "output_type": "execute_result"
    }
   ],
   "source": [
    "df1.isna().sum()"
   ]
  },
  {
   "cell_type": "markdown",
   "metadata": {
    "heading_collapsed": true,
    "hidden": true
   },
   "source": [
    "### 1.3 Change Type"
   ]
  },
  {
   "cell_type": "code",
   "execution_count": 11,
   "metadata": {
    "ExecuteTime": {
     "end_time": "2020-09-17T01:33:25.213085Z",
     "start_time": "2020-09-17T01:33:24.566843Z"
    },
    "hidden": true
   },
   "outputs": [],
   "source": [
    "# date_account_created\n",
    "df1['date_account_created'] = pd.to_datetime( df1['date_account_created'] )\n",
    "\n",
    "# timestamp_first_active\n",
    "df1['timestamp_first_active'] = pd.to_datetime( df1['timestamp_first_active'], format='%Y%m%d%H%M%S' )\n",
    "\n",
    "# date_first_booking\n",
    "df1['date_first_booking'] = pd.to_datetime( df1['date_first_booking'] )\n",
    "\n",
    "# age\n",
    "df1['age'] = df1['age'].astype( int )"
   ]
  },
  {
   "cell_type": "code",
   "execution_count": 12,
   "metadata": {
    "ExecuteTime": {
     "end_time": "2020-09-17T01:33:25.220227Z",
     "start_time": "2020-09-17T01:33:25.215027Z"
    },
    "hidden": true
   },
   "outputs": [
    {
     "data": {
      "text/plain": [
       "id                                 object\n",
       "date_account_created       datetime64[ns]\n",
       "timestamp_first_active     datetime64[ns]\n",
       "date_first_booking         datetime64[ns]\n",
       "gender                             object\n",
       "age                                 int64\n",
       "signup_method                      object\n",
       "signup_flow                         int64\n",
       "language                           object\n",
       "affiliate_channel                  object\n",
       "affiliate_provider                 object\n",
       "first_affiliate_tracked            object\n",
       "signup_app                         object\n",
       "first_device_type                  object\n",
       "first_browser                      object\n",
       "country_destination                object\n",
       "dtype: object"
      ]
     },
     "execution_count": 12,
     "metadata": {},
     "output_type": "execute_result"
    }
   ],
   "source": [
    "df1.dtypes"
   ]
  },
  {
   "cell_type": "markdown",
   "metadata": {
    "heading_collapsed": true,
    "hidden": true
   },
   "source": [
    "### 1.4 Check Balanced Data"
   ]
  },
  {
   "cell_type": "code",
   "execution_count": 13,
   "metadata": {
    "ExecuteTime": {
     "end_time": "2020-09-17T01:33:25.482523Z",
     "start_time": "2020-09-17T01:33:25.221444Z"
    },
    "hidden": true
   },
   "outputs": [
    {
     "data": {
      "text/plain": [
       "US       0.708864\n",
       "other    0.110854\n",
       "FR       0.054085\n",
       "IT       0.029763\n",
       "GB       0.025935\n",
       "ES       0.024864\n",
       "CA       0.015696\n",
       "DE       0.012454\n",
       "NL       0.008801\n",
       "AU       0.006366\n",
       "PT       0.002318\n",
       "Name: country_destination, dtype: float64"
      ]
     },
     "execution_count": 13,
     "metadata": {},
     "output_type": "execute_result"
    }
   ],
   "source": [
    "df1['country_destination'].value_counts( normalize=True )"
   ]
  },
  {
   "cell_type": "markdown",
   "metadata": {
    "heading_collapsed": true,
    "hidden": true
   },
   "source": [
    "## 2.0 Data Filtering"
   ]
  },
  {
   "cell_type": "code",
   "execution_count": 14,
   "metadata": {
    "ExecuteTime": {
     "end_time": "2020-09-17T01:33:25.715973Z",
     "start_time": "2020-09-17T01:33:25.484401Z"
    },
    "hidden": true
   },
   "outputs": [],
   "source": [
    "df2 = df1.copy()"
   ]
  },
  {
   "cell_type": "markdown",
   "metadata": {
    "ExecuteTime": {
     "end_time": "2020-09-02T03:37:17.382856Z",
     "start_time": "2020-09-02T03:37:17.379843Z"
    },
    "hidden": true
   },
   "source": [
    "### 2.1 Filtering Rows"
   ]
  },
  {
   "cell_type": "code",
   "execution_count": null,
   "metadata": {
    "hidden": true
   },
   "outputs": [],
   "source": []
  },
  {
   "cell_type": "markdown",
   "metadata": {
    "hidden": true
   },
   "source": [
    "### 2.2 Column Selection"
   ]
  },
  {
   "cell_type": "code",
   "execution_count": null,
   "metadata": {
    "hidden": true
   },
   "outputs": [],
   "source": []
  },
  {
   "cell_type": "markdown",
   "metadata": {
    "heading_collapsed": true,
    "hidden": true
   },
   "source": [
    "## 3.0 Data Preparation"
   ]
  },
  {
   "cell_type": "code",
   "execution_count": 15,
   "metadata": {
    "ExecuteTime": {
     "end_time": "2020-09-17T01:33:25.945952Z",
     "start_time": "2020-09-17T01:33:25.719547Z"
    },
    "hidden": true
   },
   "outputs": [],
   "source": [
    "df3 = df2.copy()"
   ]
  },
  {
   "cell_type": "code",
   "execution_count": 16,
   "metadata": {
    "ExecuteTime": {
     "end_time": "2020-09-17T01:33:26.259867Z",
     "start_time": "2020-09-17T01:33:25.949131Z"
    },
    "hidden": true
   },
   "outputs": [],
   "source": [
    "# dummy variable\n",
    "df3_dummy = pd.get_dummies( df3.drop( ['id', 'country_destination'], axis=1 ) )\n",
    "\n",
    "# join id and country destination\n",
    "df3 = pd.concat( [df3[['id', 'country_destination']], df3_dummy], axis=1 )"
   ]
  },
  {
   "cell_type": "markdown",
   "metadata": {
    "heading_collapsed": true,
    "hidden": true
   },
   "source": [
    "## 4.0 Feature Selection"
   ]
  },
  {
   "cell_type": "code",
   "execution_count": 17,
   "metadata": {
    "ExecuteTime": {
     "end_time": "2020-09-17T01:33:26.470111Z",
     "start_time": "2020-09-17T01:33:26.261583Z"
    },
    "hidden": true
   },
   "outputs": [],
   "source": [
    "cols_drop = [ 'date_account_created', 'timestamp_first_active', 'date_first_booking' ] #original date\n",
    "df4 = df3.drop( cols_drop, axis=1 )"
   ]
  },
  {
   "cell_type": "code",
   "execution_count": 18,
   "metadata": {
    "ExecuteTime": {
     "end_time": "2020-09-17T01:33:26.726543Z",
     "start_time": "2020-09-17T01:33:26.473555Z"
    },
    "hidden": true
   },
   "outputs": [
    {
     "data": {
      "text/html": [
       "<div>\n",
       "<style scoped>\n",
       "    .dataframe tbody tr th:only-of-type {\n",
       "        vertical-align: middle;\n",
       "    }\n",
       "\n",
       "    .dataframe tbody tr th {\n",
       "        vertical-align: top;\n",
       "    }\n",
       "\n",
       "    .dataframe thead th {\n",
       "        text-align: right;\n",
       "    }\n",
       "</style>\n",
       "<table border=\"1\" class=\"dataframe\">\n",
       "  <thead>\n",
       "    <tr style=\"text-align: right;\">\n",
       "      <th></th>\n",
       "      <th>77996</th>\n",
       "    </tr>\n",
       "  </thead>\n",
       "  <tbody>\n",
       "    <tr>\n",
       "      <th>id</th>\n",
       "      <td>75vm6a9vuv</td>\n",
       "    </tr>\n",
       "    <tr>\n",
       "      <th>country_destination</th>\n",
       "      <td>US</td>\n",
       "    </tr>\n",
       "    <tr>\n",
       "      <th>age</th>\n",
       "      <td>41</td>\n",
       "    </tr>\n",
       "    <tr>\n",
       "      <th>signup_flow</th>\n",
       "      <td>0</td>\n",
       "    </tr>\n",
       "    <tr>\n",
       "      <th>gender_-unknown-</th>\n",
       "      <td>0</td>\n",
       "    </tr>\n",
       "    <tr>\n",
       "      <th>...</th>\n",
       "      <td>...</td>\n",
       "    </tr>\n",
       "    <tr>\n",
       "      <th>first_browser_Sogou Explorer</th>\n",
       "      <td>0</td>\n",
       "    </tr>\n",
       "    <tr>\n",
       "      <th>first_browser_Stainless</th>\n",
       "      <td>0</td>\n",
       "    </tr>\n",
       "    <tr>\n",
       "      <th>first_browser_TenFourFox</th>\n",
       "      <td>0</td>\n",
       "    </tr>\n",
       "    <tr>\n",
       "      <th>first_browser_TheWorld Browser</th>\n",
       "      <td>0</td>\n",
       "    </tr>\n",
       "    <tr>\n",
       "      <th>first_browser_Yandex.Browser</th>\n",
       "      <td>0</td>\n",
       "    </tr>\n",
       "  </tbody>\n",
       "</table>\n",
       "<p>114 rows × 1 columns</p>\n",
       "</div>"
      ],
      "text/plain": [
       "                                     77996\n",
       "id                              75vm6a9vuv\n",
       "country_destination                     US\n",
       "age                                     41\n",
       "signup_flow                              0\n",
       "gender_-unknown-                         0\n",
       "...                                    ...\n",
       "first_browser_Sogou Explorer             0\n",
       "first_browser_Stainless                  0\n",
       "first_browser_TenFourFox                 0\n",
       "first_browser_TheWorld Browser           0\n",
       "first_browser_Yandex.Browser             0\n",
       "\n",
       "[114 rows x 1 columns]"
      ]
     },
     "execution_count": 18,
     "metadata": {},
     "output_type": "execute_result"
    }
   ],
   "source": [
    "df4.sample().T"
   ]
  },
  {
   "cell_type": "code",
   "execution_count": 19,
   "metadata": {
    "ExecuteTime": {
     "end_time": "2020-09-17T01:33:26.994380Z",
     "start_time": "2020-09-17T01:33:26.729683Z"
    },
    "hidden": true
   },
   "outputs": [],
   "source": [
    "X = df4.drop( 'country_destination', axis=1 )\n",
    "y = df4['country_destination'].copy()"
   ]
  },
  {
   "cell_type": "code",
   "execution_count": 20,
   "metadata": {
    "ExecuteTime": {
     "end_time": "2020-09-17T01:33:27.222650Z",
     "start_time": "2020-09-17T01:33:27.000713Z"
    },
    "hidden": true
   },
   "outputs": [],
   "source": [
    "# Split dataset into training and test\n",
    "X_train, X_test, y_train, y_test = ms.train_test_split( X, y, test_size=0.2, random_state=32 )"
   ]
  },
  {
   "cell_type": "markdown",
   "metadata": {
    "heading_collapsed": true,
    "hidden": true
   },
   "source": [
    "## 5.0 Machine Learning Model"
   ]
  },
  {
   "cell_type": "code",
   "execution_count": 22,
   "metadata": {
    "ExecuteTime": {
     "end_time": "2020-09-17T01:33:27.732604Z",
     "start_time": "2020-09-17T01:33:27.558869Z"
    },
    "hidden": true
   },
   "outputs": [],
   "source": [
    "x_train = X_train.drop( 'id', axis=1 )\n",
    "x_test = X_test.drop( 'id', axis=1 )"
   ]
  },
  {
   "cell_type": "markdown",
   "metadata": {
    "heading_collapsed": true,
    "hidden": true
   },
   "source": [
    "### 5.1 Baseline Model"
   ]
  },
  {
   "cell_type": "code",
   "execution_count": 30,
   "metadata": {
    "ExecuteTime": {
     "end_time": "2020-09-17T02:28:07.507642Z",
     "start_time": "2020-09-17T02:28:07.502126Z"
    },
    "hidden": true
   },
   "outputs": [],
   "source": [
    "import random"
   ]
  },
  {
   "cell_type": "code",
   "execution_count": 35,
   "metadata": {
    "ExecuteTime": {
     "end_time": "2020-09-17T02:43:34.982357Z",
     "start_time": "2020-09-17T02:43:34.955875Z"
    },
    "hidden": true
   },
   "outputs": [
    {
     "data": {
      "text/plain": [
       "13635"
      ]
     },
     "execution_count": 35,
     "metadata": {},
     "output_type": "execute_result"
    }
   ],
   "source": [
    "country_destination_list = df1['country_destination'].drop_duplicates().sort_values().tolist()\n",
    "k_num = y_test.shape[0]\n",
    "country_destination_weights = df1['country_destination'].value_counts( normalize=True ).sort_index().tolist()\n",
    "\n",
    "# Random model\n",
    "yhat_random = random.choices( population=country_destination_list, \n",
    "                             weights=country_destination_weights, \n",
    "                             k=k_num)\n",
    "len( yhat_random )"
   ]
  },
  {
   "cell_type": "code",
   "execution_count": 36,
   "metadata": {
    "ExecuteTime": {
     "end_time": "2020-09-17T02:43:36.508108Z",
     "start_time": "2020-09-17T02:43:35.518558Z"
    },
    "hidden": true
   },
   "outputs": [
    {
     "name": "stdout",
     "output_type": "stream",
     "text": [
      "Accuracy: 0.5257059039237257\n",
      "Balanced Accuracy: 0.09904527922408093\n",
      "Kappa Score: 0.011560302340488104\n",
      "              precision    recall  f1-score   support\n",
      "\n",
      "          AU       0.04      0.03      0.03       101\n",
      "          CA       0.02      0.02      0.02       214\n",
      "          DE       0.03      0.03      0.03       170\n",
      "          ES       0.03      0.03      0.03       345\n",
      "          FR       0.06      0.06      0.06       710\n",
      "          GB       0.03      0.03      0.03       344\n",
      "          IT       0.03      0.03      0.03       423\n",
      "          NL       0.02      0.02      0.02       128\n",
      "          PT       0.00      0.00      0.00        36\n",
      "          US       0.71      0.72      0.71      9624\n",
      "       other       0.12      0.12      0.12      1540\n",
      "\n",
      "    accuracy                           0.53     13635\n",
      "   macro avg       0.10      0.10      0.10     13635\n",
      "weighted avg       0.52      0.53      0.52     13635\n",
      "\n"
     ]
    },
    {
     "data": {
      "text/plain": [
       "<AxesSubplot:title={'center':'Confusion Matrix'}, xlabel='Predicted label', ylabel='True label'>"
      ]
     },
     "execution_count": 36,
     "metadata": {},
     "output_type": "execute_result"
    },
    {
     "data": {
      "image/png": "[encoded data removed]",
      "text/plain": [
       "<Figure size 864x864 with 2 Axes>"
      ]
     },
     "metadata": {
      "needs_background": "light"
     },
     "output_type": "display_data"
    }
   ],
   "source": [
    "# Accuracy\n",
    "acc_random = m.accuracy_score( y_test_nn, yhat_random )\n",
    "print( 'Accuracy: {}'.format( acc_random ) )\n",
    "\n",
    "# Balanced Accuracy\n",
    "balanced_accuracy_random = m.balanced_accuracy_score( y_test_nn, yhat_random )\n",
    "print( 'Balanced Accuracy: {}'.format( balanced_accuracy_random ) )\n",
    "\n",
    "# Kappa Metrics\n",
    "kappa_random = m.cohen_kappa_score( y_test_nn, yhat_random )\n",
    "print( 'Kappa Score: {}'.format( kappa_random ) )\n",
    "\n",
    "# Classification Report\n",
    "print( m.classification_report( y_test_nn, yhat_random ) )\n",
    "\n",
    "# Confusion Matrix\n",
    "mt.plot_confusion_matrix( y_test_nn, yhat_random, normalize=False, figsize=(12, 12) )\n"
   ]
  },
  {
   "cell_type": "markdown",
   "metadata": {
    "heading_collapsed": true,
    "hidden": true
   },
   "source": [
    "### 5.2 Neural Network - MLP"
   ]
  },
  {
   "cell_type": "code",
   "execution_count": 23,
   "metadata": {
    "ExecuteTime": {
     "end_time": "2020-09-17T01:33:28.017134Z",
     "start_time": "2020-09-17T01:33:27.743977Z"
    },
    "hidden": true
   },
   "outputs": [],
   "source": [
    "ohe = pp.OneHotEncoder()\n",
    "y_train_nn = ohe.fit_transform( y_train.values.reshape( -1, 1 ) ).toarray()"
   ]
  },
  {
   "cell_type": "code",
   "execution_count": 24,
   "metadata": {
    "ExecuteTime": {
     "end_time": "2020-09-17T01:33:28.213689Z",
     "start_time": "2020-09-17T01:33:28.024862Z"
    },
    "hidden": true
   },
   "outputs": [
    {
     "data": {
      "text/plain": [
       "array([[0., 0., 0., ..., 0., 1., 0.],\n",
       "       [0., 0., 0., ..., 0., 0., 0.],\n",
       "       [0., 0., 0., ..., 0., 0., 0.],\n",
       "       ...,\n",
       "       [0., 0., 0., ..., 0., 1., 0.],\n",
       "       [0., 0., 0., ..., 0., 0., 0.],\n",
       "       [0., 0., 0., ..., 0., 1., 0.]])"
      ]
     },
     "execution_count": 24,
     "metadata": {},
     "output_type": "execute_result"
    }
   ],
   "source": [
    "y_train_nn"
   ]
  },
  {
   "cell_type": "code",
   "execution_count": 25,
   "metadata": {
    "ExecuteTime": {
     "end_time": "2020-09-17T01:36:02.344493Z",
     "start_time": "2020-09-17T01:33:28.221842Z"
    },
    "hidden": true
   },
   "outputs": [
    {
     "name": "stdout",
     "output_type": "stream",
     "text": [
      "Epoch 1/100\n",
      "1705/1705 [==============================] - 2s 883us/step - loss: 1.3018 - accuracy: 0.7049\n",
      "Epoch 2/100\n",
      "1705/1705 [==============================] - 2s 921us/step - loss: 1.2541 - accuracy: 0.7070\n",
      "Epoch 3/100\n",
      "1705/1705 [==============================] - 2s 907us/step - loss: 1.2357 - accuracy: 0.7085\n",
      "Epoch 4/100\n",
      "1705/1705 [==============================] - 2s 895us/step - loss: 1.2044 - accuracy: 0.7083\n",
      "Epoch 5/100\n",
      "1705/1705 [==============================] - 1s 841us/step - loss: 1.2015 - accuracy: 0.7085\n",
      "Epoch 6/100\n",
      "1705/1705 [==============================] - 1s 810us/step - loss: 1.1814 - accuracy: 0.7084\n",
      "Epoch 7/100\n",
      "1705/1705 [==============================] - 1s 813us/step - loss: 1.1655 - accuracy: 0.7088\n",
      "Epoch 8/100\n",
      "1705/1705 [==============================] - 1s 866us/step - loss: 1.1601 - accuracy: 0.7085\n",
      "Epoch 9/100\n",
      "1705/1705 [==============================] - 2s 900us/step - loss: 1.1505 - accuracy: 0.7087\n",
      "Epoch 10/100\n",
      "1705/1705 [==============================] - 1s 861us/step - loss: 1.1424 - accuracy: 0.7090\n",
      "Epoch 11/100\n",
      "1705/1705 [==============================] - 1s 874us/step - loss: 1.1382 - accuracy: 0.7089\n",
      "Epoch 12/100\n",
      "1705/1705 [==============================] - 1s 860us/step - loss: 1.1346 - accuracy: 0.7092\n",
      "Epoch 13/100\n",
      "1705/1705 [==============================] - 2s 933us/step - loss: 1.1320 - accuracy: 0.7092\n",
      "Epoch 14/100\n",
      "1705/1705 [==============================] - 2s 949us/step - loss: 1.1315 - accuracy: 0.7093\n",
      "Epoch 15/100\n",
      "1705/1705 [==============================] - 2s 892us/step - loss: 1.1305 - accuracy: 0.7095\n",
      "Epoch 16/100\n",
      "1705/1705 [==============================] - 1s 868us/step - loss: 1.1286 - accuracy: 0.7095\n",
      "Epoch 17/100\n",
      "1705/1705 [==============================] - 1s 854us/step - loss: 1.1271 - accuracy: 0.7096\n",
      "Epoch 18/100\n",
      "1705/1705 [==============================] - 1s 867us/step - loss: 1.1262 - accuracy: 0.7097\n",
      "Epoch 19/100\n",
      "1705/1705 [==============================] - 2s 892us/step - loss: 1.1250 - accuracy: 0.7097\n",
      "Epoch 20/100\n",
      "1705/1705 [==============================] - 2s 919us/step - loss: 1.1247 - accuracy: 0.7097\n",
      "Epoch 21/100\n",
      "1705/1705 [==============================] - 2s 890us/step - loss: 1.1245 - accuracy: 0.7097\n",
      "Epoch 22/100\n",
      "1705/1705 [==============================] - 1s 875us/step - loss: 1.1236 - accuracy: 0.7098\n",
      "Epoch 23/100\n",
      "1705/1705 [==============================] - 1s 863us/step - loss: 1.1230 - accuracy: 0.7097\n",
      "Epoch 24/100\n",
      "1705/1705 [==============================] - 2s 931us/step - loss: 1.1225 - accuracy: 0.7097\n",
      "Epoch 25/100\n",
      "1705/1705 [==============================] - 2s 982us/step - loss: 1.1214 - accuracy: 0.7098\n",
      "Epoch 26/100\n",
      "1705/1705 [==============================] - 2s 892us/step - loss: 1.1203 - accuracy: 0.7098\n",
      "Epoch 27/100\n",
      "1705/1705 [==============================] - 1s 833us/step - loss: 1.1196 - accuracy: 0.7098\n",
      "Epoch 28/100\n",
      "1705/1705 [==============================] - 2s 918us/step - loss: 1.1189 - accuracy: 0.7099\n",
      "Epoch 29/100\n",
      "1705/1705 [==============================] - 2s 934us/step - loss: 1.1187 - accuracy: 0.7098\n",
      "Epoch 30/100\n",
      "1705/1705 [==============================] - 1s 876us/step - loss: 1.1182 - accuracy: 0.7098\n",
      "Epoch 31/100\n",
      "1705/1705 [==============================] - 2s 881us/step - loss: 1.1174 - accuracy: 0.7100\n",
      "Epoch 32/100\n",
      "1705/1705 [==============================] - 2s 925us/step - loss: 1.1162 - accuracy: 0.7100\n",
      "Epoch 33/100\n",
      "1705/1705 [==============================] - 2s 911us/step - loss: 1.1158 - accuracy: 0.7101\n",
      "Epoch 34/100\n",
      "1705/1705 [==============================] - 2s 993us/step - loss: 1.1150 - accuracy: 0.7101\n",
      "Epoch 35/100\n",
      "1705/1705 [==============================] - 2s 909us/step - loss: 1.1156 - accuracy: 0.7099\n",
      "Epoch 36/100\n",
      "1705/1705 [==============================] - 2s 994us/step - loss: 1.1144 - accuracy: 0.7103\n",
      "Epoch 37/100\n",
      "1705/1705 [==============================] - 2s 984us/step - loss: 1.1141 - accuracy: 0.7103\n",
      "Epoch 38/100\n",
      "1705/1705 [==============================] - 2s 942us/step - loss: 1.1134 - accuracy: 0.7103\n",
      "Epoch 39/100\n",
      "1705/1705 [==============================] - 2s 935us/step - loss: 1.1129 - accuracy: 0.7103\n",
      "Epoch 40/100\n",
      "1705/1705 [==============================] - 2s 891us/step - loss: 1.1121 - accuracy: 0.7104\n",
      "Epoch 41/100\n",
      "1705/1705 [==============================] - 1s 858us/step - loss: 1.1116 - accuracy: 0.7105\n",
      "Epoch 42/100\n",
      "1705/1705 [==============================] - 2s 885us/step - loss: 1.1115 - accuracy: 0.7106\n",
      "Epoch 43/100\n",
      "1705/1705 [==============================] - 2s 887us/step - loss: 1.1106 - accuracy: 0.7107\n",
      "Epoch 44/100\n",
      "1705/1705 [==============================] - 2s 919us/step - loss: 1.1105 - accuracy: 0.7105\n",
      "Epoch 45/100\n",
      "1705/1705 [==============================] - 2s 933us/step - loss: 1.1094 - accuracy: 0.7106\n",
      "Epoch 46/100\n",
      "1705/1705 [==============================] - 2s 936us/step - loss: 1.1097 - accuracy: 0.7105\n",
      "Epoch 47/100\n",
      "1705/1705 [==============================] - 2s 926us/step - loss: 1.1086 - accuracy: 0.7109\n",
      "Epoch 48/100\n",
      "1705/1705 [==============================] - 2s 921us/step - loss: 1.1083 - accuracy: 0.7106\n",
      "Epoch 49/100\n",
      "1705/1705 [==============================] - 2s 937us/step - loss: 1.1083 - accuracy: 0.7107\n",
      "Epoch 50/100\n",
      "1705/1705 [==============================] - 2s 911us/step - loss: 1.1078 - accuracy: 0.7108\n",
      "Epoch 51/100\n",
      "1705/1705 [==============================] - 2s 902us/step - loss: 1.1078 - accuracy: 0.7108\n",
      "Epoch 52/100\n",
      "1705/1705 [==============================] - 2s 937us/step - loss: 1.1071 - accuracy: 0.7110\n",
      "Epoch 53/100\n",
      "1705/1705 [==============================] - 2s 934us/step - loss: 1.1065 - accuracy: 0.7108\n",
      "Epoch 54/100\n",
      "1705/1705 [==============================] - 2s 939us/step - loss: 1.1064 - accuracy: 0.7111\n",
      "Epoch 55/100\n",
      "1705/1705 [==============================] - 2s 912us/step - loss: 1.1053 - accuracy: 0.7111\n",
      "Epoch 56/100\n",
      "1705/1705 [==============================] - 2s 915us/step - loss: 1.1056 - accuracy: 0.7111\n",
      "Epoch 57/100\n",
      "1705/1705 [==============================] - 2s 919us/step - loss: 1.1049 - accuracy: 0.7108\n",
      "Epoch 58/100\n",
      "1705/1705 [==============================] - 2s 935us/step - loss: 1.1059 - accuracy: 0.7112\n",
      "Epoch 59/100\n",
      "1705/1705 [==============================] - 2s 929us/step - loss: 1.1045 - accuracy: 0.7112\n",
      "Epoch 60/100\n",
      "1705/1705 [==============================] - 2s 1ms/step - loss: 1.1042 - accuracy: 0.7111\n",
      "Epoch 61/100\n",
      "1705/1705 [==============================] - 2s 990us/step - loss: 1.1035 - accuracy: 0.7113\n",
      "Epoch 62/100\n",
      "1705/1705 [==============================] - 1s 865us/step - loss: 1.1037 - accuracy: 0.7111\n",
      "Epoch 63/100\n",
      "1705/1705 [==============================] - 1s 879us/step - loss: 1.1034 - accuracy: 0.7113\n",
      "Epoch 64/100\n",
      "1705/1705 [==============================] - 1s 872us/step - loss: 1.1030 - accuracy: 0.7114\n",
      "Epoch 65/100\n",
      "1705/1705 [==============================] - 2s 921us/step - loss: 1.1030 - accuracy: 0.7113\n",
      "Epoch 66/100\n",
      "1705/1705 [==============================] - 2s 955us/step - loss: 1.1024 - accuracy: 0.7114\n",
      "Epoch 67/100\n",
      "1705/1705 [==============================] - 2s 929us/step - loss: 1.1026 - accuracy: 0.7112\n",
      "Epoch 68/100\n",
      "1705/1705 [==============================] - 1s 878us/step - loss: 1.1024 - accuracy: 0.7114\n",
      "Epoch 69/100\n",
      "1705/1705 [==============================] - 2s 945us/step - loss: 1.1015 - accuracy: 0.7114\n",
      "Epoch 70/100\n",
      "1705/1705 [==============================] - 2s 953us/step - loss: 1.1020 - accuracy: 0.7114\n",
      "Epoch 71/100\n",
      "1705/1705 [==============================] - 2s 908us/step - loss: 1.1008 - accuracy: 0.7117\n",
      "Epoch 72/100\n",
      "1705/1705 [==============================] - 2s 890us/step - loss: 1.1011 - accuracy: 0.7114\n",
      "Epoch 73/100\n",
      "1705/1705 [==============================] - 2s 955us/step - loss: 1.1003 - accuracy: 0.7114\n",
      "Epoch 74/100\n",
      "1705/1705 [==============================] - 2s 951us/step - loss: 1.1001 - accuracy: 0.7116\n",
      "Epoch 75/100\n",
      "1705/1705 [==============================] - 2s 953us/step - loss: 1.1004 - accuracy: 0.7119\n",
      "Epoch 76/100\n",
      "1705/1705 [==============================] - 2s 909us/step - loss: 1.1001 - accuracy: 0.7117\n",
      "Epoch 77/100\n",
      "1705/1705 [==============================] - 2s 948us/step - loss: 1.0994 - accuracy: 0.7120\n",
      "Epoch 78/100\n"
     ]
    },
    {
     "name": "stdout",
     "output_type": "stream",
     "text": [
      "1705/1705 [==============================] - 1s 850us/step - loss: 1.0995 - accuracy: 0.7120\n",
      "Epoch 79/100\n",
      "1705/1705 [==============================] - 1s 871us/step - loss: 1.0993 - accuracy: 0.7117\n",
      "Epoch 80/100\n",
      "1705/1705 [==============================] - 1s 821us/step - loss: 1.0989 - accuracy: 0.7122\n",
      "Epoch 81/100\n",
      "1705/1705 [==============================] - 2s 892us/step - loss: 1.0987 - accuracy: 0.7118\n",
      "Epoch 82/100\n",
      "1705/1705 [==============================] - 1s 854us/step - loss: 1.0991 - accuracy: 0.7120\n",
      "Epoch 83/100\n",
      "1705/1705 [==============================] - 1s 878us/step - loss: 1.0982 - accuracy: 0.7119\n",
      "Epoch 84/100\n",
      "1705/1705 [==============================] - 1s 859us/step - loss: 1.0986 - accuracy: 0.7116\n",
      "Epoch 85/100\n",
      "1705/1705 [==============================] - 1s 870us/step - loss: 1.0980 - accuracy: 0.7119\n",
      "Epoch 86/100\n",
      "1705/1705 [==============================] - 1s 874us/step - loss: 1.0982 - accuracy: 0.7119\n",
      "Epoch 87/100\n",
      "1705/1705 [==============================] - 1s 840us/step - loss: 1.0972 - accuracy: 0.7122\n",
      "Epoch 88/100\n",
      "1705/1705 [==============================] - 1s 835us/step - loss: 1.0973 - accuracy: 0.7120\n",
      "Epoch 89/100\n",
      "1705/1705 [==============================] - 1s 849us/step - loss: 1.0968 - accuracy: 0.7122\n",
      "Epoch 90/100\n",
      "1705/1705 [==============================] - 1s 839us/step - loss: 1.0968 - accuracy: 0.7124\n",
      "Epoch 91/100\n",
      "1705/1705 [==============================] - 2s 899us/step - loss: 1.0972 - accuracy: 0.7123\n",
      "Epoch 92/100\n",
      "1705/1705 [==============================] - 2s 912us/step - loss: 1.0962 - accuracy: 0.7124\n",
      "Epoch 93/100\n",
      "1705/1705 [==============================] - 1s 852us/step - loss: 1.0968 - accuracy: 0.7123\n",
      "Epoch 94/100\n",
      "1705/1705 [==============================] - 1s 829us/step - loss: 1.0965 - accuracy: 0.7123\n",
      "Epoch 95/100\n",
      "1705/1705 [==============================] - 1s 786us/step - loss: 1.0954 - accuracy: 0.7128\n",
      "Epoch 96/100\n",
      "1705/1705 [==============================] - 1s 826us/step - loss: 1.0953 - accuracy: 0.7121\n",
      "Epoch 97/100\n",
      "1705/1705 [==============================] - 1s 837us/step - loss: 1.0958 - accuracy: 0.7123\n",
      "Epoch 98/100\n",
      "1705/1705 [==============================] - 2s 885us/step - loss: 1.0956 - accuracy: 0.7124\n",
      "Epoch 99/100\n",
      "1705/1705 [==============================] - 1s 837us/step - loss: 1.0952 - accuracy: 0.7123\n",
      "Epoch 100/100\n",
      "1705/1705 [==============================] - 1s 823us/step - loss: 1.0952 - accuracy: 0.7125\n"
     ]
    },
    {
     "data": {
      "text/plain": [
       "<tensorflow.python.keras.callbacks.History at 0x7fbeefaa6280>"
      ]
     },
     "execution_count": 25,
     "metadata": {},
     "output_type": "execute_result"
    }
   ],
   "source": [
    "# model definition\n",
    "model = ml.Sequential()\n",
    "model.add( l.Dense( 128, input_dim=x_train.shape[1], activation='relu') )\n",
    "model.add( l.Dense( 11, activation='softmax') )\n",
    "\n",
    "# model compile\n",
    "model.compile( loss='categorical_crossentropy', optimizer='adam', metrics=['accuracy'] )\n",
    "\n",
    "# train model\n",
    "model.fit( x_train, y_train_nn, epochs=100 )"
   ]
  },
  {
   "cell_type": "markdown",
   "metadata": {
    "heading_collapsed": true,
    "hidden": true
   },
   "source": [
    "## 6.0 NN Performance"
   ]
  },
  {
   "cell_type": "code",
   "execution_count": 26,
   "metadata": {
    "ExecuteTime": {
     "end_time": "2020-09-17T01:36:02.614211Z",
     "start_time": "2020-09-17T01:36:02.346575Z"
    },
    "hidden": true
   },
   "outputs": [],
   "source": [
    "# prediction\n",
    "pred_nn = model.predict( x_test )\n",
    "\n",
    "# invert prediction\n",
    "yhat_nn = ohe.inverse_transform( pred_nn )\n",
    "\n",
    "# prediction prepare\n",
    "y_test_nn = y_test.to_numpy()\n",
    "yhat_nn = yhat_nn.reshape( 1, -1 )[0]"
   ]
  },
  {
   "cell_type": "code",
   "execution_count": 29,
   "metadata": {
    "ExecuteTime": {
     "end_time": "2020-09-17T02:17:08.620865Z",
     "start_time": "2020-09-17T02:17:07.554994Z"
    },
    "hidden": true
   },
   "outputs": [
    {
     "name": "stdout",
     "output_type": "stream",
     "text": [
      "Accuracy: 0.7028969563623029\n",
      "Balanced Accuracy: 0.09157896801490964\n",
      "Kappa Score: 0.00024080209396459828\n"
     ]
    },
    {
     "name": "stderr",
     "output_type": "stream",
     "text": [
      "/home/victorpereira/.pyenv/versions/3.8.0/envs/airbnb_predict_first_booking/lib/python3.8/site-packages/sklearn/metrics/_classification.py:1221: UndefinedMetricWarning: Precision and F-score are ill-defined and being set to 0.0 in labels with no predicted samples. Use `zero_division` parameter to control this behavior.\n",
      "  _warn_prf(average, modifier, msg_start, len(result))\n"
     ]
    },
    {
     "name": "stdout",
     "output_type": "stream",
     "text": [
      "              precision    recall  f1-score   support\n",
      "\n",
      "          AU       0.00      0.00      0.00       101\n",
      "          CA       0.00      0.00      0.00       214\n",
      "          DE       0.20      0.01      0.01       170\n",
      "          ES       0.00      0.00      0.00       345\n",
      "          FR       0.12      0.00      0.00       710\n",
      "          GB       0.00      0.00      0.00       344\n",
      "          IT       0.10      0.00      0.00       423\n",
      "          NL       0.00      0.00      0.00       128\n",
      "          PT       0.00      0.00      0.00        36\n",
      "          US       0.71      1.00      0.83      9624\n",
      "       other       0.14      0.00      0.01      1540\n",
      "\n",
      "    accuracy                           0.70     13635\n",
      "   macro avg       0.12      0.09      0.08     13635\n",
      "weighted avg       0.53      0.70      0.58     13635\n",
      "\n"
     ]
    },
    {
     "data": {
      "text/plain": [
       "<AxesSubplot:title={'center':'Confusion Matrix'}, xlabel='Predicted label', ylabel='True label'>"
      ]
     },
     "execution_count": 29,
     "metadata": {},
     "output_type": "execute_result"
    },
    {
     "data": {
      "image/png": "[encoded data removed]",
      "text/plain": [
       "<Figure size 864x864 with 2 Axes>"
      ]
     },
     "metadata": {
      "needs_background": "light"
     },
     "output_type": "display_data"
    }
   ],
   "source": [
    "# Accuracy\n",
    "acc_nn = m.accuracy_score( y_test_nn, yhat_nn )\n",
    "print( 'Accuracy: {}'.format( acc_nn ) )\n",
    "\n",
    "# Balanced Accuracy\n",
    "balanced_accuracy_nn = m.balanced_accuracy_score( y_test_nn, yhat_nn )\n",
    "print( 'Balanced Accuracy: {}'.format( balanced_accuracy_nn ) )\n",
    "\n",
    "# Kappa Metrics\n",
    "kappa_nn = m.cohen_kappa_score( y_test_nn, yhat_nn )\n",
    "print( 'Kappa Score: {}'.format( kappa_nn ) )\n",
    "\n",
    "# Classification Report\n",
    "print( m.classification_report( y_test_nn, yhat_nn ) )\n",
    "\n",
    "# Confusion Matrix\n",
    "mt.plot_confusion_matrix( y_test_nn, yhat_nn, normalize=False, figsize=(12, 12) )\n"
   ]
  },
  {
   "cell_type": "code",
   "execution_count": null,
   "metadata": {
    "hidden": true
   },
   "outputs": [],
   "source": []
  }
 ],
 "metadata": {
  "kernelspec": {
   "display_name": "Python 3",
   "language": "python",
   "name": "python3"
  },
  "language_info": {
   "codemirror_mode": {
    "name": "ipython",
    "version": 3
   },
   "file_extension": ".py",
   "mimetype": "text/x-python",
   "name": "python",
   "nbconvert_exporter": "python",
   "pygments_lexer": "ipython3",
   "version": "3.8.0"
  }
 },
 "nbformat": 4,
 "nbformat_minor": 4
}
