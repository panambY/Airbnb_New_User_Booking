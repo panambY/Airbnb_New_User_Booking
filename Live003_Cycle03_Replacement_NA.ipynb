{
 "cells": [
  {
   "cell_type": "markdown",
   "metadata": {
    "heading_collapsed": true
   },
   "source": [
    "# 0.0 Understand the Problem"
   ]
  },
  {
   "cell_type": "markdown",
   "metadata": {
    "hidden": true
   },
   "source": [
    "- Purpose of the problem:\n",
    "    - 1.0 Prediction of the first destination that a new user will choose.\n",
    "        \n",
    "    -- Why?\n",
    "        - What kind of Airbnb business model?\n",
    "            - Marketplace (Connects people who offer accommodation, with people looking for accommodation)\n",
    "            - Offer (people offering accommodation)\n",
    "                - Portfolio Size\n",
    "                - Diversity / Density of the Portfolio\n",
    "                - Average rental price\n",
    "                                \n",
    "            - Demand (people looking for accommodation)\n",
    "                - Number of users\n",
    "                - LTV (Lifetime Value)\n",
    "                - CAC (Client Acquisition Cost)\n",
    "                \n",
    "                \n",
    "                Gross Revenue = (Fee * Customer Number) - CAC\n",
    "        \n",
    "- Solution Proposition <br>\n",
    "\n",
    "    - Forecast model of the first destination of a new user\n",
    "    - 1.0 Predictions and save to a database table\n",
    "    - 2.0 API\n",
    "        - Input: user and its characteristics\n",
    "        - Output: user and its characteristics with ** destination prediction **\n",
    "        \n",
    "    - 16 cycles"
   ]
  },
  {
   "cell_type": "markdown",
   "metadata": {},
   "source": [
    "# <font color='red'> Ciclo03: Cross Validation for Imbalanced Datas and Fillout NA </font>"
   ]
  },
  {
   "cell_type": "markdown",
   "metadata": {
    "ExecuteTime": {
     "end_time": "2020-09-02T03:09:55.592975Z",
     "start_time": "2020-09-02T03:09:55.549093Z"
    }
   },
   "source": [
    "## 0.0 Imports"
   ]
  },
  {
   "cell_type": "code",
   "execution_count": 1,
   "metadata": {
    "ExecuteTime": {
     "end_time": "2020-09-26T02:02:43.948798Z",
     "start_time": "2020-09-26T02:02:42.441850Z"
    }
   },
   "outputs": [],
   "source": [
    "import pandas                           as pd\n",
    "import numpy                            as np\n",
    "import seaborn                          as sns\n",
    "\n",
    "from sklearn     import model_selection as ms\n",
    "from sklearn     import preprocessing   as pp\n",
    "from sklearn     import metrics         as m\n",
    "\n",
    "from keras       import models          as ml\n",
    "from keras       import layers          as l\n",
    "\n",
    "from scikitplot  import metrics         as mt"
   ]
  },
  {
   "cell_type": "markdown",
   "metadata": {
    "heading_collapsed": true
   },
   "source": [
    "### 0.1 Helper Functions"
   ]
  },
  {
   "cell_type": "code",
   "execution_count": null,
   "metadata": {
    "hidden": true
   },
   "outputs": [],
   "source": []
  },
  {
   "cell_type": "markdown",
   "metadata": {
    "heading_collapsed": true
   },
   "source": [
    "### 0.2 Loading Data"
   ]
  },
  {
   "cell_type": "code",
   "execution_count": 2,
   "metadata": {
    "ExecuteTime": {
     "end_time": "2020-09-26T02:02:44.928841Z",
     "start_time": "2020-09-26T02:02:43.949945Z"
    },
    "hidden": true
   },
   "outputs": [
    {
     "data": {
      "text/plain": [
       "(213451, 16)"
      ]
     },
     "execution_count": 2,
     "metadata": {},
     "output_type": "execute_result"
    }
   ],
   "source": [
    "df_raw = pd.read_csv( 'data/train_users_2.csv', low_memory=True )\n",
    "df_raw.shape"
   ]
  },
  {
   "cell_type": "code",
   "execution_count": 3,
   "metadata": {
    "ExecuteTime": {
     "end_time": "2020-09-26T02:02:59.909949Z",
     "start_time": "2020-09-26T02:02:44.930522Z"
    },
    "hidden": true
   },
   "outputs": [
    {
     "data": {
      "text/plain": [
       "(10567737, 6)"
      ]
     },
     "execution_count": 3,
     "metadata": {},
     "output_type": "execute_result"
    }
   ],
   "source": [
    "df_sessions = pd.read_csv( 'data/sessions.csv', low_memory=True )\n",
    "df_sessions.shape"
   ]
  },
  {
   "cell_type": "markdown",
   "metadata": {},
   "source": [
    "## 1.0 Data Description"
   ]
  },
  {
   "cell_type": "code",
   "execution_count": 4,
   "metadata": {
    "ExecuteTime": {
     "end_time": "2020-09-26T02:02:59.926344Z",
     "start_time": "2020-09-26T02:02:59.911318Z"
    }
   },
   "outputs": [],
   "source": [
    "df1 = df_raw.copy()"
   ]
  },
  {
   "cell_type": "markdown",
   "metadata": {
    "heading_collapsed": true
   },
   "source": [
    "### 1.1 Data Dimension"
   ]
  },
  {
   "cell_type": "code",
   "execution_count": 5,
   "metadata": {
    "ExecuteTime": {
     "end_time": "2020-09-26T02:03:00.210280Z",
     "start_time": "2020-09-26T02:02:59.927272Z"
    },
    "hidden": true
   },
   "outputs": [
    {
     "name": "stdout",
     "output_type": "stream",
     "text": [
      "Number of rows: 213451\n",
      "Number of columns: 16\n"
     ]
    }
   ],
   "source": [
    "print( 'Number of rows: {}'.format( df1.shape[0]) )\n",
    "print( 'Number of columns: {}'.format( df1.shape[1]) )"
   ]
  },
  {
   "cell_type": "code",
   "execution_count": 6,
   "metadata": {
    "ExecuteTime": {
     "end_time": "2020-09-26T02:03:00.408742Z",
     "start_time": "2020-09-26T02:03:00.215947Z"
    },
    "hidden": true
   },
   "outputs": [
    {
     "name": "stdout",
     "output_type": "stream",
     "text": [
      "Number of rows: 10567737\n",
      "Number of columns: 6\n"
     ]
    }
   ],
   "source": [
    "print( 'Number of rows: {}'.format( df_sessions.shape[0]) )\n",
    "print( 'Number of columns: {}'.format( df_sessions.shape[1]) )"
   ]
  },
  {
   "cell_type": "markdown",
   "metadata": {
    "heading_collapsed": true
   },
   "source": [
    "### 1.2 Data Type"
   ]
  },
  {
   "cell_type": "code",
   "execution_count": 7,
   "metadata": {
    "ExecuteTime": {
     "end_time": "2020-09-26T02:03:00.654219Z",
     "start_time": "2020-09-26T02:03:00.414457Z"
    },
    "hidden": true
   },
   "outputs": [
    {
     "data": {
      "text/plain": [
       "id                          object\n",
       "date_account_created        object\n",
       "timestamp_first_active       int64\n",
       "date_first_booking          object\n",
       "gender                      object\n",
       "age                        float64\n",
       "signup_method               object\n",
       "signup_flow                  int64\n",
       "language                    object\n",
       "affiliate_channel           object\n",
       "affiliate_provider          object\n",
       "first_affiliate_tracked     object\n",
       "signup_app                  object\n",
       "first_device_type           object\n",
       "first_browser               object\n",
       "country_destination         object\n",
       "dtype: object"
      ]
     },
     "execution_count": 7,
     "metadata": {},
     "output_type": "execute_result"
    }
   ],
   "source": [
    "df1.dtypes"
   ]
  },
  {
   "cell_type": "code",
   "execution_count": 8,
   "metadata": {
    "ExecuteTime": {
     "end_time": "2020-09-26T02:03:00.923468Z",
     "start_time": "2020-09-26T02:03:00.657452Z"
    },
    "hidden": true
   },
   "outputs": [
    {
     "data": {
      "text/plain": [
       "user_id           object\n",
       "action            object\n",
       "action_type       object\n",
       "action_detail     object\n",
       "device_type       object\n",
       "secs_elapsed     float64\n",
       "dtype: object"
      ]
     },
     "execution_count": 8,
     "metadata": {},
     "output_type": "execute_result"
    }
   ],
   "source": [
    "df_sessions.dtypes"
   ]
  },
  {
   "cell_type": "code",
   "execution_count": 9,
   "metadata": {
    "ExecuteTime": {
     "end_time": "2020-09-26T02:03:01.404992Z",
     "start_time": "2020-09-26T02:03:00.926478Z"
    },
    "hidden": true
   },
   "outputs": [
    {
     "data": {
      "text/html": [
       "<div>\n",
       "<style scoped>\n",
       "    .dataframe tbody tr th:only-of-type {\n",
       "        vertical-align: middle;\n",
       "    }\n",
       "\n",
       "    .dataframe tbody tr th {\n",
       "        vertical-align: top;\n",
       "    }\n",
       "\n",
       "    .dataframe thead th {\n",
       "        text-align: right;\n",
       "    }\n",
       "</style>\n",
       "<table border=\"1\" class=\"dataframe\">\n",
       "  <thead>\n",
       "    <tr style=\"text-align: right;\">\n",
       "      <th></th>\n",
       "      <th>148065</th>\n",
       "    </tr>\n",
       "  </thead>\n",
       "  <tbody>\n",
       "    <tr>\n",
       "      <th>id</th>\n",
       "      <td>bago4qpr9l</td>\n",
       "    </tr>\n",
       "    <tr>\n",
       "      <th>date_account_created</th>\n",
       "      <td>2014-01-31</td>\n",
       "    </tr>\n",
       "    <tr>\n",
       "      <th>timestamp_first_active</th>\n",
       "      <td>20140131213215</td>\n",
       "    </tr>\n",
       "    <tr>\n",
       "      <th>date_first_booking</th>\n",
       "      <td>NaN</td>\n",
       "    </tr>\n",
       "    <tr>\n",
       "      <th>gender</th>\n",
       "      <td>-unknown-</td>\n",
       "    </tr>\n",
       "    <tr>\n",
       "      <th>age</th>\n",
       "      <td>23</td>\n",
       "    </tr>\n",
       "    <tr>\n",
       "      <th>signup_method</th>\n",
       "      <td>basic</td>\n",
       "    </tr>\n",
       "    <tr>\n",
       "      <th>signup_flow</th>\n",
       "      <td>0</td>\n",
       "    </tr>\n",
       "    <tr>\n",
       "      <th>language</th>\n",
       "      <td>en</td>\n",
       "    </tr>\n",
       "    <tr>\n",
       "      <th>affiliate_channel</th>\n",
       "      <td>content</td>\n",
       "    </tr>\n",
       "    <tr>\n",
       "      <th>affiliate_provider</th>\n",
       "      <td>google</td>\n",
       "    </tr>\n",
       "    <tr>\n",
       "      <th>first_affiliate_tracked</th>\n",
       "      <td>omg</td>\n",
       "    </tr>\n",
       "    <tr>\n",
       "      <th>signup_app</th>\n",
       "      <td>Web</td>\n",
       "    </tr>\n",
       "    <tr>\n",
       "      <th>first_device_type</th>\n",
       "      <td>Windows Desktop</td>\n",
       "    </tr>\n",
       "    <tr>\n",
       "      <th>first_browser</th>\n",
       "      <td>Chrome</td>\n",
       "    </tr>\n",
       "    <tr>\n",
       "      <th>country_destination</th>\n",
       "      <td>NDF</td>\n",
       "    </tr>\n",
       "  </tbody>\n",
       "</table>\n",
       "</div>"
      ],
      "text/plain": [
       "                                  148065\n",
       "id                            bago4qpr9l\n",
       "date_account_created          2014-01-31\n",
       "timestamp_first_active    20140131213215\n",
       "date_first_booking                   NaN\n",
       "gender                         -unknown-\n",
       "age                                   23\n",
       "signup_method                      basic\n",
       "signup_flow                            0\n",
       "language                              en\n",
       "affiliate_channel                content\n",
       "affiliate_provider                google\n",
       "first_affiliate_tracked              omg\n",
       "signup_app                           Web\n",
       "first_device_type        Windows Desktop\n",
       "first_browser                     Chrome\n",
       "country_destination                  NDF"
      ]
     },
     "execution_count": 9,
     "metadata": {},
     "output_type": "execute_result"
    }
   ],
   "source": [
    "df1.sample().T"
   ]
  },
  {
   "cell_type": "markdown",
   "metadata": {
    "heading_collapsed": true
   },
   "source": [
    "### 1.3 NA Check"
   ]
  },
  {
   "cell_type": "code",
   "execution_count": 10,
   "metadata": {
    "ExecuteTime": {
     "end_time": "2020-09-26T02:03:01.880548Z",
     "start_time": "2020-09-26T02:03:01.410073Z"
    },
    "hidden": true
   },
   "outputs": [
    {
     "data": {
      "text/plain": [
       "id                         0.000000\n",
       "date_account_created       0.000000\n",
       "timestamp_first_active     0.000000\n",
       "date_first_booking         0.583473\n",
       "gender                     0.000000\n",
       "age                        0.412226\n",
       "signup_method              0.000000\n",
       "signup_flow                0.000000\n",
       "language                   0.000000\n",
       "affiliate_channel          0.000000\n",
       "affiliate_provider         0.000000\n",
       "first_affiliate_tracked    0.028414\n",
       "signup_app                 0.000000\n",
       "first_device_type          0.000000\n",
       "first_browser              0.000000\n",
       "country_destination        0.000000\n",
       "dtype: float64"
      ]
     },
     "execution_count": 10,
     "metadata": {},
     "output_type": "execute_result"
    }
   ],
   "source": [
    "df1.isna().sum() / len( df1 )"
   ]
  },
  {
   "cell_type": "code",
   "execution_count": 11,
   "metadata": {
    "ExecuteTime": {
     "end_time": "2020-09-26T02:03:03.736209Z",
     "start_time": "2020-09-26T02:03:01.884374Z"
    },
    "hidden": true
   },
   "outputs": [
    {
     "data": {
      "text/plain": [
       "user_id          0.161611\n",
       "action           0.373041\n",
       "action_type      5.276171\n",
       "action_detail    5.276171\n",
       "device_type      0.000000\n",
       "secs_elapsed     0.637294\n",
       "dtype: float64"
      ]
     },
     "execution_count": 11,
     "metadata": {},
     "output_type": "execute_result"
    }
   ],
   "source": [
    "df_sessions.isna().sum() / len( df1 )"
   ]
  },
  {
   "cell_type": "code",
   "execution_count": 12,
   "metadata": {
    "ExecuteTime": {
     "end_time": "2020-09-26T02:03:07.292859Z",
     "start_time": "2020-09-26T02:03:03.737242Z"
    },
    "hidden": true
   },
   "outputs": [],
   "source": [
    "# remoe missing values completly\n",
    "#df1 = df1.dropna()\n",
    "\n",
    "# ========== User ==========\n",
    "\n",
    "# date_first_booking\n",
    "date_first_booking_max = pd.to_datetime( df1['date_first_booking'] ).max().strftime( '%Y-%m-%d' )\n",
    "df1['date_first_booking' ] = df1['date_first_booking'].fillna( date_first_booking_max )\n",
    "\n",
    "# age\n",
    "avg_age = df1['age'].mean().astype( int )\n",
    "df1['age'] = df1['age'].fillna( avg_age )\n",
    "\n",
    "#first_affiliate_tracked\n",
    "df1 = df1[~df1['first_affiliate_tracked'].isna()]\n",
    "\n",
    "# ========== Sessions ==========\n",
    "\n",
    "# user_id - 0.3%\n",
    "df_sessions = df_sessions[~df_sessions['user_id'].isna()]\n",
    "\n",
    "# action - 0.7%\n",
    "df_sessions = df_sessions[~df_sessions['action'].isna()]\n",
    "\n",
    "# action_type - 11%\n",
    "df_sessions = df_sessions[~df_sessions['action_type'].isna()]\n",
    "\n",
    "# action_detail - 11%\n",
    "df_sessions = df_sessions[~df_sessions['action_detail'].isna()]\n",
    "\n",
    "# secs_elapsed - 1.2%\n",
    "df_sessions = df_sessions[~df_sessions['secs_elapsed'].isna()]\n"
   ]
  },
  {
   "cell_type": "code",
   "execution_count": 13,
   "metadata": {
    "ExecuteTime": {
     "end_time": "2020-09-26T02:03:07.304937Z",
     "start_time": "2020-09-26T02:03:07.293885Z"
    },
    "hidden": true
   },
   "outputs": [
    {
     "data": {
      "text/plain": [
       "Series([], Name: country_destination, dtype: float64)"
      ]
     },
     "execution_count": 13,
     "metadata": {},
     "output_type": "execute_result"
    }
   ],
   "source": [
    "aux = df1[df1['date_first_booking'].isna()]\n",
    "aux['country_destination'].value_counts( normalize=True )\n",
    "# Only the NDF has missing values in this variable. \n",
    "# The reason for this occur is that the person didn't do the first booking yet.\n",
    "# The value that we will fill the missing values is the max day in the 'date_first_booking' column."
   ]
  },
  {
   "cell_type": "code",
   "execution_count": 14,
   "metadata": {
    "ExecuteTime": {
     "end_time": "2020-09-26T02:03:07.518765Z",
     "start_time": "2020-09-26T02:03:07.305998Z"
    },
    "hidden": true
   },
   "outputs": [
    {
     "data": {
      "text/plain": [
       "Series([], Name: country_destination, dtype: float64)"
      ]
     },
     "execution_count": 14,
     "metadata": {},
     "output_type": "execute_result"
    }
   ],
   "source": [
    "aux = df1[df1['age'].isna()]\n",
    "aux['country_destination'].value_counts( normalize=True )\n",
    "\n",
    "# We can see here that the missing values is proporcional distribuciones among the target values.\n",
    "# Let's plot a graph which will give us a better visualization of this distribution."
   ]
  },
  {
   "cell_type": "code",
   "execution_count": 15,
   "metadata": {
    "ExecuteTime": {
     "end_time": "2020-09-26T02:03:09.118625Z",
     "start_time": "2020-09-26T02:03:07.523014Z"
    },
    "hidden": true
   },
   "outputs": [
    {
     "name": "stderr",
     "output_type": "stream",
     "text": [
      "/home/victorpereira/.pyenv/versions/3.8.0/envs/airbnb_predict_first_booking/lib/python3.8/site-packages/seaborn/distributions.py:2551: FutureWarning: `distplot` is a deprecated function and will be removed in a future version. Please adapt your code to use either `displot` (a figure-level function with similar flexibility) or `histplot` (an axes-level function for histograms).\n",
      "  warnings.warn(msg, FutureWarning)\n"
     ]
    },
    {
     "data": {
      "text/plain": [
       "<AxesSubplot:xlabel='age', ylabel='Density'>"
      ]
     },
     "execution_count": 15,
     "metadata": {},
     "output_type": "execute_result"
    },
    {
     "data": {
      "image/png": "[encoded data removed]",
      "text/plain": [
       "<Figure size 432x288 with 1 Axes>"
      ]
     },
     "metadata": {
      "needs_background": "light"
     },
     "output_type": "display_data"
    }
   ],
   "source": [
    "sns.distplot( df1[df1['age'] < 65]['age'] )\n",
    "# We can see that this variable has a Normal distribution.\n",
    "# For this reason, in this variable, I will use \"mean\" to fill the missing values."
   ]
  },
  {
   "cell_type": "code",
   "execution_count": 16,
   "metadata": {
    "ExecuteTime": {
     "end_time": "2020-09-26T02:03:09.142191Z",
     "start_time": "2020-09-26T02:03:09.122777Z"
    },
    "hidden": true
   },
   "outputs": [
    {
     "data": {
      "text/plain": [
       "0            untracked\n",
       "5                  omg\n",
       "13              linked\n",
       "79       tracked-other\n",
       "257            product\n",
       "6270         marketing\n",
       "11184        local ops\n",
       "Name: first_affiliate_tracked, dtype: object"
      ]
     },
     "execution_count": 16,
     "metadata": {},
     "output_type": "execute_result"
    }
   ],
   "source": [
    "df1['first_affiliate_tracked'].drop_duplicates()\n",
    "# This is a categorical variable. It's very difficult to fill out categorical variables.\n",
    "# Normally you fill using the frequency method, but the chance to input a bias in the dataset is big.\n",
    "# As the number of missing values in this case is not so large, I will just drop them. "
   ]
  },
  {
   "cell_type": "code",
   "execution_count": 17,
   "metadata": {
    "ExecuteTime": {
     "end_time": "2020-09-26T02:03:09.595783Z",
     "start_time": "2020-09-26T02:03:09.143573Z"
    },
    "hidden": true
   },
   "outputs": [
    {
     "data": {
      "text/plain": [
       "id                         0\n",
       "date_account_created       0\n",
       "timestamp_first_active     0\n",
       "date_first_booking         0\n",
       "gender                     0\n",
       "age                        0\n",
       "signup_method              0\n",
       "signup_flow                0\n",
       "language                   0\n",
       "affiliate_channel          0\n",
       "affiliate_provider         0\n",
       "first_affiliate_tracked    0\n",
       "signup_app                 0\n",
       "first_device_type          0\n",
       "first_browser              0\n",
       "country_destination        0\n",
       "dtype: int64"
      ]
     },
     "execution_count": 17,
     "metadata": {},
     "output_type": "execute_result"
    }
   ],
   "source": [
    "df1.isna().sum()"
   ]
  },
  {
   "cell_type": "code",
   "execution_count": 18,
   "metadata": {
    "ExecuteTime": {
     "end_time": "2020-09-26T02:03:11.120294Z",
     "start_time": "2020-09-26T02:03:09.596904Z"
    },
    "hidden": true
   },
   "outputs": [
    {
     "data": {
      "text/plain": [
       "user_id          0\n",
       "action           0\n",
       "action_type      0\n",
       "action_detail    0\n",
       "device_type      0\n",
       "secs_elapsed     0\n",
       "dtype: int64"
      ]
     },
     "execution_count": 18,
     "metadata": {},
     "output_type": "execute_result"
    }
   ],
   "source": [
    "df_sessions.isna().sum()"
   ]
  },
  {
   "cell_type": "markdown",
   "metadata": {
    "heading_collapsed": true
   },
   "source": [
    "### 1.4 Change Type"
   ]
  },
  {
   "cell_type": "code",
   "execution_count": 19,
   "metadata": {
    "ExecuteTime": {
     "end_time": "2020-09-26T02:03:11.723678Z",
     "start_time": "2020-09-26T02:03:11.121520Z"
    },
    "hidden": true
   },
   "outputs": [],
   "source": [
    "# date_account_created\n",
    "df1['date_account_created'] = pd.to_datetime( df1['date_account_created'] )\n",
    "\n",
    "# timestamp_first_active\n",
    "df1['timestamp_first_active'] = pd.to_datetime( df1['timestamp_first_active'], format='%Y%m%d%H%M%S' )\n",
    "\n",
    "# date_first_booking\n",
    "df1['date_first_booking'] = pd.to_datetime( df1['date_first_booking'] )\n",
    "\n",
    "# age\n",
    "df1['age'] = df1['age'].astype( int )"
   ]
  },
  {
   "cell_type": "code",
   "execution_count": 20,
   "metadata": {
    "ExecuteTime": {
     "end_time": "2020-09-26T02:03:11.728963Z",
     "start_time": "2020-09-26T02:03:11.724857Z"
    },
    "hidden": true
   },
   "outputs": [
    {
     "data": {
      "text/plain": [
       "id                                 object\n",
       "date_account_created       datetime64[ns]\n",
       "timestamp_first_active     datetime64[ns]\n",
       "date_first_booking         datetime64[ns]\n",
       "gender                             object\n",
       "age                                 int64\n",
       "signup_method                      object\n",
       "signup_flow                         int64\n",
       "language                           object\n",
       "affiliate_channel                  object\n",
       "affiliate_provider                 object\n",
       "first_affiliate_tracked            object\n",
       "signup_app                         object\n",
       "first_device_type                  object\n",
       "first_browser                      object\n",
       "country_destination                object\n",
       "dtype: object"
      ]
     },
     "execution_count": 20,
     "metadata": {},
     "output_type": "execute_result"
    }
   ],
   "source": [
    "df1.dtypes"
   ]
  },
  {
   "cell_type": "markdown",
   "metadata": {},
   "source": [
    "### 1.5 Check Balanced Data"
   ]
  },
  {
   "cell_type": "code",
   "execution_count": 21,
   "metadata": {
    "ExecuteTime": {
     "end_time": "2020-09-26T02:03:11.972007Z",
     "start_time": "2020-09-26T02:03:11.730252Z"
    }
   },
   "outputs": [
    {
     "data": {
      "text/plain": [
       "NDF      0.579673\n",
       "US       0.294461\n",
       "other    0.048128\n",
       "FR       0.023623\n",
       "IT       0.013458\n",
       "GB       0.011066\n",
       "ES       0.010671\n",
       "CA       0.006707\n",
       "DE       0.005020\n",
       "NL       0.003621\n",
       "AU       0.002541\n",
       "PT       0.001032\n",
       "Name: country_destination, dtype: float64"
      ]
     },
     "execution_count": 21,
     "metadata": {},
     "output_type": "execute_result"
    }
   ],
   "source": [
    "df1['country_destination'].value_counts( normalize=True )"
   ]
  },
  {
   "cell_type": "markdown",
   "metadata": {},
   "source": [
    "### 1.6 Descriptive Analysis"
   ]
  },
  {
   "cell_type": "code",
   "execution_count": 22,
   "metadata": {
    "ExecuteTime": {
     "end_time": "2020-09-26T02:11:28.888608Z",
     "start_time": "2020-09-26T02:11:28.858503Z"
    }
   },
   "outputs": [],
   "source": [
    "num_attributes = df1.select_dtypes( include=['int64', 'float64'] )\n",
    "cat_attributes = df1.select_dtypes( exclude=['int64', 'float64', 'datetime64[ns]'] )\n",
    "time_attributes = df1.select_dtypes( include=['datetime64[ns]'] )"
   ]
  },
  {
   "cell_type": "markdown",
   "metadata": {},
   "source": [
    "#### 1.6.1 Numerical - Users"
   ]
  },
  {
   "cell_type": "code",
   "execution_count": 25,
   "metadata": {
    "ExecuteTime": {
     "end_time": "2020-09-26T02:18:39.818713Z",
     "start_time": "2020-09-26T02:18:39.702675Z"
    }
   },
   "outputs": [
    {
     "data": {
      "text/html": [
       "<div>\n",
       "<style scoped>\n",
       "    .dataframe tbody tr th:only-of-type {\n",
       "        vertical-align: middle;\n",
       "    }\n",
       "\n",
       "    .dataframe tbody tr th {\n",
       "        vertical-align: top;\n",
       "    }\n",
       "\n",
       "    .dataframe thead th {\n",
       "        text-align: right;\n",
       "    }\n",
       "</style>\n",
       "<table border=\"1\" class=\"dataframe\">\n",
       "  <thead>\n",
       "    <tr style=\"text-align: right;\">\n",
       "      <th></th>\n",
       "      <th>attributes</th>\n",
       "      <th>min</th>\n",
       "      <th>max</th>\n",
       "      <th>range</th>\n",
       "      <th>mean</th>\n",
       "      <th>median</th>\n",
       "      <th>std</th>\n",
       "      <th>skew</th>\n",
       "      <th>kurtosis</th>\n",
       "    </tr>\n",
       "  </thead>\n",
       "  <tbody>\n",
       "    <tr>\n",
       "      <th>0</th>\n",
       "      <td>age</td>\n",
       "      <td>1.0</td>\n",
       "      <td>2014.0</td>\n",
       "      <td>2013.0</td>\n",
       "      <td>49.183142</td>\n",
       "      <td>49.0</td>\n",
       "      <td>118.421689</td>\n",
       "      <td>16.333820</td>\n",
       "      <td>267.655434</td>\n",
       "    </tr>\n",
       "    <tr>\n",
       "      <th>1</th>\n",
       "      <td>signup_flow</td>\n",
       "      <td>0.0</td>\n",
       "      <td>25.0</td>\n",
       "      <td>25.0</td>\n",
       "      <td>3.151490</td>\n",
       "      <td>0.0</td>\n",
       "      <td>7.543915</td>\n",
       "      <td>2.287158</td>\n",
       "      <td>3.567794</td>\n",
       "    </tr>\n",
       "  </tbody>\n",
       "</table>\n",
       "</div>"
      ],
      "text/plain": [
       "    attributes  min     max   range       mean  median         std       skew  \\\n",
       "0          age  1.0  2014.0  2013.0  49.183142    49.0  118.421689  16.333820   \n",
       "1  signup_flow  0.0    25.0    25.0   3.151490     0.0    7.543915   2.287158   \n",
       "\n",
       "     kurtosis  \n",
       "0  267.655434  \n",
       "1    3.567794  "
      ]
     },
     "execution_count": 25,
     "metadata": {},
     "output_type": "execute_result"
    }
   ],
   "source": [
    "# Central Tendency - Mean, Median\n",
    "ct1 = pd.DataFrame( num_attributes.apply( np.mean ) ).T\n",
    "ct2 = pd.DataFrame( num_attributes.apply( np.median ) ).T\n",
    "\n",
    "# Dispersions - Std, Min, Max, Range, Skew, Kurtosis\n",
    "d1 = pd.DataFrame( num_attributes.apply( np.std ) ).T\n",
    "d2 = pd.DataFrame( num_attributes.apply( min ) ).T\n",
    "d3 = pd.DataFrame( num_attributes.apply( max ) ).T\n",
    "d4 = pd.DataFrame( num_attributes.apply( lambda x: x.max() - x.min() ) ).T\n",
    "d5 = pd.DataFrame( num_attributes.apply( lambda x: x.skew() ) ).T\n",
    "d6 = pd.DataFrame( num_attributes.apply( lambda x: x.kurtosis() ) ).T\n",
    "\n",
    "# Concatenated\n",
    "ct = pd.concat( [d2, d3, d4, ct1, ct2, d1, d5, d6] ).T.reset_index()\n",
    "ct.columns = ['attributes', 'min', 'max', 'range', 'mean', 'median', 'std', 'skew', 'kurtosis']\n",
    "ct"
   ]
  },
  {
   "cell_type": "code",
   "execution_count": null,
   "metadata": {},
   "outputs": [],
   "source": []
  },
  {
   "cell_type": "code",
   "execution_count": null,
   "metadata": {},
   "outputs": [],
   "source": []
  },
  {
   "cell_type": "code",
   "execution_count": null,
   "metadata": {},
   "outputs": [],
   "source": []
  },
  {
   "cell_type": "markdown",
   "metadata": {},
   "source": [
    "#### 1.6.2 Numerical - Sessions"
   ]
  },
  {
   "cell_type": "code",
   "execution_count": null,
   "metadata": {},
   "outputs": [],
   "source": []
  },
  {
   "cell_type": "code",
   "execution_count": null,
   "metadata": {},
   "outputs": [],
   "source": []
  },
  {
   "cell_type": "code",
   "execution_count": null,
   "metadata": {},
   "outputs": [],
   "source": []
  },
  {
   "cell_type": "code",
   "execution_count": null,
   "metadata": {},
   "outputs": [],
   "source": []
  },
  {
   "cell_type": "code",
   "execution_count": null,
   "metadata": {},
   "outputs": [],
   "source": []
  },
  {
   "cell_type": "markdown",
   "metadata": {
    "heading_collapsed": true
   },
   "source": [
    "## 2.0 Data Filtering"
   ]
  },
  {
   "cell_type": "code",
   "execution_count": 22,
   "metadata": {
    "ExecuteTime": {
     "end_time": "2020-09-24T02:51:37.331150Z",
     "start_time": "2020-09-24T02:51:37.117484Z"
    },
    "hidden": true
   },
   "outputs": [],
   "source": [
    "df2 = df1.copy()"
   ]
  },
  {
   "cell_type": "markdown",
   "metadata": {
    "ExecuteTime": {
     "end_time": "2020-09-02T03:37:17.382856Z",
     "start_time": "2020-09-02T03:37:17.379843Z"
    },
    "hidden": true
   },
   "source": [
    "### 2.1 Filtering Rows"
   ]
  },
  {
   "cell_type": "code",
   "execution_count": null,
   "metadata": {
    "hidden": true
   },
   "outputs": [],
   "source": []
  },
  {
   "cell_type": "markdown",
   "metadata": {
    "hidden": true
   },
   "source": [
    "### 2.2 Column Selection"
   ]
  },
  {
   "cell_type": "code",
   "execution_count": null,
   "metadata": {
    "hidden": true
   },
   "outputs": [],
   "source": []
  },
  {
   "cell_type": "markdown",
   "metadata": {
    "heading_collapsed": true
   },
   "source": [
    "## 3.0 Data Preparation"
   ]
  },
  {
   "cell_type": "code",
   "execution_count": 23,
   "metadata": {
    "ExecuteTime": {
     "end_time": "2020-09-24T02:51:37.597035Z",
     "start_time": "2020-09-24T02:51:37.335772Z"
    },
    "hidden": true
   },
   "outputs": [],
   "source": [
    "df3 = df2.copy()"
   ]
  },
  {
   "cell_type": "code",
   "execution_count": 24,
   "metadata": {
    "ExecuteTime": {
     "end_time": "2020-09-24T02:51:38.227056Z",
     "start_time": "2020-09-24T02:51:37.599127Z"
    },
    "hidden": true
   },
   "outputs": [],
   "source": [
    "# dummy variable\n",
    "df3_dummy = pd.get_dummies( df3.drop( ['id', 'country_destination'], axis=1 ) )\n",
    "\n",
    "# join id and country destination\n",
    "df3 = pd.concat( [df3[['id', 'country_destination']], df3_dummy], axis=1 )"
   ]
  },
  {
   "cell_type": "markdown",
   "metadata": {
    "heading_collapsed": true
   },
   "source": [
    "## 4.0 Feature Selection"
   ]
  },
  {
   "cell_type": "code",
   "execution_count": 25,
   "metadata": {
    "ExecuteTime": {
     "end_time": "2020-09-24T02:51:38.249041Z",
     "start_time": "2020-09-24T02:51:38.228640Z"
    },
    "hidden": true
   },
   "outputs": [],
   "source": [
    "cols_drop = ['date_account_created', 'timestamp_first_active', 'date_first_booking'] # original dates\n",
    "df4 = df3.drop( cols_drop, axis=1 )"
   ]
  },
  {
   "cell_type": "code",
   "execution_count": 26,
   "metadata": {
    "ExecuteTime": {
     "end_time": "2020-09-24T02:51:38.492846Z",
     "start_time": "2020-09-24T02:51:38.250473Z"
    },
    "hidden": true
   },
   "outputs": [],
   "source": [
    " X = df4.drop( 'country_destination', axis=1 )\n",
    "y = df4['country_destination'].copy()"
   ]
  },
  {
   "cell_type": "code",
   "execution_count": 27,
   "metadata": {
    "ExecuteTime": {
     "end_time": "2020-09-24T02:51:38.761034Z",
     "start_time": "2020-09-24T02:51:38.494447Z"
    },
    "hidden": true
   },
   "outputs": [],
   "source": [
    "# Split dataset into training and test\n",
    "X_train, X_test, y_train, y_test = ms.train_test_split( X, y, test_size=0.2, random_state=32 )"
   ]
  },
  {
   "cell_type": "markdown",
   "metadata": {},
   "source": [
    "## 5.0 Machine Learning Model"
   ]
  },
  {
   "cell_type": "code",
   "execution_count": 28,
   "metadata": {
    "ExecuteTime": {
     "end_time": "2020-09-24T02:51:38.898419Z",
     "start_time": "2020-09-24T02:51:38.762280Z"
    }
   },
   "outputs": [],
   "source": [
    "x_train = X_train.drop( 'id', axis=1 )\n",
    "x_test = X_test.drop( 'id', axis=1 )"
   ]
  },
  {
   "cell_type": "markdown",
   "metadata": {},
   "source": [
    "### 5.1 Baseline Model"
   ]
  },
  {
   "cell_type": "code",
   "execution_count": 29,
   "metadata": {
    "ExecuteTime": {
     "end_time": "2020-09-24T02:51:39.061012Z",
     "start_time": "2020-09-24T02:51:38.900862Z"
    }
   },
   "outputs": [],
   "source": [
    "import random"
   ]
  },
  {
   "cell_type": "code",
   "execution_count": 30,
   "metadata": {
    "ExecuteTime": {
     "end_time": "2020-09-24T02:51:39.424440Z",
     "start_time": "2020-09-24T02:51:39.066573Z"
    }
   },
   "outputs": [
    {
     "data": {
      "text/plain": [
       "41478"
      ]
     },
     "execution_count": 30,
     "metadata": {},
     "output_type": "execute_result"
    }
   ],
   "source": [
    "country_destination_list = df1['country_destination'].drop_duplicates().sort_values().tolist()\n",
    "k_num = y_test.shape[0]\n",
    "country_destination_weights = df1['country_destination'].value_counts( normalize=True ).sort_index().tolist()\n",
    "\n",
    "# Random model\n",
    "yhat_random = random.choices( population=country_destination_list, \n",
    "                             weights=country_destination_weights, \n",
    "                             k=k_num)\n",
    "len( yhat_random )"
   ]
  },
  {
   "cell_type": "markdown",
   "metadata": {
    "heading_collapsed": true
   },
   "source": [
    "#### 5.1.1 Baseline Model Performance"
   ]
  },
  {
   "cell_type": "code",
   "execution_count": 31,
   "metadata": {
    "ExecuteTime": {
     "end_time": "2020-09-24T02:51:41.398529Z",
     "start_time": "2020-09-24T02:51:39.425709Z"
    },
    "hidden": true
   },
   "outputs": [
    {
     "name": "stdout",
     "output_type": "stream",
     "text": [
      "Accuracy: 0.42793770191426783\n",
      "Balanced Accuracy: 0.08428661732694397\n",
      "Kappa Score: 0.0019941752595137308\n",
      "              precision    recall  f1-score   support\n",
      "\n",
      "          AU       0.00      0.00      0.00       111\n",
      "          CA       0.01      0.01      0.01       281\n",
      "          DE       0.01      0.01      0.01       215\n",
      "          ES       0.01      0.01      0.01       428\n",
      "          FR       0.03      0.03      0.03      1021\n",
      "          GB       0.00      0.00      0.00       426\n",
      "          IT       0.03      0.02      0.02       570\n",
      "         NDF       0.58      0.58      0.58     23996\n",
      "          NL       0.01      0.01      0.01       146\n",
      "          PT       0.00      0.00      0.00        48\n",
      "          US       0.30      0.30      0.30     12280\n",
      "       other       0.05      0.05      0.05      1956\n",
      "\n",
      "    accuracy                           0.43     41478\n",
      "   macro avg       0.08      0.08      0.08     41478\n",
      "weighted avg       0.43      0.43      0.43     41478\n",
      "\n"
     ]
    },
    {
     "data": {
      "text/plain": [
       "<AxesSubplot:title={'center':'Confusion Matrix'}, xlabel='Predicted label', ylabel='True label'>"
      ]
     },
     "execution_count": 31,
     "metadata": {},
     "output_type": "execute_result"
    },
    {
     "data": {
      "image/png": "[encoded data removed]",
      "text/plain": [
       "<Figure size 864x864 with 2 Axes>"
      ]
     },
     "metadata": {
      "needs_background": "light"
     },
     "output_type": "display_data"
    }
   ],
   "source": [
    "# Accuracy\n",
    "acc_random = m.accuracy_score( y_test, yhat_random )\n",
    "print( 'Accuracy: {}'.format( acc_random ) )\n",
    "\n",
    "# Balanced Accuracy\n",
    "balanced_accuracy_random = m.balanced_accuracy_score( y_test, yhat_random )\n",
    "print( 'Balanced Accuracy: {}'.format( balanced_accuracy_random ) )\n",
    "\n",
    "# Kappa Metrics\n",
    "kappa_random = m.cohen_kappa_score( y_test, yhat_random )\n",
    "print( 'Kappa Score: {}'.format( kappa_random ) )\n",
    "\n",
    "# Classification Report\n",
    "print( m.classification_report( y_test, yhat_random ) )\n",
    "\n",
    "# Confusion Matrix\n",
    "mt.plot_confusion_matrix( y_test, yhat_random, normalize=False, figsize=(12, 12) )\n"
   ]
  },
  {
   "cell_type": "markdown",
   "metadata": {},
   "source": [
    "### 5.2 Neural Network - MLP"
   ]
  },
  {
   "cell_type": "code",
   "execution_count": 32,
   "metadata": {
    "ExecuteTime": {
     "end_time": "2020-09-24T02:51:41.438560Z",
     "start_time": "2020-09-24T02:51:41.399657Z"
    }
   },
   "outputs": [],
   "source": [
    "ohe = pp.OneHotEncoder()\n",
    "y_train_nn = ohe.fit_transform( y_train.values.reshape( -1, 1 ) ).toarray()"
   ]
  },
  {
   "cell_type": "code",
   "execution_count": 33,
   "metadata": {
    "ExecuteTime": {
     "end_time": "2020-09-24T02:57:10.107019Z",
     "start_time": "2020-09-24T02:51:41.439938Z"
    }
   },
   "outputs": [
    {
     "name": "stdout",
     "output_type": "stream",
     "text": [
      "Epoch 1/100\n",
      "5185/5185 [==============================] - 3s 502us/step - loss: 1.2387 - accuracy: 0.5893\n",
      "Epoch 2/100\n",
      "5185/5185 [==============================] - 3s 485us/step - loss: 1.1520 - accuracy: 0.6097\n",
      "Epoch 3/100\n",
      "5185/5185 [==============================] - 3s 488us/step - loss: 1.1171 - accuracy: 0.6173\n",
      "Epoch 4/100\n",
      "5185/5185 [==============================] - 3s 527us/step - loss: 1.0977 - accuracy: 0.6187\n",
      "Epoch 5/100\n",
      "5185/5185 [==============================] - 3s 487us/step - loss: 1.0900 - accuracy: 0.6196\n",
      "Epoch 6/100\n",
      "5185/5185 [==============================] - 3s 494us/step - loss: 1.0883 - accuracy: 0.6198\n",
      "Epoch 7/100\n",
      "5185/5185 [==============================] - 3s 630us/step - loss: 1.0862 - accuracy: 0.6206\n",
      "Epoch 8/100\n",
      "5185/5185 [==============================] - 3s 631us/step - loss: 1.0853 - accuracy: 0.6207\n",
      "Epoch 9/100\n",
      "5185/5185 [==============================] - 3s 624us/step - loss: 1.0842 - accuracy: 0.6213\n",
      "Epoch 10/100\n",
      "5185/5185 [==============================] - 3s 619us/step - loss: 1.0835 - accuracy: 0.6216\n",
      "Epoch 11/100\n",
      "5185/5185 [==============================] - 3s 616us/step - loss: 1.0840 - accuracy: 0.6223\n",
      "Epoch 12/100\n",
      "5185/5185 [==============================] - 3s 611us/step - loss: 1.0825 - accuracy: 0.6221\n",
      "Epoch 13/100\n",
      "5185/5185 [==============================] - 3s 625us/step - loss: 1.0819 - accuracy: 0.6221\n",
      "Epoch 14/100\n",
      "5185/5185 [==============================] - 3s 619us/step - loss: 1.0813 - accuracy: 0.6232\n",
      "Epoch 15/100\n",
      "5185/5185 [==============================] - 3s 610us/step - loss: 1.0806 - accuracy: 0.6233\n",
      "Epoch 16/100\n",
      "5185/5185 [==============================] - 3s 634us/step - loss: 1.0807 - accuracy: 0.6221\n",
      "Epoch 17/100\n",
      "5185/5185 [==============================] - 3s 622us/step - loss: 1.0806 - accuracy: 0.6220\n",
      "Epoch 18/100\n",
      "5185/5185 [==============================] - 3s 591us/step - loss: 1.0800 - accuracy: 0.6223\n",
      "Epoch 19/100\n",
      "5185/5185 [==============================] - 3s 663us/step - loss: 1.0799 - accuracy: 0.6231\n",
      "Epoch 20/100\n",
      "5185/5185 [==============================] - 4s 839us/step - loss: 1.0793 - accuracy: 0.6229\n",
      "Epoch 21/100\n",
      "5185/5185 [==============================] - 3s 635us/step - loss: 1.0788 - accuracy: 0.6226\n",
      "Epoch 22/100\n",
      "5185/5185 [==============================] - 3s 605us/step - loss: 1.0779 - accuracy: 0.6232\n",
      "Epoch 23/100\n",
      "5185/5185 [==============================] - 3s 671us/step - loss: 1.0781 - accuracy: 0.6234\n",
      "Epoch 24/100\n",
      "5185/5185 [==============================] - 4s 704us/step - loss: 1.0777 - accuracy: 0.6236\n",
      "Epoch 25/100\n",
      "5185/5185 [==============================] - 3s 662us/step - loss: 1.0776 - accuracy: 0.6236\n",
      "Epoch 26/100\n",
      "5185/5185 [==============================] - 3s 620us/step - loss: 1.0775 - accuracy: 0.6235\n",
      "Epoch 27/100\n",
      "5185/5185 [==============================] - 3s 657us/step - loss: 1.0771 - accuracy: 0.6229\n",
      "Epoch 28/100\n",
      "5185/5185 [==============================] - 3s 656us/step - loss: 1.0772 - accuracy: 0.6236\n",
      "Epoch 29/100\n",
      "5185/5185 [==============================] - 3s 661us/step - loss: 1.0767 - accuracy: 0.6231\n",
      "Epoch 30/100\n",
      "5185/5185 [==============================] - 3s 639us/step - loss: 1.0763 - accuracy: 0.6241\n",
      "Epoch 31/100\n",
      "5185/5185 [==============================] - 3s 650us/step - loss: 1.0763 - accuracy: 0.6229\n",
      "Epoch 32/100\n",
      "5185/5185 [==============================] - 3s 620us/step - loss: 1.0759 - accuracy: 0.6238\n",
      "Epoch 33/100\n",
      "5185/5185 [==============================] - 3s 615us/step - loss: 1.0758 - accuracy: 0.6244\n",
      "Epoch 34/100\n",
      "5185/5185 [==============================] - 3s 619us/step - loss: 1.0755 - accuracy: 0.6249\n",
      "Epoch 35/100\n",
      "5185/5185 [==============================] - 3s 612us/step - loss: 1.0759 - accuracy: 0.6238\n",
      "Epoch 36/100\n",
      "5185/5185 [==============================] - 3s 630us/step - loss: 1.0753 - accuracy: 0.6247\n",
      "Epoch 37/100\n",
      "5185/5185 [==============================] - 3s 614us/step - loss: 1.0751 - accuracy: 0.6238\n",
      "Epoch 38/100\n",
      "5185/5185 [==============================] - 3s 617us/step - loss: 1.0743 - accuracy: 0.6248\n",
      "Epoch 39/100\n",
      "5185/5185 [==============================] - 3s 614us/step - loss: 1.0744 - accuracy: 0.6241\n",
      "Epoch 40/100\n",
      "5185/5185 [==============================] - 3s 617us/step - loss: 1.0741 - accuracy: 0.6243\n",
      "Epoch 41/100\n",
      "5185/5185 [==============================] - 3s 618us/step - loss: 1.0741 - accuracy: 0.6238\n",
      "Epoch 42/100\n",
      "5185/5185 [==============================] - 3s 621us/step - loss: 1.0739 - accuracy: 0.6246\n",
      "Epoch 43/100\n",
      "5185/5185 [==============================] - 3s 617us/step - loss: 1.0737 - accuracy: 0.6244\n",
      "Epoch 44/100\n",
      "5185/5185 [==============================] - 3s 626us/step - loss: 1.0737 - accuracy: 0.6239\n",
      "Epoch 45/100\n",
      "5185/5185 [==============================] - 3s 617us/step - loss: 1.0733 - accuracy: 0.6248\n",
      "Epoch 46/100\n",
      "5185/5185 [==============================] - 3s 612us/step - loss: 1.0733 - accuracy: 0.6246\n",
      "Epoch 47/100\n",
      "5185/5185 [==============================] - 3s 631us/step - loss: 1.0732 - accuracy: 0.6241\n",
      "Epoch 48/100\n",
      "5185/5185 [==============================] - 3s 623us/step - loss: 1.0734 - accuracy: 0.6242\n",
      "Epoch 49/100\n",
      "5185/5185 [==============================] - 3s 615us/step - loss: 1.0730 - accuracy: 0.6248\n",
      "Epoch 50/100\n",
      "5185/5185 [==============================] - 3s 612us/step - loss: 1.0732 - accuracy: 0.6245\n",
      "Epoch 51/100\n",
      "5185/5185 [==============================] - 3s 652us/step - loss: 1.0729 - accuracy: 0.6243\n",
      "Epoch 52/100\n",
      "5185/5185 [==============================] - 4s 692us/step - loss: 1.0729 - accuracy: 0.6249\n",
      "Epoch 53/100\n",
      "5185/5185 [==============================] - 3s 620us/step - loss: 1.0728 - accuracy: 0.6245\n",
      "Epoch 54/100\n",
      "5185/5185 [==============================] - 3s 617us/step - loss: 1.0726 - accuracy: 0.6256\n",
      "Epoch 55/100\n",
      "5185/5185 [==============================] - 3s 611us/step - loss: 1.0726 - accuracy: 0.6244\n",
      "Epoch 56/100\n",
      "5185/5185 [==============================] - 3s 615us/step - loss: 1.0723 - accuracy: 0.6253\n",
      "Epoch 57/100\n",
      "5185/5185 [==============================] - 3s 613us/step - loss: 1.0718 - accuracy: 0.6257\n",
      "Epoch 58/100\n",
      "5185/5185 [==============================] - 3s 634us/step - loss: 1.0728 - accuracy: 0.6257\n",
      "Epoch 59/100\n",
      "5185/5185 [==============================] - 3s 617us/step - loss: 1.0722 - accuracy: 0.6250\n",
      "Epoch 60/100\n",
      "5185/5185 [==============================] - 3s 612us/step - loss: 1.0717 - accuracy: 0.6251\n",
      "Epoch 61/100\n",
      "5185/5185 [==============================] - 3s 612us/step - loss: 1.0718 - accuracy: 0.6247\n",
      "Epoch 62/100\n",
      "5185/5185 [==============================] - 3s 616us/step - loss: 1.0718 - accuracy: 0.6248\n",
      "Epoch 63/100\n",
      "5185/5185 [==============================] - 3s 619us/step - loss: 1.0716 - accuracy: 0.6247\n",
      "Epoch 64/100\n",
      "5185/5185 [==============================] - 3s 619us/step - loss: 1.0720 - accuracy: 0.6244\n",
      "Epoch 65/100\n",
      "5185/5185 [==============================] - 3s 606us/step - loss: 1.0719 - accuracy: 0.6250\n",
      "Epoch 66/100\n",
      "5185/5185 [==============================] - 3s 610us/step - loss: 1.0714 - accuracy: 0.6246\n",
      "Epoch 67/100\n",
      "5185/5185 [==============================] - 3s 613us/step - loss: 1.0716 - accuracy: 0.6251\n",
      "Epoch 68/100\n",
      "5185/5185 [==============================] - 3s 613us/step - loss: 1.0710 - accuracy: 0.6260\n",
      "Epoch 69/100\n",
      "5185/5185 [==============================] - 3s 626us/step - loss: 1.0710 - accuracy: 0.62490s - l\n",
      "Epoch 70/100\n",
      "5185/5185 [==============================] - 3s 615us/step - loss: 1.0713 - accuracy: 0.6249\n",
      "Epoch 71/100\n",
      "5185/5185 [==============================] - 3s 612us/step - loss: 1.0714 - accuracy: 0.6253\n",
      "Epoch 72/100\n",
      "5185/5185 [==============================] - 3s 610us/step - loss: 1.0710 - accuracy: 0.6255\n",
      "Epoch 73/100\n",
      "5185/5185 [==============================] - 3s 625us/step - loss: 1.0709 - accuracy: 0.6257\n",
      "Epoch 74/100\n",
      "5185/5185 [==============================] - 3s 617us/step - loss: 1.0708 - accuracy: 0.6254\n",
      "Epoch 75/100\n",
      "5185/5185 [==============================] - 3s 613us/step - loss: 1.0706 - accuracy: 0.6258\n",
      "Epoch 76/100\n",
      "5185/5185 [==============================] - 3s 611us/step - loss: 1.0711 - accuracy: 0.6261\n",
      "Epoch 77/100\n",
      "5185/5185 [==============================] - 3s 611us/step - loss: 1.0718 - accuracy: 0.6254\n",
      "Epoch 78/100\n",
      "5185/5185 [==============================] - 3s 612us/step - loss: 1.0702 - accuracy: 0.6250\n",
      "Epoch 79/100\n",
      "5185/5185 [==============================] - 3s 610us/step - loss: 1.0706 - accuracy: 0.6253\n",
      "Epoch 80/100\n",
      "5185/5185 [==============================] - 4s 738us/step - loss: 1.0705 - accuracy: 0.6256\n",
      "Epoch 81/100\n",
      "5185/5185 [==============================] - 3s 651us/step - loss: 1.0702 - accuracy: 0.6257\n",
      "Epoch 82/100\n",
      "5185/5185 [==============================] - 3s 644us/step - loss: 1.0704 - accuracy: 0.6254\n",
      "Epoch 83/100\n",
      "5185/5185 [==============================] - 3s 636us/step - loss: 1.0703 - accuracy: 0.6254\n",
      "Epoch 84/100\n",
      "5185/5185 [==============================] - 3s 667us/step - loss: 1.0705 - accuracy: 0.6256\n",
      "Epoch 85/100\n",
      "5185/5185 [==============================] - 3s 665us/step - loss: 1.0703 - accuracy: 0.6247\n",
      "Epoch 86/100\n",
      "5185/5185 [==============================] - 3s 636us/step - loss: 1.0702 - accuracy: 0.6257\n",
      "Epoch 87/100\n",
      "5185/5185 [==============================] - 4s 677us/step - loss: 1.0700 - accuracy: 0.6254\n",
      "Epoch 88/100\n",
      "5185/5185 [==============================] - 3s 636us/step - loss: 1.0702 - accuracy: 0.6252\n",
      "Epoch 89/100\n",
      "5185/5185 [==============================] - 3s 637us/step - loss: 1.0705 - accuracy: 0.6253\n",
      "Epoch 90/100\n",
      "5185/5185 [==============================] - 3s 627us/step - loss: 1.0703 - accuracy: 0.6258\n",
      "Epoch 91/100\n",
      "5185/5185 [==============================] - 3s 647us/step - loss: 1.0698 - accuracy: 0.6258\n",
      "Epoch 92/100\n",
      "5185/5185 [==============================] - 3s 636us/step - loss: 1.0702 - accuracy: 0.6251\n",
      "Epoch 93/100\n",
      "5185/5185 [==============================] - 3s 629us/step - loss: 1.0702 - accuracy: 0.6258\n",
      "Epoch 94/100\n",
      "5185/5185 [==============================] - 3s 629us/step - loss: 1.0698 - accuracy: 0.6254\n",
      "Epoch 95/100\n",
      "5185/5185 [==============================] - 3s 629us/step - loss: 1.0696 - accuracy: 0.6257\n",
      "Epoch 96/100\n",
      "5185/5185 [==============================] - 3s 663us/step - loss: 1.0700 - accuracy: 0.6258\n",
      "Epoch 97/100\n",
      "5185/5185 [==============================] - 4s 688us/step - loss: 1.0697 - accuracy: 0.6250\n",
      "Epoch 98/100\n",
      "5185/5185 [==============================] - 4s 698us/step - loss: 1.0691 - accuracy: 0.6261\n",
      "Epoch 99/100\n",
      "5185/5185 [==============================] - 3s 670us/step - loss: 1.0695 - accuracy: 0.6259\n",
      "Epoch 100/100\n",
      "5185/5185 [==============================] - 3s 655us/step - loss: 1.0694 - accuracy: 0.6253\n"
     ]
    },
    {
     "data": {
      "text/plain": [
       "<tensorflow.python.keras.callbacks.History at 0x7f45bfaf4a90>"
      ]
     },
     "execution_count": 33,
     "metadata": {},
     "output_type": "execute_result"
    }
   ],
   "source": [
    "# model definition\n",
    "model = ml.Sequential()\n",
    "model.add( l.Dense( 128, input_dim=x_train.shape[1], activation='relu' ) )\n",
    "model.add( l.Dense( 12, activation='softmax') )\n",
    "\n",
    "# model compile\n",
    "model.compile( loss='categorical_crossentropy', optimizer='adam', metrics=['accuracy'] )\n",
    "\n",
    "# train model\n",
    "model.fit( x_train, y_train_nn, epochs=100 )"
   ]
  },
  {
   "cell_type": "markdown",
   "metadata": {},
   "source": [
    "#### 5.2.1 NN Performance"
   ]
  },
  {
   "cell_type": "code",
   "execution_count": 34,
   "metadata": {
    "ExecuteTime": {
     "end_time": "2020-09-24T02:57:10.716855Z",
     "start_time": "2020-09-24T02:57:10.108456Z"
    }
   },
   "outputs": [],
   "source": [
    "# prediction\n",
    "pred_nn = model.predict( x_test )\n",
    "\n",
    "# invert prediction\n",
    "yhat_nn = ohe.inverse_transform( pred_nn )\n",
    "\n",
    "# prediction prepare\n",
    "y_test_nn = y_test.to_numpy()\n",
    "yhat_nn = yhat_nn.reshape( 1, -1 )[0]"
   ]
  },
  {
   "cell_type": "code",
   "execution_count": 35,
   "metadata": {
    "ExecuteTime": {
     "end_time": "2020-09-24T02:57:13.191808Z",
     "start_time": "2020-09-24T02:57:10.720230Z"
    }
   },
   "outputs": [
    {
     "name": "stdout",
     "output_type": "stream",
     "text": [
      "Accuracy: 0.6262114856068277\n",
      "Balanced Accuracy: 0.1070473562459469\n",
      "Kappa Score: 0.2379464968013203\n"
     ]
    },
    {
     "name": "stderr",
     "output_type": "stream",
     "text": [
      "/home/victorpereira/.pyenv/versions/3.8.0/envs/airbnb_predict_first_booking/lib/python3.8/site-packages/sklearn/metrics/_classification.py:1221: UndefinedMetricWarning: Precision and F-score are ill-defined and being set to 0.0 in labels with no predicted samples. Use `zero_division` parameter to control this behavior.\n",
      "  _warn_prf(average, modifier, msg_start, len(result))\n"
     ]
    },
    {
     "name": "stdout",
     "output_type": "stream",
     "text": [
      "              precision    recall  f1-score   support\n",
      "\n",
      "          AU       0.00      0.00      0.00       111\n",
      "          CA       0.00      0.00      0.00       281\n",
      "          DE       0.00      0.00      0.00       215\n",
      "          ES       0.00      0.00      0.00       428\n",
      "          FR       0.00      0.00      0.00      1021\n",
      "          GB       0.00      0.00      0.00       426\n",
      "          IT       0.00      0.00      0.00       570\n",
      "         NDF       0.67      0.87      0.75     23996\n",
      "          NL       0.00      0.00      0.00       146\n",
      "          PT       0.00      0.00      0.00        48\n",
      "          US       0.50      0.41      0.45     12280\n",
      "       other       0.00      0.00      0.00      1956\n",
      "\n",
      "    accuracy                           0.63     41478\n",
      "   macro avg       0.10      0.11      0.10     41478\n",
      "weighted avg       0.53      0.63      0.57     41478\n",
      "\n"
     ]
    },
    {
     "data": {
      "text/plain": [
       "<AxesSubplot:title={'center':'Confusion Matrix'}, xlabel='Predicted label', ylabel='True label'>"
      ]
     },
     "execution_count": 35,
     "metadata": {},
     "output_type": "execute_result"
    },
    {
     "data": {
      "image/png": "[encoded data removed]",
      "text/plain": [
       "<Figure size 864x864 with 2 Axes>"
      ]
     },
     "metadata": {
      "needs_background": "light"
     },
     "output_type": "display_data"
    }
   ],
   "source": [
    "# Accuracy\n",
    "acc_nn = m.accuracy_score( y_test_nn, yhat_nn )\n",
    "print( 'Accuracy: {}'.format( acc_nn ) )\n",
    "\n",
    "# Balanced Accuracy\n",
    "balanced_accuracy_nn = m.balanced_accuracy_score( y_test_nn, yhat_nn )\n",
    "print( 'Balanced Accuracy: {}'.format( balanced_accuracy_nn ) )\n",
    "\n",
    "# Kappa Metrics\n",
    "kappa_nn = m.cohen_kappa_score( y_test_nn, yhat_nn )\n",
    "print( 'Kappa Score: {}'.format( kappa_nn ) )\n",
    "\n",
    "# Classification Report\n",
    "print( m.classification_report( y_test_nn, yhat_nn ) )\n",
    "\n",
    "# Confusion Matrix\n",
    "mt.plot_confusion_matrix( y_test_nn, yhat_nn, normalize=False, figsize=(12, 12) )\n"
   ]
  },
  {
   "cell_type": "markdown",
   "metadata": {},
   "source": [
    "#### 5.2.1 NN Performance - Cross-Validation"
   ]
  },
  {
   "cell_type": "code",
   "execution_count": 37,
   "metadata": {
    "ExecuteTime": {
     "end_time": "2020-09-24T03:17:20.346893Z",
     "start_time": "2020-09-24T02:57:31.453410Z"
    }
   },
   "outputs": [
    {
     "name": "stdout",
     "output_type": "stream",
     "text": [
      "Fold Number:1/5\n",
      "Fold Number:2/5\n",
      "Fold Number:3/5\n",
      "Fold Number:4/5\n",
      "Fold Number:5/5\n"
     ]
    }
   ],
   "source": [
    "# generate k-fold\n",
    "num_folds = 5\n",
    "kfold = ms.StratifiedKFold( n_splits=num_folds, shuffle=True, random_state=32 )\n",
    "\n",
    "balanced_acc_list = []\n",
    "kappa_acc_list = []\n",
    "\n",
    "i = 1\n",
    "for train_ix, val_ix in kfold.split( x_train, y_train ):\n",
    "    print( 'Fold Number:{}/{}'.format( i, num_folds ) )\n",
    "    \n",
    "    # get fold\n",
    "    x_train_fold = x_train.iloc[train_ix]\n",
    "    y_train_fold = y_train.iloc[train_ix]\n",
    "    \n",
    "    x_val_fold = x_train.iloc[val_ix]\n",
    "    y_val_fold = y_train.iloc[val_ix]\n",
    "    \n",
    "    # target hot-encoder\n",
    "    ohe = pp.OneHotEncoder()\n",
    "    y_train_fold_nn = ohe.fit_transform( y_train_fold.values.reshape( -1, 1 ) ).toarray()\n",
    "\n",
    "    # model definition\n",
    "    model = ml.Sequential()\n",
    "    model.add( l.Dense( 256, input_dim=x_train.shape[1], activation='relu') )\n",
    "    model.add( l.Dense( 12, activation='softmax' ) )\n",
    "\n",
    "    # compile model\n",
    "    model.compile( loss='categorical_crossentropy', optimizer='adam', metrics=['accuracy'] )\n",
    "\n",
    "    # training model\n",
    "    model.fit( x_train_fold, y_train_fold_nn, epochs=100, batch_size=32, verbose=0 )\n",
    "\n",
    "    # prediction\n",
    "    pred_nn = model.predict( x_val_fold )\n",
    "    yhat_nn = ohe.inverse_transform( pred_nn )\n",
    "    \n",
    "    # prepare data\n",
    "    y_test_nn = y_val_fold.to_numpy()\n",
    "    yhat_nn = yhat_nn.reshape( 1, -1 )[0]\n",
    "\n",
    "    # metrics\n",
    "    ## Balanced Accuracy\n",
    "    balanced_acc_nn = m.balanced_accuracy_score( y_test_nn, yhat_nn )\n",
    "    balanced_acc_list.append( balanced_acc_nn )\n",
    "    \n",
    "    ## Kappa Metrics\n",
    "    kappa_acc_nn = m.cohen_kappa_score( y_test_nn, yhat_nn )\n",
    "    kappa_acc_list.append( kappa_acc_nn )\n",
    "    \n",
    "    i += 1"
   ]
  },
  {
   "cell_type": "code",
   "execution_count": 38,
   "metadata": {
    "ExecuteTime": {
     "end_time": "2020-09-24T03:17:20.352661Z",
     "start_time": "2020-09-24T03:17:20.348349Z"
    }
   },
   "outputs": [
    {
     "name": "stdout",
     "output_type": "stream",
     "text": [
      "Avg Balanced Accuracy: 0.11 +/- 0.0013\n",
      "Avg Kappa Accuracy: 0.2301 +/- 0.0098\n"
     ]
    }
   ],
   "source": [
    "print( 'Avg Balanced Accuracy: {} +/- {}'.format( np.round( np.mean( balanced_acc_list ), 2 ), \n",
    "                                                 np.round( np.std( balanced_acc_list ), 4 ) ) )\n",
    "print( 'Avg Kappa Accuracy: {} +/- {}'.format( np.round( np.mean( kappa_acc_list ), 4 ), \n",
    "                                              np.round( np.std( kappa_acc_list ), 4 ) ) )"
   ]
  },
  {
   "cell_type": "code",
   "execution_count": null,
   "metadata": {},
   "outputs": [],
   "source": []
  }
 ],
 "metadata": {
  "kernelspec": {
   "display_name": "Python 3",
   "language": "python",
   "name": "python3"
  },
  "language_info": {
   "codemirror_mode": {
    "name": "ipython",
    "version": 3
   },
   "file_extension": ".py",
   "mimetype": "text/x-python",
   "name": "python",
   "nbconvert_exporter": "python",
   "pygments_lexer": "ipython3",
   "version": "3.8.0"
  }
 },
 "nbformat": 4,
 "nbformat_minor": 4
}
